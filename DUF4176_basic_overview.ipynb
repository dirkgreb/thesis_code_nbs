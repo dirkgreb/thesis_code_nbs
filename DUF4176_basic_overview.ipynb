{
 "cells": [
  {
   "cell_type": "code",
   "execution_count": 1,
   "metadata": {},
   "outputs": [],
   "source": [
    "import csv\n",
    "import glob\n",
    "import os\n",
    "import pandas as pd\n",
    "import matplotlib.pyplot as plt\n",
    "import re"
   ]
  },
  {
   "cell_type": "markdown",
   "metadata": {},
   "source": [
    "# This notebook demonstrates taxonomic calculations for DUF4176s\n"
   ]
  },
  {
   "cell_type": "code",
   "execution_count": 2,
   "metadata": {},
   "outputs": [
    {
     "name": "stderr",
     "output_type": "stream",
     "text": [
      "/Users/dirk/miniconda3/envs/af2_tools/lib/python3.9/site-packages/openpyxl/styles/stylesheet.py:226: UserWarning: Workbook contains no default style, apply openpyxl's default\n",
      "  warn(\"Workbook contains no default style, apply openpyxl's default\")\n"
     ]
    },
    {
     "name": "stdout",
     "output_type": "stream",
     "text": [
      "Full Dataset:\n",
      "2399\n",
      "\n",
      "Not fragment Dataset:\n",
      "2355\n",
      "\n",
      "No unkown taxons:\n",
      "2270\n",
      "\n",
      "Bacteria only:\n",
      "2265\n",
      "\n",
      "Percent Left unfiltered: 94.41433930804502 \n",
      "\n",
      "Percent not caution: 26.93156732891832\n",
      "Percent caution 73.06843267108168\n"
     ]
    },
    {
     "name": "stderr",
     "output_type": "stream",
     "text": [
      "/var/folders/8v/vvcy5rtx1pd33q_5wmhd058w0000gn/T/ipykernel_51416/3899664725.py:14: FutureWarning: The default value of regex will change from True to False in a future version.\n",
      "  taxonomic_ranks = taxonomic_ranks.apply(lambda x: x.str.replace(regex_v, ''))\n"
     ]
    }
   ],
   "source": [
    "odf = pd.read_excel('input_files/uniprotkb_DUF4176_2023_07_25.xlsx')\n",
    "\n",
    "print(f'Full Dataset:\\n{len(odf)}\\n')\n",
    "\n",
    "# remove fragments\n",
    "udf = odf[odf['Fragment'] != 'fragment']\n",
    "print(f'Not fragment Dataset:\\n{len(udf)}\\n')\n",
    "\n",
    "# make taxonomic lineage usable\n",
    "taxonomic_ranks = udf['Taxonomic lineage'].str.split(', ', expand=True)\n",
    "taxonomic_ranks.drop(columns=[0,9,10], inplace=True)\n",
    "taxonomic_ranks.columns = ['kingdom', 'clade', 'phylum', 'class', 'order', 'family', 'genus', 'species']\n",
    "regex_v = r'\\s*\\([^)]*\\)'\n",
    "taxonomic_ranks = taxonomic_ranks.apply(lambda x: x.str.replace(regex_v, ''))\n",
    "udf = pd.concat([udf, taxonomic_ranks], axis=1)\n",
    "\n",
    "\n",
    "udf = udf.dropna(subset=['order', 'family', 'genus'],how='any')\n",
    "\n",
    "print(f'No unkown taxons:\\n{len(udf)}\\n')\n",
    "# bacteria data  only\n",
    "bdf = udf[udf['kingdom'] == 'Bacteria']\n",
    "print(f'Bacteria only:\\n{len(bdf)}\\n')\n",
    "print(f'Percent Left unfiltered: {len(bdf)/len(odf)*100} \\n')\n",
    "\n",
    "not_caution = bdf[bdf['Caution'].isna()]\n",
    "print(f'Percent not caution: {len(not_caution)/len(bdf)*100}')\n",
    "print(f\"Percent caution {100 - (len(not_caution)/len(bdf)*100)}\")\n",
    "\n",
    "# write bdf out to csv\n",
    "bdf.to_csv('input_files/duf4176_bacteria_uniprot.csv', index=False)\n",
    "\n",
    "# # Write out accessions with no caution -> see if alignments are better \n",
    "# not_caution['Entry'].to_csv('phylo_export/duf4176_bacteria_not_caution.txt', index=False, header=False)"
   ]
  },
  {
   "cell_type": "markdown",
   "metadata": {},
   "source": [
    "# Basic Phylogenetic Info"
   ]
  },
  {
   "cell_type": "markdown",
   "metadata": {},
   "source": [
    "## Examine whole dataset"
   ]
  },
  {
   "cell_type": "code",
   "execution_count": 3,
   "metadata": {},
   "outputs": [
    {
     "name": "stdout",
     "output_type": "stream",
     "text": [
      "\n",
      "kingdom counts and percentages:\n",
      "          Counts  Percentages\n",
      "Bacteria    2265        100.0\n",
      "\n",
      "clade counts and percentages:\n",
      "                     Counts  Percentages\n",
      "Terrabacteria group    2230    98.454746\n",
      "FCB group                17     0.750552\n",
      "Pseudomonadota           15     0.662252\n",
      "Fusobacteriota            3     0.132450\n",
      "\n",
      "phylum counts and percentages:\n",
      "                                       Counts  Percentages\n",
      "Bacillota                                2155    95.143488\n",
      "Actinomycetota                             70     3.090508\n",
      "Bacteroidetes/Chlorobi group               15     0.662252\n",
      "Gammaproteobacteria                        12     0.529801\n",
      "Fusobacteriia                               3     0.132450\n",
      "Mycoplasmatota                              3     0.132450\n",
      "Alphaproteobacteria                         2     0.088300\n",
      "Fibrobacterota                              2     0.088300\n",
      "Deinococcota                                1     0.044150\n",
      "Betaproteobacteria                          1     0.044150\n",
      "Cyanobacteriota/Melainabacteria group       1     0.044150\n"
     ]
    }
   ],
   "source": [
    "def print_counts(df, column):\n",
    "    counts = df[f'{column}'].value_counts()\n",
    "    percentages = df[f'{column}'].value_counts(normalize=True)\n",
    "\n",
    "    result = pd.concat([counts, percentages * 100], axis=1, keys=['Counts', 'Percentages'])\n",
    "    print(f'\\n{column} counts and percentages:\\n{result}')\n",
    "    return \n",
    "\n",
    "phylo_ranks = ['kingdom', 'clade', 'phylum']\n",
    "for rank in phylo_ranks:\n",
    "    print_counts(bdf, rank)\n"
   ]
  },
  {
   "cell_type": "markdown",
   "metadata": {},
   "source": [
    "## Filter and Examine Firmicutes (Bacillota)"
   ]
  },
  {
   "cell_type": "code",
   "execution_count": 4,
   "metadata": {},
   "outputs": [
    {
     "name": "stdout",
     "output_type": "stream",
     "text": [
      "\n",
      "phylum counts and percentages:\n",
      "            Counts  Percentages\n",
      "Firmicutes    2155        100.0\n",
      "\n",
      "class counts and percentages:\n",
      "                  Counts  Percentages\n",
      "Bacilli             1715    79.582367\n",
      "Clostridia           382    17.726218\n",
      "Erysipelotrichia      44     2.041763\n",
      "Negativicutes         11     0.510441\n",
      "Tissierellia           3     0.139211\n",
      "\n",
      "order counts and percentages:\n",
      "                             Counts  Percentages\n",
      "Bacillales                      867    40.232019\n",
      "Lactobacillales                 848    39.350348\n",
      "Eubacteriales                   372    17.262181\n",
      "Erysipelotrichales               44     2.041763\n",
      "Thermoanaerobacterales           10     0.464037\n",
      "Veillonellales                    7     0.324826\n",
      "Selenomonadales                   4     0.185615\n",
      "Tissierellales                    2     0.092807\n",
      "Tissierellia incertae sedis       1     0.046404\n",
      "\n",
      "family counts and percentages:\n",
      "                                                   Counts  Percentages\n",
      "Streptococcaceae                                      642    29.791183\n",
      "Bacillaceae                                           631    29.280742\n",
      "Lachnospiraceae                                       177     8.213457\n",
      "Enterococcaceae                                       117     5.429234\n",
      "Clostridiaceae                                        117     5.429234\n",
      "Paenibacillaceae                                       97     4.501160\n",
      "Listeriaceae                                           72     3.341067\n",
      "Lactobacillaceae                                       70     3.248260\n",
      "Staphylococcaceae                                      52     2.412993\n",
      "Oscillospiraceae                                       52     2.412993\n",
      "Erysipelotrichaceae                                    41     1.902552\n",
      "Carnobacteriaceae                                      17     0.788863\n",
      "Eubacteriaceae                                         13     0.603248\n",
      "Thermoanaerobacterales Family III. Incertae Sedis      10     0.464037\n",
      "Veillonellaceae                                         7     0.324826\n",
      "Planococcaceae                                          6     0.278422\n",
      "Eubacteriales incertae sedis                            5     0.232019\n",
      "Cellulosilyticaceae                                     5     0.232019\n",
      "Sporolactobacillaceae                                   4     0.185615\n",
      "Selenomonadaceae                                        3     0.139211\n",
      "Coprobacillaceae                                        3     0.139211\n",
      "Bacillales incertae sedis                               2     0.092807\n",
      "Aerococcaceae                                           2     0.092807\n",
      "Alicyclobacillaceae                                     2     0.092807\n",
      "Desulfotomaculaceae                                     1     0.046404\n",
      "Peptococcaceae                                          1     0.046404\n",
      "Sporomusaceae                                           1     0.046404\n",
      "Peptostreptococcaceae                                   1     0.046404\n",
      "Thermoactinomycetaceae                                  1     0.046404\n",
      "Thermohalobacteraceae                                   1     0.046404\n",
      "Sedimentibacter                                         1     0.046404\n",
      "Peptoniphilaceae                                        1     0.046404\n",
      "\n",
      "genus counts and percentages:\n",
      "                       Counts  Percentages\n",
      "Streptococcus             526    24.408353\n",
      "Bacillus                  508    23.573086\n",
      "Lactococcus               115     5.336427\n",
      "Enterococcus              113     5.243619\n",
      "Paenibacillus              94     4.361949\n",
      "...                       ...          ...\n",
      "Oscillibacter               1     0.046404\n",
      "Anaerotruncus               1     0.046404\n",
      "Paraliobacillus             1     0.046404\n",
      "Planococcus                 1     0.046404\n",
      "environmental samples       1     0.046404\n",
      "\n",
      "[151 rows x 2 columns]\n"
     ]
    },
    {
     "name": "stderr",
     "output_type": "stream",
     "text": [
      "/var/folders/8v/vvcy5rtx1pd33q_5wmhd058w0000gn/T/ipykernel_51416/844648954.py:2: SettingWithCopyWarning: \n",
      "A value is trying to be set on a copy of a slice from a DataFrame.\n",
      "Try using .loc[row_indexer,col_indexer] = value instead\n",
      "\n",
      "See the caveats in the documentation: https://pandas.pydata.org/pandas-docs/stable/user_guide/indexing.html#returning-a-view-versus-a-copy\n",
      "  fdf['phylum'] = fdf['phylum'].replace('Bacillota', 'Firmicutes')\n"
     ]
    }
   ],
   "source": [
    "fdf = udf[udf['phylum'] == 'Bacillota']\n",
    "fdf['phylum'] = fdf['phylum'].replace('Bacillota', 'Firmicutes')\n",
    "\n",
    "\n",
    "phylo_ranks = ['phylum', 'class', 'order', 'family', 'genus']\n",
    "for rank in phylo_ranks:\n",
    "    print_counts(fdf, rank)"
   ]
  },
  {
   "cell_type": "code",
   "execution_count": 5,
   "metadata": {},
   "outputs": [],
   "source": [
    "# Make a histogram of the sequence lengths\n",
    "\n",
    "def make_histo_groups(df, column, bin_width=6):\n",
    "    # calculate the bin edges based on the maximum and minimum values of the data and the desired bin width\n",
    "    min_seq_len = df[column].min()\n",
    "    max_seq_len = df[column].max()\n",
    "    bins = np.arange(min_seq_len, max_seq_len + bin_width, bin_width)\n",
    "    print(f'Min: {min_seq_len} Max: {max_seq_len}')\n",
    "    \n",
    "    fig, ax =  plt.subplots(figsize=(3, 4))\n",
    "    df.hist(column=column, bins=bins, color='red', alpha=0.8, ax=ax)\n",
    "    \n",
    "    ax.set_title(f'{column} - {len(df)} sequences')\n",
    "    ax.set_xlabel('Sequence Length')\n",
    "    ax.set_ylabel('Frequency')\n",
    "    ax.set_xlim(0, max_seq_len)\n",
    "    ax.set_xticks([0, 125, 250])\n",
    "    ax.set_yticks(np.linspace(0, ax.get_ylim()[1], 3))\n",
    "    ax.grid(False)  # turn off the grid lines\n",
    "    plt.tight_layout()\n",
    "    # plt.savefig(f'plots_histograms/frequency_cluster_{name}.svg')\n",
    "    plt.show()\n",
    "    return\n",
    "\n",
    " "
   ]
  },
  {
   "cell_type": "code",
   "execution_count": 6,
   "metadata": {},
   "outputs": [
    {
     "name": "stdout",
     "output_type": "stream",
     "text": [
      "Total big - 279\n",
      "Total small - 1763\n",
      "Lactobacillales       0.620072\n",
      "Eubacteriales         0.186380\n",
      "Bacillales            0.154122\n",
      "Veillonellales        0.021505\n",
      "Selenomonadales       0.010753\n",
      "Erysipelotrichales    0.007168\n",
      "Name: order, dtype: float64\n",
      "\n",
      "Small ones for Lactobacillales - 599\n",
      "Big ones for Lactobacillales - 173\n",
      "\n",
      "Small ones for Bacillales - 812\n",
      "Big ones for Bacillales - 43\n",
      "\n",
      "Small ones for Eubacteriales - 295\n",
      "Big ones for Eubacteriales - 52\n"
     ]
    },
    {
     "name": "stderr",
     "output_type": "stream",
     "text": [
      "/var/folders/8v/vvcy5rtx1pd33q_5wmhd058w0000gn/T/ipykernel_51416/3762612402.py:3: SettingWithCopyWarning: \n",
      "A value is trying to be set on a copy of a slice from a DataFrame.\n",
      "Try using .loc[row_indexer,col_indexer] = value instead\n",
      "\n",
      "See the caveats in the documentation: https://pandas.pydata.org/pandas-docs/stable/user_guide/indexing.html#returning-a-view-versus-a-copy\n",
      "  n_fdf['big'] = n_fdf['Length'] > 195\n",
      "/var/folders/8v/vvcy5rtx1pd33q_5wmhd058w0000gn/T/ipykernel_51416/3762612402.py:4: SettingWithCopyWarning: \n",
      "A value is trying to be set on a copy of a slice from a DataFrame.\n",
      "Try using .loc[row_indexer,col_indexer] = value instead\n",
      "\n",
      "See the caveats in the documentation: https://pandas.pydata.org/pandas-docs/stable/user_guide/indexing.html#returning-a-view-versus-a-copy\n",
      "  n_fdf['small'] = n_fdf['Length'] < 130\n"
     ]
    }
   ],
   "source": [
    "n_fdf = fdf\n",
    "\n",
    "n_fdf['big'] = n_fdf['Length'] > 195\n",
    "n_fdf['small'] = n_fdf['Length'] < 130\n",
    "print(f'Total big - {sum(n_fdf[\"big\"])}')\n",
    "print(f'Total small - {sum(n_fdf[\"small\"])}')\n",
    "\n",
    "big_fdf = n_fdf[n_fdf['big'] == True]\n",
    "print(big_fdf['order'].value_counts(normalize=True))\n",
    "\n",
    "\n",
    "top_orders = ['Lactobacillales', 'Bacillales', 'Eubacteriales']\n",
    "\n",
    "top_orders_df = n_fdf[n_fdf['order'].isin(top_orders)]\n",
    "for order in top_orders:\n",
    "    small_ones = sum(top_orders_df[\"small\"][top_orders_df[\"order\"] == order])\n",
    "    big_ones = sum(top_orders_df[\"big\"][top_orders_df[\"order\"] == order])\n",
    "    \n",
    "    print(f'\\nSmall ones for {order} - {small_ones}')\n",
    "    print(f'Big ones for {order} - {big_ones}')\n",
    "#     print(f'Percent big ones {order} - {(big_ones / (big_ones + small_ones)) * 100}%\\n')\n",
    "\n",
    "\n"
   ]
  },
  {
   "cell_type": "markdown",
   "metadata": {},
   "source": [
    "# Make sundburst Diagram"
   ]
  },
  {
   "cell_type": "code",
   "execution_count": 7,
   "metadata": {},
   "outputs": [
    {
     "data": {
      "application/vnd.plotly.v1+json": {
       "config": {
        "plotlyServerURL": "https://plot.ly"
       },
       "data": [
        {
         "branchvalues": "total",
         "customdata": [
          [
           "Erysipelotrichaceae"
          ],
          [
           "Lactobacillaceae"
          ],
          [
           "Clostridiaceae"
          ],
          [
           "Lactobacillaceae"
          ],
          [
           "Thermoactinomycetaceae"
          ],
          [
           "Erysipelotrichaceae"
          ],
          [
           "Sporolactobacillaceae"
          ],
          [
           "Sporolactobacillaceae"
          ],
          [
           "Staphylococcaceae"
          ],
          [
           "Staphylococcaceae"
          ],
          [
           "Staphylococcaceae"
          ],
          [
           "Clostridiaceae"
          ],
          [
           "Clostridiaceae"
          ],
          [
           "Clostridiaceae"
          ],
          [
           "Clostridiaceae"
          ],
          [
           "Staphylococcaceae"
          ],
          [
           "Staphylococcaceae"
          ],
          [
           "Clostridiaceae"
          ],
          [
           "Staphylococcaceae"
          ],
          [
           "Clostridiaceae"
          ],
          [
           "Clostridiaceae"
          ],
          [
           "Staphylococcaceae"
          ],
          [
           "Bacillaceae"
          ],
          [
           "Bacillaceae"
          ],
          [
           "Lachnospiraceae"
          ],
          [
           "Clostridiaceae"
          ],
          [
           "Bacillaceae"
          ],
          [
           "Bacillaceae"
          ],
          [
           "Bacillaceae"
          ],
          [
           "Oscillospiraceae"
          ],
          [
           "Clostridiaceae"
          ],
          [
           "Oscillospiraceae"
          ],
          [
           "Clostridiaceae"
          ],
          [
           "Oscillospiraceae"
          ],
          [
           "Lachnospiraceae"
          ],
          [
           "Oscillospiraceae"
          ],
          [
           "Oscillospiraceae"
          ],
          [
           "Oscillospiraceae"
          ],
          [
           "Oscillospiraceae"
          ],
          [
           "Oscillospiraceae"
          ],
          [
           "Oscillospiraceae"
          ],
          [
           "Oscillospiraceae"
          ],
          [
           "Lachnospiraceae"
          ],
          [
           "Clostridiaceae"
          ],
          [
           "Clostridiaceae"
          ],
          [
           "Bacillaceae"
          ],
          [
           "Staphylococcaceae"
          ],
          [
           "Staphylococcaceae"
          ],
          [
           "Staphylococcaceae"
          ],
          [
           "Staphylococcaceae"
          ],
          [
           "Staphylococcaceae"
          ],
          [
           "Staphylococcaceae"
          ],
          [
           "Staphylococcaceae"
          ],
          [
           "Streptococcaceae"
          ],
          [
           "Staphylococcaceae"
          ],
          [
           "Streptococcaceae"
          ],
          [
           "Streptococcaceae"
          ],
          [
           "Streptococcaceae"
          ],
          [
           "Streptococcaceae"
          ],
          [
           "Streptococcaceae"
          ],
          [
           "Streptococcaceae"
          ],
          [
           "Streptococcaceae"
          ],
          [
           "Streptococcaceae"
          ],
          [
           "Streptococcaceae"
          ],
          [
           "Streptococcaceae"
          ],
          [
           "Lachnospiraceae"
          ],
          [
           "Staphylococcaceae"
          ],
          [
           "Staphylococcaceae"
          ],
          [
           "Cellulosilyticaceae"
          ],
          [
           "Cellulosilyticaceae"
          ],
          [
           "Staphylococcaceae"
          ],
          [
           "Staphylococcaceae"
          ],
          [
           "Staphylococcaceae"
          ],
          [
           "Carnobacteriaceae"
          ],
          [
           "Lachnospiraceae"
          ],
          [
           "Lachnospiraceae"
          ],
          [
           "Staphylococcaceae"
          ],
          [
           "Lactobacillaceae"
          ],
          [
           "Erysipelotrichaceae"
          ],
          [
           "Lachnospiraceae"
          ],
          [
           "Lachnospiraceae"
          ],
          [
           "Streptococcaceae"
          ],
          [
           "Lachnospiraceae"
          ],
          [
           "Oscillospiraceae"
          ],
          [
           "Oscillospiraceae"
          ],
          [
           "Staphylococcaceae"
          ],
          [
           "Oscillospiraceae"
          ],
          [
           "Lachnospiraceae"
          ],
          [
           "Lachnospiraceae"
          ],
          [
           "Lachnospiraceae"
          ],
          [
           "Listeriaceae"
          ],
          [
           "Staphylococcaceae"
          ],
          [
           "Bacillaceae"
          ],
          [
           "Bacillaceae"
          ],
          [
           "Bacillaceae"
          ],
          [
           "Selenomonadaceae"
          ],
          [
           "Bacillaceae"
          ],
          [
           "Lachnospiraceae"
          ],
          [
           "Listeriaceae"
          ],
          [
           "Bacillaceae"
          ],
          [
           "Bacillaceae"
          ],
          [
           "Bacillaceae"
          ],
          [
           "Eubacteriaceae"
          ],
          [
           "Eubacteriaceae"
          ],
          [
           "Eubacteriaceae"
          ],
          [
           "Eubacteriaceae"
          ],
          [
           "Eubacteriaceae"
          ],
          [
           "Eubacteriaceae"
          ],
          [
           "Bacillaceae"
          ],
          [
           "Bacillaceae"
          ],
          [
           "Listeriaceae"
          ],
          [
           "Lactobacillaceae"
          ],
          [
           "Streptococcaceae"
          ],
          [
           "Streptococcaceae"
          ],
          [
           "Streptococcaceae"
          ],
          [
           "Streptococcaceae"
          ],
          [
           "Streptococcaceae"
          ],
          [
           "Streptococcaceae"
          ],
          [
           "Streptococcaceae"
          ],
          [
           "Streptococcaceae"
          ],
          [
           "Lactobacillaceae"
          ],
          [
           "Streptococcaceae"
          ],
          [
           "Streptococcaceae"
          ],
          [
           "Streptococcaceae"
          ],
          [
           "Streptococcaceae"
          ],
          [
           "Streptococcaceae"
          ],
          [
           "Lactobacillaceae"
          ],
          [
           "Lachnospiraceae"
          ],
          [
           "Lactobacillaceae"
          ],
          [
           "Lactobacillaceae"
          ],
          [
           "Streptococcaceae"
          ],
          [
           "Bacillaceae"
          ],
          [
           "Lachnospiraceae"
          ],
          [
           "Oscillospiraceae"
          ],
          [
           "Enterococcaceae"
          ],
          [
           "Enterococcaceae"
          ],
          [
           "Enterococcaceae"
          ],
          [
           "Enterococcaceae"
          ],
          [
           "Lachnospiraceae"
          ],
          [
           "Lachnospiraceae"
          ],
          [
           "Lachnospiraceae"
          ],
          [
           "Lachnospiraceae"
          ],
          [
           "Enterococcaceae"
          ],
          [
           "Lachnospiraceae"
          ],
          [
           "Veillonellaceae"
          ],
          [
           "Peptococcaceae"
          ],
          [
           "Peptostreptococcaceae"
          ],
          [
           "Lachnospiraceae"
          ],
          [
           "Lachnospiraceae"
          ],
          [
           "Lachnospiraceae"
          ],
          [
           "Lachnospiraceae"
          ],
          [
           "Lachnospiraceae"
          ],
          [
           "Lachnospiraceae"
          ],
          [
           "Enterococcaceae"
          ],
          [
           "Enterococcaceae"
          ],
          [
           "Enterococcaceae"
          ],
          [
           "Oscillospiraceae"
          ],
          [
           "Paenibacillaceae"
          ],
          [
           "Erysipelotrichaceae"
          ],
          [
           "Paenibacillaceae"
          ],
          [
           "Paenibacillaceae"
          ],
          [
           "Paenibacillaceae"
          ],
          [
           "Paenibacillaceae"
          ],
          [
           "Paenibacillaceae"
          ],
          [
           "Paenibacillaceae"
          ],
          [
           "Paenibacillaceae"
          ],
          [
           "Paenibacillaceae"
          ],
          [
           "Enterococcaceae"
          ],
          [
           "Enterococcaceae"
          ],
          [
           "Enterococcaceae"
          ],
          [
           "Enterococcaceae"
          ],
          [
           "Enterococcaceae"
          ],
          [
           "Enterococcaceae"
          ],
          [
           "Enterococcaceae"
          ],
          [
           "Enterococcaceae"
          ],
          [
           "Streptococcaceae"
          ],
          [
           "Streptococcaceae"
          ],
          [
           "Lachnospiraceae"
          ],
          [
           "Streptococcaceae"
          ],
          [
           "Streptococcaceae"
          ],
          [
           "Streptococcaceae"
          ],
          [
           "Streptococcaceae"
          ],
          [
           "Bacillaceae"
          ],
          [
           "Streptococcaceae"
          ],
          [
           "Streptococcaceae"
          ],
          [
           "Streptococcaceae"
          ],
          [
           "Streptococcaceae"
          ],
          [
           "Streptococcaceae"
          ],
          [
           "Streptococcaceae"
          ],
          [
           "Streptococcaceae"
          ],
          [
           "Streptococcaceae"
          ],
          [
           "Enterococcaceae"
          ],
          [
           "Bacillaceae"
          ],
          [
           "Streptococcaceae"
          ],
          [
           "Lactobacillaceae"
          ],
          [
           "Streptococcaceae"
          ],
          [
           "Streptococcaceae"
          ],
          [
           "Bacillaceae"
          ],
          [
           "Bacillaceae"
          ],
          [
           "Bacillaceae"
          ],
          [
           "Streptococcaceae"
          ],
          [
           "Streptococcaceae"
          ],
          [
           "Bacillaceae"
          ],
          [
           "Streptococcaceae"
          ],
          [
           "Bacillaceae"
          ],
          [
           "Bacillaceae"
          ],
          [
           "Bacillaceae"
          ],
          [
           "Bacillaceae"
          ],
          [
           "Bacillaceae"
          ],
          [
           "Streptococcaceae"
          ],
          [
           "Streptococcaceae"
          ],
          [
           "Bacillaceae"
          ],
          [
           "Bacillaceae"
          ],
          [
           "Lachnospiraceae"
          ],
          [
           "Lachnospiraceae"
          ],
          [
           "Bacillaceae"
          ],
          [
           "Bacillaceae"
          ],
          [
           "Bacillaceae"
          ],
          [
           "Bacillales incertae sedis"
          ],
          [
           "Carnobacteriaceae"
          ],
          [
           "Cellulosilyticaceae"
          ],
          [
           "Bacillaceae"
          ],
          [
           "Clostridiaceae"
          ],
          [
           "Lachnospiraceae"
          ],
          [
           "Erysipelotrichaceae"
          ],
          [
           "Lactobacillaceae"
          ],
          [
           "Listeriaceae"
          ],
          [
           "Oscillospiraceae"
          ],
          [
           "Erysipelotrichaceae"
          ],
          [
           "Lachnospiraceae"
          ],
          [
           "Bacillaceae"
          ],
          [
           "Alicyclobacillaceae"
          ],
          [
           "Aerococcaceae"
          ],
          [
           "Lachnospiraceae"
          ],
          [
           "Bacillaceae"
          ],
          [
           "Bacillaceae"
          ],
          [
           "Bacillaceae"
          ],
          [
           "Oscillospiraceae"
          ],
          [
           "Lachnospiraceae"
          ],
          [
           "Bacillaceae"
          ],
          [
           "Clostridiaceae"
          ],
          [
           "Bacillaceae"
          ],
          [
           "Bacillaceae"
          ],
          [
           "Bacillaceae"
          ],
          [
           "Lachnospiraceae"
          ],
          [
           "Bacillaceae"
          ],
          [
           "Lachnospiraceae"
          ],
          [
           "Oscillospiraceae"
          ],
          [
           "Bacillaceae"
          ],
          [
           "Bacillaceae"
          ],
          [
           "Streptococcaceae"
          ],
          [
           "Streptococcaceae"
          ],
          [
           "Bacillaceae"
          ],
          [
           "Bacillaceae"
          ],
          [
           "Bacillaceae"
          ],
          [
           "Streptococcaceae"
          ],
          [
           "Streptococcaceae"
          ],
          [
           "Streptococcaceae"
          ],
          [
           "Streptococcaceae"
          ],
          [
           "Bacillaceae"
          ],
          [
           "Streptococcaceae"
          ],
          [
           "Streptococcaceae"
          ],
          [
           "Streptococcaceae"
          ],
          [
           "Streptococcaceae"
          ],
          [
           "Streptococcaceae"
          ],
          [
           "Bacillaceae"
          ],
          [
           "Streptococcaceae"
          ],
          [
           "Streptococcaceae"
          ],
          [
           "Streptococcaceae"
          ],
          [
           "Streptococcaceae"
          ],
          [
           "Streptococcaceae"
          ],
          [
           "Streptococcaceae"
          ],
          [
           "Streptococcaceae"
          ],
          [
           "Streptococcaceae"
          ],
          [
           "Streptococcaceae"
          ],
          [
           "Streptococcaceae"
          ],
          [
           "Streptococcaceae"
          ],
          [
           "Streptococcaceae"
          ],
          [
           "Streptococcaceae"
          ],
          [
           "Lachnospiraceae"
          ],
          [
           "Streptococcaceae"
          ],
          [
           "Streptococcaceae"
          ],
          [
           "Streptococcaceae"
          ],
          [
           "Streptococcaceae"
          ],
          [
           "Streptococcaceae"
          ],
          [
           "Streptococcaceae"
          ],
          [
           "Bacillaceae"
          ],
          [
           "Streptococcaceae"
          ],
          [
           "Streptococcaceae"
          ],
          [
           "Streptococcaceae"
          ],
          [
           "Streptococcaceae"
          ],
          [
           "Streptococcaceae"
          ],
          [
           "Bacillaceae"
          ],
          [
           "Streptococcaceae"
          ],
          [
           "Streptococcaceae"
          ],
          [
           "Streptococcaceae"
          ],
          [
           "Streptococcaceae"
          ],
          [
           "Streptococcaceae"
          ],
          [
           "Streptococcaceae"
          ],
          [
           "Streptococcaceae"
          ],
          [
           "Streptococcaceae"
          ],
          [
           "Streptococcaceae"
          ],
          [
           "Streptococcaceae"
          ],
          [
           "Streptococcaceae"
          ],
          [
           "Streptococcaceae"
          ],
          [
           "Bacillaceae"
          ],
          [
           "Bacillaceae"
          ],
          [
           "Bacillaceae"
          ],
          [
           "Streptococcaceae"
          ],
          [
           "Streptococcaceae"
          ],
          [
           "Streptococcaceae"
          ],
          [
           "Bacillaceae"
          ],
          [
           "Bacillaceae"
          ],
          [
           "Streptococcaceae"
          ],
          [
           "Streptococcaceae"
          ],
          [
           "Streptococcaceae"
          ],
          [
           "Streptococcaceae"
          ],
          [
           "Streptococcaceae"
          ],
          [
           "Streptococcaceae"
          ],
          [
           "Streptococcaceae"
          ],
          [
           "Streptococcaceae"
          ],
          [
           "Streptococcaceae"
          ],
          [
           "Erysipelotrichaceae"
          ],
          [
           "Bacillaceae"
          ],
          [
           "Bacillaceae"
          ],
          [
           "Lactobacillaceae"
          ],
          [
           "Bacillaceae"
          ],
          [
           "Oscillospiraceae"
          ],
          [
           "Oscillospiraceae"
          ],
          [
           "Oscillospiraceae"
          ],
          [
           "Erysipelotrichaceae"
          ],
          [
           "Clostridiaceae"
          ],
          [
           "Streptococcaceae"
          ],
          [
           "Erysipelotrichaceae"
          ],
          [
           "Erysipelotrichaceae"
          ],
          [
           "Clostridiaceae"
          ],
          [
           "Clostridiaceae"
          ],
          [
           "Lactobacillaceae"
          ],
          [
           "Lactobacillaceae"
          ],
          [
           "Lactobacillaceae"
          ],
          [
           "Lactobacillaceae"
          ],
          [
           "Lactobacillaceae"
          ],
          [
           "Bacillaceae"
          ],
          [
           "Listeriaceae"
          ],
          [
           "Bacillaceae"
          ],
          [
           "Bacillaceae"
          ],
          [
           "Bacillaceae"
          ],
          [
           "Bacillaceae"
          ],
          [
           "Bacillaceae"
          ],
          [
           "Lachnospiraceae"
          ],
          [
           "Bacillaceae"
          ],
          [
           "Aerococcaceae"
          ],
          [
           "Erysipelotrichaceae"
          ],
          [
           "Streptococcaceae"
          ],
          [
           "Bacillaceae"
          ],
          [
           "Alicyclobacillaceae"
          ],
          [
           "Lachnospiraceae"
          ],
          [
           "Alicyclobacillaceae"
          ],
          [
           "Coprobacillaceae"
          ],
          [
           "Lachnospiraceae"
          ],
          [
           "Lachnospiraceae"
          ],
          [
           "Bacillaceae"
          ],
          [
           "Streptococcaceae"
          ],
          [
           "Veillonellaceae"
          ],
          [
           "Bacillaceae"
          ],
          [
           "Bacillaceae"
          ],
          [
           "Lachnospiraceae"
          ],
          [
           "Bacillaceae"
          ],
          [
           "Paenibacillaceae"
          ],
          [
           "Oscillospiraceae"
          ],
          [
           "Oscillospiraceae"
          ],
          [
           "Bacillaceae"
          ],
          [
           "Lachnospiraceae"
          ],
          [
           "Lachnospiraceae"
          ],
          [
           "Eubacteriales incertae sedis"
          ],
          [
           "Lachnospiraceae"
          ],
          [
           "Lachnospiraceae"
          ],
          [
           "Lachnospiraceae"
          ],
          [
           "Lachnospiraceae"
          ],
          [
           "Peptococcaceae"
          ],
          [
           "Peptoniphilaceae"
          ],
          [
           "Streptococcaceae"
          ],
          [
           "Peptostreptococcaceae"
          ],
          [
           "Planococcaceae"
          ],
          [
           "Lachnospiraceae"
          ],
          [
           "Sedimentibacter"
          ],
          [
           "Selenomonadaceae"
          ],
          [
           "Lachnospiraceae"
          ],
          [
           "Streptococcaceae"
          ],
          [
           "Lactobacillaceae"
          ],
          [
           "Lactobacillaceae"
          ],
          [
           "Paenibacillaceae"
          ],
          [
           "Paenibacillaceae"
          ],
          [
           "Paenibacillaceae"
          ],
          [
           "Oscillospiraceae"
          ],
          [
           "Streptococcaceae"
          ],
          [
           "Oscillospiraceae"
          ],
          [
           "Lachnospiraceae"
          ],
          [
           "Eubacteriaceae"
          ],
          [
           "Lachnospiraceae"
          ],
          [
           "Eubacteriaceae"
          ],
          [
           "Lactobacillaceae"
          ],
          [
           "Streptococcaceae"
          ],
          [
           "Bacillaceae"
          ],
          [
           "Bacillaceae"
          ],
          [
           "Oscillospiraceae"
          ],
          [
           "Lachnospiraceae"
          ],
          [
           "Lachnospiraceae"
          ],
          [
           "Lachnospiraceae"
          ],
          [
           "Erysipelotrichaceae"
          ],
          [
           "Lachnospiraceae"
          ],
          [
           "Streptococcaceae"
          ],
          [
           "Lachnospiraceae"
          ],
          [
           "Aerococcaceae"
          ],
          [
           "Enterococcaceae"
          ],
          [
           "Enterococcaceae"
          ],
          [
           "Enterococcaceae"
          ],
          [
           "Enterococcaceae"
          ],
          [
           "Enterococcaceae"
          ],
          [
           "Enterococcaceae"
          ],
          [
           "Enterococcaceae"
          ],
          [
           "Enterococcaceae"
          ],
          [
           "Enterococcaceae"
          ],
          [
           "Planococcaceae"
          ],
          [
           "Enterococcaceae"
          ],
          [
           "Enterococcaceae"
          ],
          [
           "Erysipelotrichaceae"
          ],
          [
           "Enterococcaceae"
          ],
          [
           "Enterococcaceae"
          ],
          [
           "Enterococcaceae"
          ],
          [
           "Erysipelotrichaceae"
          ],
          [
           "Enterococcaceae"
          ],
          [
           "Bacillaceae"
          ],
          [
           "Bacillaceae"
          ],
          [
           "Bacillaceae"
          ],
          [
           "Coprobacillaceae"
          ],
          [
           "Eubacteriales incertae sedis"
          ],
          [
           "Listeriaceae"
          ],
          [
           "Paenibacillaceae"
          ],
          [
           "Paenibacillaceae"
          ],
          [
           "Paenibacillaceae"
          ],
          [
           "Oscillospiraceae"
          ],
          [
           "Enterococcaceae"
          ],
          [
           "Listeriaceae"
          ],
          [
           "Peptoniphilaceae"
          ],
          [
           "Erysipelotrichaceae"
          ],
          [
           "Erysipelotrichaceae"
          ],
          [
           "Listeriaceae"
          ],
          [
           "Listeriaceae"
          ],
          [
           "Lactobacillaceae"
          ],
          [
           "Listeriaceae"
          ],
          [
           "Clostridiaceae"
          ],
          [
           "Erysipelotrichaceae"
          ],
          [
           "Erysipelotrichaceae"
          ],
          [
           "Erysipelotrichaceae"
          ],
          [
           "Eubacteriaceae"
          ],
          [
           "Eubacteriaceae"
          ],
          [
           "Bacillaceae"
          ],
          [
           "Listeriaceae"
          ],
          [
           "Clostridiaceae"
          ],
          [
           "Clostridiaceae"
          ],
          [
           "Clostridiaceae"
          ],
          [
           "Streptococcaceae"
          ],
          [
           "Bacillaceae"
          ],
          [
           "Streptococcaceae"
          ],
          [
           "Streptococcaceae"
          ],
          [
           "Streptococcaceae"
          ],
          [
           "Streptococcaceae"
          ],
          [
           "Streptococcaceae"
          ],
          [
           "Clostridiaceae"
          ],
          [
           "Streptococcaceae"
          ],
          [
           "Streptococcaceae"
          ],
          [
           "Erysipelotrichaceae"
          ],
          [
           "Streptococcaceae"
          ],
          [
           "Lachnospiraceae"
          ],
          [
           "Bacillaceae"
          ],
          [
           "Bacillaceae"
          ],
          [
           "Bacillaceae"
          ],
          [
           "Erysipelotrichaceae"
          ],
          [
           "Clostridiaceae"
          ],
          [
           "Bacillaceae"
          ],
          [
           "Clostridiaceae"
          ],
          [
           "Clostridiaceae"
          ],
          [
           "Veillonellaceae"
          ],
          [
           "Lachnospiraceae"
          ],
          [
           "Carnobacteriaceae"
          ],
          [
           "Bacillaceae"
          ],
          [
           "Bacillaceae"
          ],
          [
           "Bacillaceae"
          ],
          [
           "Bacillaceae"
          ],
          [
           "Bacillaceae"
          ],
          [
           "Bacillaceae"
          ],
          [
           "Bacillaceae"
          ],
          [
           "Bacillaceae"
          ],
          [
           "Bacillaceae"
          ],
          [
           "Bacillaceae"
          ],
          [
           "Bacillaceae"
          ],
          [
           "Bacillaceae"
          ],
          [
           "Listeriaceae"
          ],
          [
           "Listeriaceae"
          ],
          [
           "Listeriaceae"
          ],
          [
           "Bacillaceae"
          ],
          [
           "(?)"
          ],
          [
           "Bacillaceae"
          ],
          [
           "Bacillaceae"
          ],
          [
           "Bacillaceae"
          ],
          [
           "Bacillaceae"
          ],
          [
           "Bacillaceae"
          ],
          [
           "Bacillaceae"
          ],
          [
           "Bacillaceae"
          ],
          [
           "Bacillaceae"
          ],
          [
           "Bacillaceae"
          ],
          [
           "Bacillaceae"
          ],
          [
           "Bacillaceae"
          ],
          [
           "Bacillaceae"
          ],
          [
           "Thermoactinomycetaceae"
          ],
          [
           "Bacillaceae"
          ],
          [
           "Bacillaceae"
          ],
          [
           "Thermoanaerobacterales Family III. Incertae Sedis"
          ],
          [
           "Bacillaceae"
          ],
          [
           "Bacillaceae"
          ],
          [
           "Bacillaceae"
          ],
          [
           "Bacillaceae"
          ],
          [
           "Staphylococcaceae"
          ],
          [
           "Bacillaceae"
          ],
          [
           "Paenibacillaceae"
          ],
          [
           "Paenibacillaceae"
          ],
          [
           "Paenibacillaceae"
          ],
          [
           "Paenibacillaceae"
          ],
          [
           "Lachnospiraceae"
          ],
          [
           "Bacillaceae"
          ],
          [
           "Bacillaceae"
          ],
          [
           "Clostridiaceae"
          ],
          [
           "Clostridiaceae"
          ],
          [
           "Bacillaceae"
          ],
          [
           "Clostridiaceae"
          ],
          [
           "Bacillaceae"
          ],
          [
           "Bacillaceae"
          ],
          [
           "Veillonellaceae"
          ],
          [
           "Bacillaceae"
          ],
          [
           "Bacillaceae"
          ],
          [
           "Streptococcaceae"
          ],
          [
           "Paenibacillaceae"
          ],
          [
           "Bacillaceae"
          ],
          [
           "Bacillaceae"
          ],
          [
           "Paenibacillaceae"
          ],
          [
           "Sporolactobacillaceae"
          ],
          [
           "Bacillaceae"
          ],
          [
           "Bacillaceae"
          ],
          [
           "Sporolactobacillaceae"
          ],
          [
           "Sporomusaceae"
          ],
          [
           "Staphylococcaceae"
          ],
          [
           "Bacillaceae"
          ],
          [
           "Planococcaceae"
          ],
          [
           "Clostridiaceae"
          ],
          [
           "Clostridiaceae"
          ],
          [
           "Bacillaceae"
          ],
          [
           "Erysipelotrichaceae"
          ],
          [
           "Bacillaceae"
          ],
          [
           "Bacillaceae"
          ],
          [
           "Streptococcaceae"
          ],
          [
           "Oscillospiraceae"
          ],
          [
           "Streptococcaceae"
          ],
          [
           "Bacillaceae"
          ],
          [
           "Bacillaceae"
          ],
          [
           "Clostridiaceae"
          ],
          [
           "Clostridiaceae"
          ],
          [
           "Clostridiaceae"
          ],
          [
           "Lactobacillaceae"
          ],
          [
           "Lachnospiraceae"
          ],
          [
           "Sedimentibacter"
          ],
          [
           "Bacillaceae"
          ],
          [
           "Bacillaceae"
          ],
          [
           "Eubacteriales incertae sedis"
          ],
          [
           "Selenomonadaceae"
          ],
          [
           "Enterococcaceae"
          ],
          [
           "Bacillaceae"
          ],
          [
           "Oscillospiraceae"
          ],
          [
           "Bacillaceae"
          ],
          [
           "Selenomonadaceae"
          ],
          [
           "Lachnospiraceae"
          ],
          [
           "Erysipelotrichaceae"
          ],
          [
           "Listeriaceae"
          ],
          [
           "Streptococcaceae"
          ],
          [
           "Lachnospiraceae"
          ],
          [
           "Listeriaceae"
          ],
          [
           "Listeriaceae"
          ],
          [
           "Listeriaceae"
          ],
          [
           "Listeriaceae"
          ],
          [
           "Paenibacillaceae"
          ],
          [
           "Clostridiaceae"
          ],
          [
           "Erysipelotrichaceae"
          ],
          [
           "Listeriaceae"
          ],
          [
           "Bacillales incertae sedis"
          ],
          [
           "Bacillales incertae sedis"
          ],
          [
           "Eubacteriaceae"
          ],
          [
           "Streptococcaceae"
          ],
          [
           "Bacillaceae"
          ],
          [
           "Lachnospiraceae"
          ],
          [
           "Streptococcaceae"
          ],
          [
           "Streptococcaceae"
          ],
          [
           "Streptococcaceae"
          ],
          [
           "Streptococcaceae"
          ],
          [
           "Enterococcaceae"
          ],
          [
           "Desulfotomaculaceae"
          ],
          [
           "Lactobacillaceae"
          ],
          [
           "Bacillaceae"
          ],
          [
           "Streptococcaceae"
          ],
          [
           "Streptococcaceae"
          ],
          [
           "Streptococcaceae"
          ],
          [
           "Bacillaceae"
          ],
          [
           "Clostridiaceae"
          ],
          [
           "Bacillaceae"
          ],
          [
           "Bacillaceae"
          ],
          [
           "Bacillaceae"
          ],
          [
           "Bacillaceae"
          ],
          [
           "Bacillaceae"
          ],
          [
           "Bacillaceae"
          ],
          [
           "Bacillaceae"
          ],
          [
           "Streptococcaceae"
          ],
          [
           "Bacillaceae"
          ],
          [
           "Clostridiaceae"
          ],
          [
           "Enterococcaceae"
          ],
          [
           "Bacillaceae"
          ],
          [
           "Lachnospiraceae"
          ],
          [
           "Bacillaceae"
          ],
          [
           "Bacillaceae"
          ],
          [
           "Bacillaceae"
          ],
          [
           "Bacillaceae"
          ],
          [
           "Bacillaceae"
          ],
          [
           "Listeriaceae"
          ],
          [
           "Bacillaceae"
          ],
          [
           "Streptococcaceae"
          ],
          [
           "Bacillaceae"
          ],
          [
           "Streptococcaceae"
          ],
          [
           "Bacillaceae"
          ],
          [
           "Bacillaceae"
          ],
          [
           "Bacillaceae"
          ],
          [
           "Bacillaceae"
          ],
          [
           "Bacillaceae"
          ],
          [
           "Streptococcaceae"
          ],
          [
           "Streptococcaceae"
          ],
          [
           "Listeriaceae"
          ],
          [
           "Streptococcaceae"
          ],
          [
           "Planococcaceae"
          ],
          [
           "Erysipelotrichaceae"
          ],
          [
           "Streptococcaceae"
          ],
          [
           "Paenibacillaceae"
          ],
          [
           "Clostridiaceae"
          ],
          [
           "Lactobacillaceae"
          ],
          [
           "Lactobacillaceae"
          ],
          [
           "Bacillaceae"
          ],
          [
           "Bacillaceae"
          ],
          [
           "Paenibacillaceae"
          ],
          [
           "Listeriaceae"
          ],
          [
           "Listeriaceae"
          ],
          [
           "Bacillaceae"
          ],
          [
           "Bacillaceae"
          ],
          [
           "Bacillaceae"
          ],
          [
           "Bacillaceae"
          ],
          [
           "Bacillaceae"
          ],
          [
           "Bacillaceae"
          ],
          [
           "Listeriaceae"
          ],
          [
           "Bacillaceae"
          ],
          [
           "Listeriaceae"
          ],
          [
           "Listeriaceae"
          ],
          [
           "Streptococcaceae"
          ],
          [
           "Streptococcaceae"
          ],
          [
           "Bacillaceae"
          ],
          [
           "Enterococcaceae"
          ],
          [
           "Bacillaceae"
          ],
          [
           "Lachnospiraceae"
          ],
          [
           "Lachnospiraceae"
          ],
          [
           "Lachnospiraceae"
          ],
          [
           "Lachnospiraceae"
          ],
          [
           "Lachnospiraceae"
          ],
          [
           "Lachnospiraceae"
          ],
          [
           "Lachnospiraceae"
          ],
          [
           "Bacillaceae"
          ],
          [
           "Lachnospiraceae"
          ],
          [
           "Lachnospiraceae"
          ],
          [
           "Lactobacillaceae"
          ],
          [
           "Lactobacillaceae"
          ],
          [
           "Streptococcaceae"
          ],
          [
           "Lactobacillaceae"
          ],
          [
           "Lachnospiraceae"
          ],
          [
           "Lactobacillaceae"
          ],
          [
           "Veillonellaceae"
          ],
          [
           "(?)"
          ],
          [
           "(?)"
          ],
          [
           "(?)"
          ],
          [
           "(?)"
          ],
          [
           "(?)"
          ],
          [
           "Thermoanaerobacterales Family III. Incertae Sedis"
          ],
          [
           "(?)"
          ],
          [
           "Sedimentibacter"
          ],
          [
           "Veillonellaceae"
          ],
          [
           "(?)"
          ],
          [
           "(?)"
          ],
          [
           "(?)"
          ],
          [
           "(?)"
          ],
          [
           "Thermohalobacteraceae"
          ],
          [
           "Oscillospiraceae"
          ],
          [
           "Paenibacillaceae"
          ],
          [
           "Bacillaceae"
          ],
          [
           "Bacillaceae"
          ],
          [
           "Carnobacteriaceae"
          ],
          [
           "Carnobacteriaceae"
          ],
          [
           "Bacillaceae"
          ],
          [
           "Erysipelotrichaceae"
          ],
          [
           "Erysipelotrichaceae"
          ],
          [
           "Bacillaceae"
          ],
          [
           "Bacillaceae"
          ],
          [
           "Bacillaceae"
          ],
          [
           "Veillonellaceae"
          ],
          [
           "Bacillaceae"
          ],
          [
           "Bacillaceae"
          ],
          [
           "Lactobacillaceae"
          ],
          [
           "Lactobacillaceae"
          ],
          [
           "Bacillaceae"
          ],
          [
           "Bacillaceae"
          ],
          [
           "Bacillaceae"
          ],
          [
           "Bacillaceae"
          ],
          [
           "Bacillaceae"
          ],
          [
           "Bacillaceae"
          ],
          [
           "Bacillaceae"
          ],
          [
           "Lachnospiraceae"
          ],
          [
           "Bacillaceae"
          ],
          [
           "Bacillaceae"
          ],
          [
           "Streptococcaceae"
          ],
          [
           "Bacillaceae"
          ],
          [
           "Bacillaceae"
          ],
          [
           "Lachnospiraceae"
          ],
          [
           "Lachnospiraceae"
          ],
          [
           "Lachnospiraceae"
          ],
          [
           "Bacillaceae"
          ],
          [
           "Bacillaceae"
          ],
          [
           "Bacillaceae"
          ],
          [
           "Erysipelotrichaceae"
          ],
          [
           "Bacillaceae"
          ],
          [
           "Paenibacillaceae"
          ],
          [
           "Paenibacillaceae"
          ],
          [
           "Paenibacillaceae"
          ],
          [
           "Paenibacillaceae"
          ],
          [
           "Paenibacillaceae"
          ],
          [
           "Paenibacillaceae"
          ],
          [
           "Paenibacillaceae"
          ],
          [
           "Paenibacillaceae"
          ],
          [
           "Clostridiaceae"
          ],
          [
           "Clostridiaceae"
          ],
          [
           "Clostridiaceae"
          ],
          [
           "Paenibacillaceae"
          ],
          [
           "Paenibacillaceae"
          ],
          [
           "Paenibacillaceae"
          ],
          [
           "Paenibacillaceae"
          ],
          [
           "Paenibacillaceae"
          ],
          [
           "Paenibacillaceae"
          ],
          [
           "Paenibacillaceae"
          ],
          [
           "Clostridiaceae"
          ],
          [
           "Coprobacillaceae"
          ],
          [
           "Clostridiaceae"
          ],
          [
           "Erysipelotrichaceae"
          ],
          [
           "Lachnospiraceae"
          ],
          [
           "Paenibacillaceae"
          ],
          [
           "Clostridiaceae"
          ],
          [
           "Clostridiaceae"
          ],
          [
           "Clostridiaceae"
          ],
          [
           "Paenibacillaceae"
          ],
          [
           "Paenibacillaceae"
          ],
          [
           "Clostridiaceae"
          ],
          [
           "Clostridiaceae"
          ],
          [
           "Clostridiaceae"
          ],
          [
           "Paenibacillaceae"
          ],
          [
           "Lachnospiraceae"
          ],
          [
           "Lachnospiraceae"
          ],
          [
           "Paenibacillaceae"
          ],
          [
           "Paenibacillaceae"
          ],
          [
           "Enterococcaceae"
          ],
          [
           "Enterococcaceae"
          ],
          [
           "Bacillaceae"
          ],
          [
           "Bacillaceae"
          ],
          [
           "Enterococcaceae"
          ],
          [
           "Bacillaceae"
          ],
          [
           "Lachnospiraceae"
          ],
          [
           "Bacillaceae"
          ],
          [
           "Planococcaceae"
          ],
          [
           "Bacillaceae"
          ],
          [
           "Bacillaceae"
          ],
          [
           "Bacillaceae"
          ],
          [
           "Bacillaceae"
          ],
          [
           "Desulfotomaculaceae"
          ],
          [
           "Sporomusaceae"
          ],
          [
           "Enterococcaceae"
          ],
          [
           "Erysipelotrichaceae"
          ],
          [
           "Enterococcaceae"
          ],
          [
           "Paenibacillaceae"
          ],
          [
           "Paenibacillaceae"
          ],
          [
           "Paenibacillaceae"
          ],
          [
           "Enterococcaceae"
          ],
          [
           "Paenibacillaceae"
          ],
          [
           "Paenibacillaceae"
          ],
          [
           "Paenibacillaceae"
          ],
          [
           "Paenibacillaceae"
          ],
          [
           "Paenibacillaceae"
          ],
          [
           "Paenibacillaceae"
          ],
          [
           "Paenibacillaceae"
          ],
          [
           "Paenibacillaceae"
          ],
          [
           "Paenibacillaceae"
          ],
          [
           "Paenibacillaceae"
          ],
          [
           "Paenibacillaceae"
          ],
          [
           "Paenibacillaceae"
          ],
          [
           "Paenibacillaceae"
          ],
          [
           "Bacillaceae"
          ],
          [
           "Erysipelotrichaceae"
          ],
          [
           "Staphylococcaceae"
          ],
          [
           "Lachnospiraceae"
          ],
          [
           "Lachnospiraceae"
          ],
          [
           "Lachnospiraceae"
          ],
          [
           "Lachnospiraceae"
          ],
          [
           "Streptococcaceae"
          ],
          [
           "Streptococcaceae"
          ],
          [
           "Lactobacillaceae"
          ],
          [
           "Paenibacillaceae"
          ],
          [
           "Lachnospiraceae"
          ],
          [
           "Lachnospiraceae"
          ],
          [
           "Lachnospiraceae"
          ],
          [
           "Thermoanaerobacterales Family III. Incertae Sedis"
          ],
          [
           "Thermoanaerobacterales Family III. Incertae Sedis"
          ],
          [
           "Thermoanaerobacterales Family III. Incertae Sedis"
          ],
          [
           "Thermoanaerobacterales Family III. Incertae Sedis"
          ],
          [
           "Lachnospiraceae"
          ],
          [
           "Thermoanaerobacterales Family III. Incertae Sedis"
          ],
          [
           "Lachnospiraceae"
          ],
          [
           "Lachnospiraceae"
          ],
          [
           "Erysipelotrichaceae"
          ],
          [
           "Erysipelotrichaceae"
          ],
          [
           "Bacillaceae"
          ],
          [
           "Bacillaceae"
          ],
          [
           "Paenibacillaceae"
          ],
          [
           "Bacillaceae"
          ],
          [
           "Bacillaceae"
          ],
          [
           "Bacillaceae"
          ],
          [
           "Bacillaceae"
          ],
          [
           "Bacillaceae"
          ],
          [
           "Paenibacillaceae"
          ],
          [
           "Bacillaceae"
          ],
          [
           "Bacillaceae"
          ],
          [
           "Planococcaceae"
          ],
          [
           "Paenibacillaceae"
          ],
          [
           "Lachnospiraceae"
          ],
          [
           "Planococcaceae"
          ],
          [
           "Thermoanaerobacterales Family III. Incertae Sedis"
          ],
          [
           "Thermoanaerobacterales Family III. Incertae Sedis"
          ],
          [
           "Clostridiaceae"
          ],
          [
           "Clostridiaceae"
          ],
          [
           "Staphylococcaceae"
          ],
          [
           "Staphylococcaceae"
          ],
          [
           "Staphylococcaceae"
          ],
          [
           "Staphylococcaceae"
          ],
          [
           "Staphylococcaceae"
          ],
          [
           "Staphylococcaceae"
          ],
          [
           "Staphylococcaceae"
          ],
          [
           "Staphylococcaceae"
          ],
          [
           "Staphylococcaceae"
          ],
          [
           "Staphylococcaceae"
          ],
          [
           "Staphylococcaceae"
          ],
          [
           "Staphylococcaceae"
          ],
          [
           "Staphylococcaceae"
          ],
          [
           "Clostridiaceae"
          ],
          [
           "Thermoanaerobacterales Family III. Incertae Sedis"
          ],
          [
           "Erysipelotrichaceae"
          ],
          [
           "Clostridiaceae"
          ],
          [
           "Thermoanaerobacterales Family III. Incertae Sedis"
          ],
          [
           "Bacillaceae"
          ],
          [
           "Clostridiaceae"
          ],
          [
           "Thermohalobacteraceae"
          ],
          [
           "Lachnospiraceae"
          ],
          [
           "Lachnospiraceae"
          ],
          [
           "Lachnospiraceae"
          ],
          [
           "Lachnospiraceae"
          ],
          [
           "Eubacteriales incertae sedis"
          ],
          [
           "Paenibacillaceae"
          ],
          [
           "Paenibacillaceae"
          ],
          [
           "Carnobacteriaceae"
          ],
          [
           "Enterococcaceae"
          ],
          [
           "Erysipelotrichaceae"
          ],
          [
           "Erysipelotrichaceae"
          ],
          [
           "(?)"
          ],
          [
           "Bacillaceae"
          ]
         ],
         "domain": {
          "x": [
           0,
           1
          ],
          "y": [
           0,
           1
          ]
         },
         "hovertemplate": "labels=%{label}<br>index=%{value}<br>parent=%{parent}<br>id=%{id}<br>family=%{customdata[0]}<extra></extra>",
         "ids": [
          "Firmicutes/Erysipelotrichia/Erysipelotrichales/Erysipelotrichaceae/Amedibacterium intestinale",
          "Firmicutes/Bacilli/Lactobacillales/Lactobacillaceae/Latilactobacillus curvatus (Lactobacillus curvatus)",
          "Firmicutes/Clostridia/Eubacteriales/Clostridiaceae/Sarcina ventriculi (Clostridium ventriculi)",
          "Firmicutes/Bacilli/Lactobacillales/Lactobacillaceae/Schleiferilactobacillus perolens DSM 12744",
          "Firmicutes/Bacilli/Bacillales/Thermoactinomycetaceae/Shimazuella alba",
          "Firmicutes/Erysipelotrichia/Erysipelotrichales/Erysipelotrichaceae/Solobacterium moorei",
          "Firmicutes/Bacilli/Bacillales/Sporolactobacillaceae/Sporolactobacillus nakayamae",
          "Firmicutes/Bacilli/Bacillales/Sporolactobacillaceae/Sporolactobacillus sp. THM19-2",
          "Firmicutes/Bacilli/Bacillales/Staphylococcaceae/Staphylococcus aureus subsp. aureus CN1",
          "Firmicutes/Bacilli/Bacillales/Staphylococcaceae/Staphylococcus aureus subsp. aureus MN8",
          "Firmicutes/Bacilli/Bacillales/Staphylococcaceae/Staphylococcus aureus subsp. aureus USA300_TCH959",
          "Firmicutes/Clostridia/Eubacteriales/Clostridiaceae/Clostridium celatum DSM 1785",
          "Firmicutes/Clostridia/Eubacteriales/Clostridiaceae/Clostridium cavendishii DSM 21758",
          "Firmicutes/Clostridia/Eubacteriales/Clostridiaceae/Clostridium butyricum",
          "Firmicutes/Clostridia/Eubacteriales/Clostridiaceae/Clostridium botulinum Prevot_594",
          "Firmicutes/Bacilli/Bacillales/Staphylococcaceae/Staphylococcus devriesei",
          "Firmicutes/Bacilli/Bacillales/Staphylococcaceae/Staphylococcus edaphicus",
          "Firmicutes/Clostridia/Eubacteriales/Clostridiaceae/Clostridium bornimense",
          "Firmicutes/Bacilli/Bacillales/Staphylococcaceae/Staphylococcus epidermidis",
          "Firmicutes/Clostridia/Eubacteriales/Clostridiaceae/Clostridium amylolyticum",
          "Firmicutes/Clostridia/Eubacteriales/Clostridiaceae/Sarcina sp. JB2",
          "Firmicutes/Bacilli/Bacillales/Staphylococcaceae/Salinicoccus roseus",
          "Firmicutes/Bacilli/Bacillales/Bacillaceae/Salicibibacter cibarius",
          "Firmicutes/Bacilli/Bacillales/Bacillaceae/Salibacterium salarium",
          "Firmicutes/Clostridia/Eubacteriales/Lachnospiraceae/Roseburia sp. OM04-15AA",
          "Firmicutes/Clostridia/Eubacteriales/Clostridiaceae/Clostridium sporogenes (strain ATCC 7955 / DSM 767 / NBRC 16411 / NCIMB 8053 / NCTC 8594 / PA 3679)",
          "Firmicutes/Bacilli/Bacillales/Bacillaceae/Rossellomorea aquimaris",
          "Firmicutes/Bacilli/Bacillales/Bacillaceae/Rossellomorea marisflavi",
          "Firmicutes/Bacilli/Bacillales/Bacillaceae/Rossellomorea vietnamensis",
          "Firmicutes/Clostridia/Eubacteriales/Oscillospiraceae/Ruminococcaceae bacterium BL-4",
          "Firmicutes/Clostridia/Eubacteriales/Clostridiaceae/Clostridium sp. DSM 8431",
          "Firmicutes/Clostridia/Eubacteriales/Oscillospiraceae/Ruminococcaceae bacterium KH2T8",
          "Firmicutes/Clostridia/Eubacteriales/Clostridiaceae/Clostridium acetobutylicum (strain ATCC 824 / DSM 792 / JCM 1419 / LMG 5710 / VKM B-1787)",
          "Firmicutes/Clostridia/Eubacteriales/Oscillospiraceae/Ruminococcus albus",
          "Firmicutes/Clostridia/Eubacteriales/Lachnospiraceae/Ruminococcus gnavus (strain ATCC 29149 / VPI C7-9)",
          "Firmicutes/Clostridia/Eubacteriales/Oscillospiraceae/Ruminococcus sp",
          "Firmicutes/Clostridia/Eubacteriales/Oscillospiraceae/Ruminococcus sp. AF16-40",
          "Firmicutes/Clostridia/Eubacteriales/Oscillospiraceae/Ruminococcus sp. AF31-8BH",
          "Firmicutes/Clostridia/Eubacteriales/Oscillospiraceae/Ruminococcus sp. AM46-18",
          "Firmicutes/Clostridia/Eubacteriales/Oscillospiraceae/Ruminococcus sp. CAG:488",
          "Firmicutes/Clostridia/Eubacteriales/Oscillospiraceae/Ruminococcus sp. CAG:55",
          "Firmicutes/Clostridia/Eubacteriales/Oscillospiraceae/Ruthenibacterium lactatiformans",
          "Firmicutes/Clostridia/Eubacteriales/Lachnospiraceae/Ruminococcus gnavus",
          "Firmicutes/Clostridia/Eubacteriales/Clostridiaceae/Clostridiaceae bacterium OM02-2AC",
          "Firmicutes/Clostridia/Eubacteriales/Clostridiaceae/Clostridiaceae bacterium",
          "Firmicutes/Bacilli/Bacillales/Bacillaceae/Cerasibacillus terrae",
          "Firmicutes/Bacilli/Bacillales/Staphylococcaceae/Staphylococcus schleiferi",
          "Firmicutes/Bacilli/Bacillales/Staphylococcaceae/Staphylococcus schweitzeri",
          "Firmicutes/Bacilli/Bacillales/Staphylococcaceae/Staphylococcus sp. DORA_6_22",
          "Firmicutes/Bacilli/Bacillales/Staphylococcaceae/Staphylococcus sp. HMSC036D05",
          "Firmicutes/Bacilli/Bacillales/Staphylococcaceae/Staphylococcus sp. HMSC063F10",
          "Firmicutes/Bacilli/Bacillales/Staphylococcaceae/Staphylococcus sp. HMSC071G07",
          "Firmicutes/Bacilli/Bacillales/Staphylococcaceae/Staphylococcus sp. SB1-57",
          "Firmicutes/Bacilli/Lactobacillales/Streptococcaceae/Streptococcus acidominimus",
          "Firmicutes/Bacilli/Bacillales/Staphylococcaceae/Staphylococcus pettenkoferi",
          "Firmicutes/Bacilli/Lactobacillales/Streptococcaceae/Streptococcus agalactiae",
          "Firmicutes/Bacilli/Lactobacillales/Streptococcaceae/Streptococcus agalactiae LMG 14747",
          "Firmicutes/Bacilli/Lactobacillales/Streptococcaceae/Streptococcus agalactiae serotype III (strain NEM316)",
          "Firmicutes/Bacilli/Lactobacillales/Streptococcaceae/Streptococcus agalactiae serotype V (strain ATCC BAA-611 / 2603 V/R)",
          "Firmicutes/Bacilli/Lactobacillales/Streptococcaceae/Streptococcus alactolyticus",
          "Firmicutes/Bacilli/Lactobacillales/Streptococcaceae/Streptococcus australis",
          "Firmicutes/Bacilli/Lactobacillales/Streptococcaceae/Streptococcus azizii",
          "Firmicutes/Bacilli/Lactobacillales/Streptococcaceae/Streptococcus chenjunshii",
          "Firmicutes/Bacilli/Lactobacillales/Streptococcaceae/Streptococcus cristatus",
          "Firmicutes/Bacilli/Lactobacillales/Streptococcaceae/Streptococcus agalactiae FSL S3-586",
          "Firmicutes/Clostridia/Eubacteriales/Lachnospiraceae/Roseburia sp. OM04-10AA",
          "Firmicutes/Bacilli/Bacillales/Staphylococcaceae/Staphylococcus microti",
          "Firmicutes/Bacilli/Bacillales/Staphylococcaceae/Staphylococcus epidermidis W23144",
          "Firmicutes/Clostridia/Eubacteriales/Cellulosilyticaceae/Cellulosilyticum sp. WCF-2",
          "Firmicutes/Clostridia/Eubacteriales/Cellulosilyticaceae/Cellulosilyticum lentocellum (strain ATCC 49066 / DSM 5427 / NCIMB 11756 / RHM5) (Clostridium lentocellum)",
          "Firmicutes/Bacilli/Bacillales/Staphylococcaceae/Staphylococcus epidermidis (strain ATCC 12228 / FDA PCI 1200)",
          "Firmicutes/Bacilli/Bacillales/Staphylococcaceae/Staphylococcus epidermidis (strain ATCC 35984 / RP62A)",
          "Firmicutes/Bacilli/Bacillales/Staphylococcaceae/Staphylococcus epidermidis CIM40",
          "Firmicutes/Bacilli/Lactobacillales/Carnobacteriaceae/Carnobacterium divergens (Lactobacillus divergens)",
          "Firmicutes/Clostridia/Eubacteriales/Lachnospiraceae/Candidatus Scybalocola faecigallinarum",
          "Firmicutes/Clostridia/Eubacteriales/Lachnospiraceae/Candidatus Pullilachnospira stercoravium",
          "Firmicutes/Bacilli/Bacillales/Staphylococcaceae/Staphylococcus lugdunensis",
          "Firmicutes/Bacilli/Lactobacillales/Lactobacillaceae/Candidatus Paralactobacillus gallistercoris",
          "Firmicutes/Erysipelotrichia/Erysipelotrichales/Erysipelotrichaceae/Candidatus Merdibacter merdavium",
          "Firmicutes/Clostridia/Eubacteriales/Lachnospiraceae/Candidatus Mediterraneibacter faecipullorum",
          "Firmicutes/Clostridia/Eubacteriales/Lachnospiraceae/Candidatus Mediterraneibacter faecigallinarum",
          "Firmicutes/Bacilli/Lactobacillales/Streptococcaceae/Lactococcus allomyrinae",
          "Firmicutes/Clostridia/Eubacteriales/Lachnospiraceae/Candidatus Lachnoclostridium stercoravium",
          "Firmicutes/Clostridia/Eubacteriales/Oscillospiraceae/Candidatus Fournierella pullicola",
          "Firmicutes/Clostridia/Eubacteriales/Oscillospiraceae/Candidatus Flavonifractor merdigallinarum",
          "Firmicutes/Bacilli/Bacillales/Staphylococcaceae/Staphylococcus epidermidis M23864:W2(grey)",
          "Firmicutes/Clostridia/Eubacteriales/Oscillospiraceae/Candidatus Monoglobus merdigallinarum",
          "Firmicutes/Clostridia/Eubacteriales/Lachnospiraceae/Coprococcus comes",
          "Firmicutes/Clostridia/Eubacteriales/Lachnospiraceae/Roseburia sp. CAG:471",
          "Firmicutes/Clostridia/Eubacteriales/Lachnospiraceae/Coprococcus eutactus",
          "Firmicutes/Bacilli/Bacillales/Listeriaceae/Listeria riparia FSL S10-1204",
          "Firmicutes/Bacilli/Bacillales/Staphylococcaceae/Mammaliicoccus stepanovicii",
          "Firmicutes/Bacilli/Bacillales/Bacillaceae/Metabacillus lacus",
          "Firmicutes/Bacilli/Bacillales/Bacillaceae/Metabacillus litoralis",
          "Firmicutes/Bacilli/Bacillales/Bacillaceae/Metabacillus mangrovi",
          "Firmicutes/Negativicutes/Selenomonadales/Selenomonadaceae/Mitsuokella sp. AF33-22",
          "Firmicutes/Bacilli/Bacillales/Bacillaceae/Fictibacillus enclensis",
          "Firmicutes/Clostridia/Eubacteriales/Lachnospiraceae/Mobilisporobacter senegalensis",
          "Firmicutes/Bacilli/Bacillales/Listeriaceae/Listeria monocytogenes serotype 4a (strain M7)",
          "Firmicutes/Bacilli/Bacillales/Bacillaceae/Neobacillus bataviensis LMG 21833",
          "Firmicutes/Bacilli/Bacillales/Bacillaceae/Niallia circulans (Bacillus circulans)",
          "Firmicutes/Bacilli/Bacillales/Bacillaceae/Oceanobacillus halophilus",
          "Firmicutes/Clostridia/Eubacteriales/Eubacteriaceae/Eubacterium sp. TM05-53",
          "Firmicutes/Clostridia/Eubacteriales/Eubacteriaceae/Eubacterium sp. CAG:146",
          "Firmicutes/Clostridia/Eubacteriales/Eubacteriaceae/Eubacterium sp. An11",
          "Firmicutes/Clostridia/Eubacteriales/Eubacteriaceae/Eubacterium sp. AF22-8LB",
          "Firmicutes/Clostridia/Eubacteriales/Eubacteriaceae/Eubacterium sp. 38_16",
          "Firmicutes/Clostridia/Eubacteriales/Eubacteriaceae/Eubacterium sp",
          "Firmicutes/Bacilli/Bacillales/Bacillaceae/Neobacillus vireti LMG 21834",
          "Firmicutes/Bacilli/Bacillales/Bacillaceae/Oceanobacillus iheyensis (strain DSM 14371 / CIP 107618 / JCM 11309 / KCTC 3954 / HTE831)",
          "Firmicutes/Bacilli/Bacillales/Listeriaceae/Listeria aquatica",
          "Firmicutes/Bacilli/Lactobacillales/Lactobacillaceae/Liquorilactobacillus hordei",
          "Firmicutes/Bacilli/Lactobacillales/Streptococcaceae/Lactococcus cremoris subsp. cremoris A76",
          "Firmicutes/Bacilli/Lactobacillales/Streptococcaceae/Lactococcus cremoris subsp. cremoris IBB477",
          "Firmicutes/Bacilli/Lactobacillales/Streptococcaceae/Lactococcus cremoris subsp. cremoris KW2",
          "Firmicutes/Bacilli/Lactobacillales/Streptococcaceae/Lactococcus cremoris subsp. cremoris TIFN1",
          "Firmicutes/Bacilli/Lactobacillales/Streptococcaceae/Lactococcus cremoris subsp. cremoris TIFN3",
          "Firmicutes/Bacilli/Lactobacillales/Streptococcaceae/Lactococcus lactis subsp. lactis (strain KF147)",
          "Firmicutes/Bacilli/Lactobacillales/Streptococcaceae/Lactococcus lactis subsp. lactis CNCM I-1631",
          "Firmicutes/Bacilli/Lactobacillales/Streptococcaceae/Lactococcus piscium MKFS47",
          "Firmicutes/Bacilli/Lactobacillales/Lactobacillaceae/Liquorilactobacillus mali",
          "Firmicutes/Bacilli/Lactobacillales/Streptococcaceae/Lactococcus plantarum",
          "Firmicutes/Bacilli/Lactobacillales/Streptococcaceae/Lactococcus raffinolactis",
          "Firmicutes/Bacilli/Lactobacillales/Streptococcaceae/Lactococcus reticulitermitis",
          "Firmicutes/Bacilli/Lactobacillales/Streptococcaceae/Lactococcus sp",
          "Firmicutes/Bacilli/Lactobacillales/Streptococcaceae/Lactococcus sp. DD01",
          "Firmicutes/Bacilli/Lactobacillales/Lactobacillaceae/Latilactobacillus fuchuensis",
          "Firmicutes/Clostridia/Eubacteriales/Lachnospiraceae/Lachnobacterium bovis DSM 14045",
          "Firmicutes/Bacilli/Lactobacillales/Lactobacillaceae/Ligilactobacillus pobuzihii",
          "Firmicutes/Bacilli/Lactobacillales/Lactobacillaceae/Ligilactobacillus salitolerans",
          "Firmicutes/Bacilli/Lactobacillales/Streptococcaceae/Lactococcus protaetiae",
          "Firmicutes/Bacilli/Bacillales/Bacillaceae/Oceanobacillus sp. J11TS1",
          "Firmicutes/Clostridia/Eubacteriales/Lachnospiraceae/Oribacterium sp. KHPX15",
          "Firmicutes/Clostridia/Eubacteriales/Oscillospiraceae/Oscillibacter sp",
          "Firmicutes/Bacilli/Lactobacillales/Enterococcaceae/Enterococcus faecalis 02-MB-BW-10",
          "Firmicutes/Bacilli/Lactobacillales/Enterococcaceae/Enterococcus faecalis (Streptococcus faecalis)",
          "Firmicutes/Bacilli/Lactobacillales/Enterococcaceae/Enterococcus columbae DSM 7374 = ATCC 51263",
          "Firmicutes/Bacilli/Lactobacillales/Enterococcaceae/Enterococcus cecorum",
          "Firmicutes/Clostridia/Eubacteriales/Lachnospiraceae/Roseburia sp. AF15-21",
          "Firmicutes/Clostridia/Eubacteriales/Lachnospiraceae/Roseburia sp. AF20-18LB",
          "Firmicutes/Clostridia/Eubacteriales/Lachnospiraceae/Roseburia sp. AF25-13LB",
          "Firmicutes/Clostridia/Eubacteriales/Lachnospiraceae/Roseburia sp. AF25-15LB",
          "Firmicutes/Bacilli/Lactobacillales/Enterococcaceae/Enterococcus faecalis ATCC 6055",
          "Firmicutes/Clostridia/Eubacteriales/Lachnospiraceae/Roseburia sp. AF25-18LB",
          "Firmicutes/Negativicutes/Veillonellales/Veillonellaceae/Dialister hominis",
          "Firmicutes/Clostridia/Eubacteriales/Peptococcaceae/Desulforamulus profundi",
          "Firmicutes/Clostridia/Eubacteriales/Peptostreptococcaceae/Criibacterium bergeronii",
          "Firmicutes/Clostridia/Eubacteriales/Lachnospiraceae/Coprococcus sp. OM06-34AC",
          "Firmicutes/Clostridia/Eubacteriales/Lachnospiraceae/Coprococcus sp. CAG:131",
          "Firmicutes/Clostridia/Eubacteriales/Lachnospiraceae/Roseburia sp. AF42-8",
          "Firmicutes/Clostridia/Eubacteriales/Lachnospiraceae/Roseburia sp. CAG:197",
          "Firmicutes/Clostridia/Eubacteriales/Lachnospiraceae/Coprococcus sp. AF16-5",
          "Firmicutes/Clostridia/Eubacteriales/Lachnospiraceae/Roseburia sp. AF25-25LB",
          "Firmicutes/Bacilli/Lactobacillales/Enterococcaceae/Enterococcus faecalis TX4248",
          "Firmicutes/Bacilli/Lactobacillales/Enterococcaceae/Enterococcus faecalis WKS-26-18-2",
          "Firmicutes/Bacilli/Lactobacillales/Enterococcaceae/Enterococcus faecium (Streptococcus faecium)",
          "Firmicutes/Clostridia/Eubacteriales/Oscillospiraceae/Oscillospiraceae bacterium",
          "Firmicutes/Bacilli/Bacillales/Paenibacillaceae/Paenibacillus albilobatus",
          "Firmicutes/Erysipelotrichia/Erysipelotrichales/Erysipelotrichaceae/Erysipelotrichaceae bacterium AF15-26LB",
          "Firmicutes/Bacilli/Bacillales/Paenibacillaceae/Paenibacillus ihbetae",
          "Firmicutes/Bacilli/Bacillales/Paenibacillaceae/Paenibacillus illinoisensis",
          "Firmicutes/Bacilli/Bacillales/Paenibacillaceae/Paenibacillus lactis 154",
          "Firmicutes/Bacilli/Bacillales/Paenibacillaceae/Paenibacillus lautus (Bacillus lautus)",
          "Firmicutes/Bacilli/Bacillales/Paenibacillaceae/Paenibacillus sp. TCA20",
          "Firmicutes/Bacilli/Bacillales/Paenibacillaceae/Paenibacillus sp. VMFN-D1",
          "Firmicutes/Bacilli/Bacillales/Paenibacillaceae/Paenibacillus sp. cl141a",
          "Firmicutes/Bacilli/Bacillales/Paenibacillaceae/Paenibacillus sp. cl6col",
          "Firmicutes/Bacilli/Lactobacillales/Enterococcaceae/Enterococcus sp. 7E2_DIV0204",
          "Firmicutes/Bacilli/Lactobacillales/Enterococcaceae/Enterococcus sp. 7D2_DIV0200",
          "Firmicutes/Bacilli/Lactobacillales/Enterococcaceae/Enterococcus sp. 4G2_DIV0659",
          "Firmicutes/Bacilli/Lactobacillales/Enterococcaceae/Enterococcus sp. 3H8_DIV0648",
          "Firmicutes/Bacilli/Lactobacillales/Enterococcaceae/Enterococcus sp. 12C11_DIV0727",
          "Firmicutes/Bacilli/Lactobacillales/Enterococcaceae/Enterococcus sp. 10F3_DIV0382",
          "Firmicutes/Bacilli/Lactobacillales/Enterococcaceae/Enterococcus mundtii CRL35",
          "Firmicutes/Bacilli/Lactobacillales/Enterococcaceae/Enterococcus faecium 1,141,733",
          "Firmicutes/Bacilli/Lactobacillales/Streptococcaceae/Streptococcus cuniculi",
          "Firmicutes/Bacilli/Lactobacillales/Streptococcaceae/Streptococcus equi subsp. ruminatorum",
          "Firmicutes/Clostridia/Eubacteriales/Lachnospiraceae/Candidatus Mediterraneibacter faecavium",
          "Firmicutes/Bacilli/Lactobacillales/Streptococcaceae/Streptococcus equi subsp. zooepidemicus",
          "Firmicutes/Bacilli/Lactobacillales/Streptococcaceae/Streptococcus sp. M143",
          "Firmicutes/Bacilli/Lactobacillales/Streptococcaceae/Streptococcus sp. NLAE-zl-C503",
          "Firmicutes/Bacilli/Lactobacillales/Streptococcaceae/Streptococcus sp. NM",
          "Firmicutes/Bacilli/Bacillales/Bacillaceae/Bacillus mycoides (strain KBAB4) (Bacillus weihenstephanensis)",
          "Firmicutes/Bacilli/Lactobacillales/Streptococcaceae/Streptococcus sp. SK643",
          "Firmicutes/Bacilli/Lactobacillales/Streptococcaceae/Streptococcus sp. zg-86",
          "Firmicutes/Bacilli/Lactobacillales/Streptococcaceae/Streptococcus sp. GMD4S",
          "Firmicutes/Bacilli/Lactobacillales/Streptococcaceae/Streptococcus suis",
          "Firmicutes/Bacilli/Lactobacillales/Streptococcaceae/Streptococcus uberis",
          "Firmicutes/Bacilli/Lactobacillales/Streptococcaceae/Streptococcus viridans",
          "Firmicutes/Bacilli/Lactobacillales/Streptococcaceae/Streptococcus equi subsp. ruminatorum CECT 5772",
          "Firmicutes/Bacilli/Lactobacillales/Streptococcaceae/Streptococcus zalophi",
          "Firmicutes/Bacilli/Lactobacillales/Enterococcaceae/Vagococcus salmoninarum",
          "Firmicutes/Bacilli/Bacillales/Bacillaceae/Virgibacillus sp. SK37",
          "Firmicutes/Bacilli/Lactobacillales/Streptococcaceae/Streptococcus symci",
          "Firmicutes/Bacilli/Lactobacillales/Lactobacillaceae/Weissella muntiaci",
          "Firmicutes/Bacilli/Lactobacillales/Streptococcaceae/Streptococcus sp. FDAARGOS_256",
          "Firmicutes/Bacilli/Lactobacillales/Streptococcaceae/Streptococcus sp. BS35b",
          "Firmicutes/Bacilli/Bacillales/Bacillaceae/Bacillus sp. BD59S",
          "Firmicutes/Bacilli/Bacillales/Bacillaceae/Bacillus sp. BB51/4",
          "Firmicutes/Bacilli/Bacillales/Bacillaceae/Bacillus sp. B3-WWTP-C-10-D-3",
          "Firmicutes/Bacilli/Lactobacillales/Streptococcaceae/Streptococcus sp. 45",
          "Firmicutes/Bacilli/Lactobacillales/Streptococcaceae/Streptococcus sp. AN2",
          "Firmicutes/Bacilli/Bacillales/Bacillaceae/Bacillus sp. AY1-10",
          "Firmicutes/Bacilli/Lactobacillales/Streptococcaceae/Streptococcus sp. DD11",
          "Firmicutes/Bacilli/Bacillales/Bacillaceae/Bacillus sp. AR13-1",
          "Firmicutes/Bacilli/Bacillales/Bacillaceae/Bacillus sp. AFS094611",
          "Firmicutes/Bacilli/Bacillales/Bacillaceae/Bacillus sp. AFS075960",
          "Firmicutes/Bacilli/Bacillales/Bacillaceae/Bacillus sp. AFS059628",
          "Firmicutes/Bacilli/Bacillales/Bacillaceae/Bacillus sp. AFS040349",
          "Firmicutes/Bacilli/Lactobacillales/Streptococcaceae/Streptococcus sp. AS14",
          "Firmicutes/Bacilli/Lactobacillales/Streptococcaceae/Streptococcus sp. BIOML-A1",
          "Firmicutes/Bacilli/Bacillales/Bacillaceae/Bacillus sp. ANT_WA51",
          "Firmicutes/Bacilli/Bacillales/Bacillaceae/Bacillus cereus Rock3-42",
          "Firmicutes/Clostridia/Eubacteriales/Lachnospiraceae/[Ruminococcus] lactaris",
          "Firmicutes/Clostridia/Eubacteriales/Lachnospiraceae/[Ruminococcus] torques",
          "Firmicutes/Bacilli/Bacillales/Bacillaceae/Bacillus albus",
          "Firmicutes/Bacilli/Bacillales/Bacillaceae/Anoxybacillus suryakundensis",
          "Firmicutes/Bacilli/Bacillales/Bacillaceae",
          "Firmicutes/Bacilli/Bacillales/Bacillales incertae sedis",
          "Firmicutes/Bacilli/Lactobacillales/Carnobacteriaceae",
          "Firmicutes/Clostridia/Eubacteriales/Cellulosilyticaceae",
          "Firmicutes/Bacilli/Bacillales/Bacillaceae/Bacillus anthracis",
          "Firmicutes/Clostridia/Eubacteriales/Clostridiaceae",
          "Firmicutes/Clostridia/Eubacteriales/Lachnospiraceae/Anaerobutyricum hallii",
          "Firmicutes/Erysipelotrichia/Erysipelotrichales/Erysipelotrichaceae/Amedibacillus dolichus DSM 3991",
          "Firmicutes/Bacilli/Lactobacillales/Lactobacillaceae",
          "Firmicutes/Bacilli/Bacillales/Listeriaceae",
          "Firmicutes/Clostridia/Eubacteriales/Oscillospiraceae",
          "Firmicutes/Erysipelotrichia/Erysipelotrichales/Erysipelotrichaceae/Absiella sp. AM27-20",
          "Firmicutes/Clostridia/Eubacteriales/Lachnospiraceae/Anaeromicropila herbilytica",
          "Firmicutes/Bacilli/Bacillales/Bacillaceae/Bacillus aquiflavi",
          "Firmicutes/Bacilli/Bacillales/Alicyclobacillaceae",
          "Firmicutes/Bacilli/Lactobacillales/Aerococcaceae",
          "Firmicutes/Clostridia/Eubacteriales/Lachnospiraceae/[Ruminococcus] torques ATCC 27756",
          "Firmicutes/Bacilli/Bacillales/Bacillaceae/Bacillus cereus HuA2-1",
          "Firmicutes/Bacilli/Bacillales/Bacillaceae/Bacillus cereus BGSC 6E1",
          "Firmicutes/Bacilli/Bacillales/Bacillaceae/Bacillus cereus BDRD-ST196",
          "Firmicutes/Clostridia/Eubacteriales/Oscillospiraceae/[Ruminococcus] torques CAG:61",
          "Firmicutes/Clostridia/Eubacteriales/Lachnospiraceae/uncultured Blautia sp",
          "Firmicutes/Bacilli/Bacillales/Bacillaceae/Bacillus cereus AH1272",
          "Firmicutes/Clostridia/Eubacteriales/Clostridiaceae/uncultured Clostridium sp",
          "Firmicutes/Bacilli/Bacillales/Bacillaceae/Bacillus cereus (strain ZK / E33L)",
          "Firmicutes/Bacilli/Bacillales/Bacillaceae/Bacillus cereus (strain VD146)",
          "Firmicutes/Bacilli/Bacillales/Bacillaceae/Bacillus cereus (strain MSX-D12)",
          "Firmicutes/Clostridia/Eubacteriales/Lachnospiraceae/uncultured Coprococcus sp",
          "Firmicutes/Bacilli/Bacillales/Bacillaceae/Bacillus cereus (strain ATCC 10987 / NRS 248)",
          "Firmicutes/Clostridia/Eubacteriales/Lachnospiraceae/uncultured Roseburia sp",
          "Firmicutes/Clostridia/Eubacteriales/Oscillospiraceae/uncultured Ruminococcus sp",
          "Firmicutes/Bacilli/Bacillales/Bacillaceae/Bacillus sp. BF9-10",
          "Firmicutes/Bacilli/Bacillales/Bacillaceae/Bacillus sp. BH2",
          "Firmicutes/Bacilli/Lactobacillales/Streptococcaceae/Streptococcus xiaochunlingii",
          "Firmicutes/Bacilli/Lactobacillales/Streptococcaceae/Streptococcus sp. 2_1_36FAA",
          "Firmicutes/Bacilli/Bacillales/Bacillaceae/Bacillus thuringiensis serovar pingluonsis",
          "Firmicutes/Bacilli/Bacillales/Bacillaceae/Bacillus thuringiensis serovar navarrensis",
          "Firmicutes/Bacilli/Bacillales/Bacillaceae/Bacillus thuringiensis serovar mexicanensis",
          "Firmicutes/Bacilli/Lactobacillales/Streptococcaceae/Streptococcus mitis bv. 2 str. SK95",
          "Firmicutes/Bacilli/Lactobacillales/Streptococcaceae/Streptococcus oralis",
          "Firmicutes/Bacilli/Lactobacillales/Streptococcaceae/Streptococcus oralis (strain Uo5)",
          "Firmicutes/Bacilli/Lactobacillales/Streptococcaceae/Streptococcus oralis ATCC 35037",
          "Firmicutes/Bacilli/Bacillales/Bacillaceae/Bacillus thuringiensis MC28",
          "Firmicutes/Bacilli/Lactobacillales/Streptococcaceae/Streptococcus mitis 18/56",
          "Firmicutes/Bacilli/Lactobacillales/Streptococcaceae/Streptococcus oralis ATCC 49296",
          "Firmicutes/Bacilli/Lactobacillales/Streptococcaceae/Streptococcus oralis SK610",
          "Firmicutes/Bacilli/Lactobacillales/Streptococcaceae/Streptococcus oralis subsp. dentisani",
          "Firmicutes/Bacilli/Lactobacillales/Streptococcaceae/Streptococcus oralis subsp. oralis",
          "Firmicutes/Bacilli/Bacillales/Bacillaceae/Bacillus sp. BH32",
          "Firmicutes/Bacilli/Lactobacillales/Streptococcaceae/Streptococcus oralis subsp. tigurinus",
          "Firmicutes/Bacilli/Lactobacillales/Streptococcaceae/Streptococcus pantholopis",
          "Firmicutes/Bacilli/Lactobacillales/Streptococcaceae/Streptococcus parasanguinis",
          "Firmicutes/Bacilli/Lactobacillales/Streptococcaceae/Streptococcus parasanguinis (strain ATCC 15912 / DSM 6778 / CIP 104372 / LMG 14537)",
          "Firmicutes/Bacilli/Lactobacillales/Streptococcaceae/Streptococcus oralis SK1074",
          "Firmicutes/Bacilli/Lactobacillales/Streptococcaceae/Streptococcus parasanguinis F0405",
          "Firmicutes/Bacilli/Lactobacillales/Streptococcaceae/Streptococcus mitis 13/39",
          "Firmicutes/Bacilli/Lactobacillales/Streptococcaceae/Streptococcus macacae NCTC 11558",
          "Firmicutes/Bacilli/Lactobacillales/Streptococcaceae/Streptococcus equi subsp. zooepidemicus (strain H70)",
          "Firmicutes/Bacilli/Lactobacillales/Streptococcaceae/Streptococcus equi subsp. zooepidemicus (strain MGCS10565)",
          "Firmicutes/Bacilli/Lactobacillales/Streptococcaceae/Streptococcus equinus (Streptococcus bovis)",
          "Firmicutes/Bacilli/Lactobacillales/Streptococcaceae/Streptococcus equinus JB1",
          "Firmicutes/Bacilli/Lactobacillales/Streptococcaceae/Streptococcus ferus",
          "Firmicutes/Clostridia/Eubacteriales/Lachnospiraceae/Blautia faecicola",
          "Firmicutes/Bacilli/Lactobacillales/Streptococcaceae/Streptococcus gallolyticus",
          "Firmicutes/Bacilli/Lactobacillales/Streptococcaceae/Streptococcus gallolyticus (strain ATCC 43143 / F-1867)",
          "Firmicutes/Bacilli/Lactobacillales/Streptococcaceae/Streptococcus mitis",
          "Firmicutes/Bacilli/Lactobacillales/Streptococcaceae/Streptococcus gallolyticus subsp. gallolyticus DSM 16831",
          "Firmicutes/Bacilli/Lactobacillales/Streptococcaceae/Streptococcus gordonii",
          "Firmicutes/Bacilli/Lactobacillales/Streptococcaceae/Streptococcus gordonii (strain Challis / ATCC 35105 / BCRC 15272 / CH1 / DL1 / V288)",
          "Firmicutes/Bacilli/Bacillales/Bacillaceae/Bacillus vallismortis",
          "Firmicutes/Bacilli/Lactobacillales/Streptococcaceae/Streptococcus gwangjuense",
          "Firmicutes/Bacilli/Lactobacillales/Streptococcaceae/Streptococcus infantis ATCC 700779",
          "Firmicutes/Bacilli/Lactobacillales/Streptococcaceae/Streptococcus intermedius",
          "Firmicutes/Bacilli/Lactobacillales/Streptococcaceae/Streptococcus intermedius (strain ATCC 27335 / DSM 20573 / CCUG 32759 / CIP 103248 / JCM 12996 / LMG 17840 / NCTC 11324 / SK54 / 1877)",
          "Firmicutes/Bacilli/Lactobacillales/Streptococcaceae/Streptococcus intermedius B196",
          "Firmicutes/Bacilli/Bacillales/Bacillaceae/Bacillus wiedmannii",
          "Firmicutes/Bacilli/Lactobacillales/Streptococcaceae/Streptococcus parasanguinis FW213",
          "Firmicutes/Bacilli/Lactobacillales/Streptococcaceae/Lactococcus chungangensis CAU 28 = DSM 22330",
          "Firmicutes/Bacilli/Lactobacillales/Streptococcaceae/Streptococcus pluranimalium",
          "Firmicutes/Bacilli/Lactobacillales/Streptococcaceae/Streptococcus sanguinis SK330",
          "Firmicutes/Bacilli/Lactobacillales/Streptococcaceae/Streptococcus ruminicola",
          "Firmicutes/Bacilli/Lactobacillales/Streptococcaceae/Streptococcus sanguinis SK355",
          "Firmicutes/Bacilli/Lactobacillales/Streptococcaceae/Streptococcus salivarius",
          "Firmicutes/Bacilli/Lactobacillales/Streptococcaceae/Streptococcus sanguinis SK408",
          "Firmicutes/Bacilli/Lactobacillales/Streptococcaceae/Streptococcus sanguinis SK678",
          "Firmicutes/Bacilli/Lactobacillales/Streptococcaceae/Streptococcus sanguinis SK160",
          "Firmicutes/Bacilli/Lactobacillales/Streptococcaceae/Streptococcus sanguinis SK150",
          "Firmicutes/Bacilli/Lactobacillales/Streptococcaceae/Streptococcus sanguinis SK115",
          "Firmicutes/Bacilli/Bacillales/Bacillaceae/Bacillus sp. COPE52",
          "Firmicutes/Bacilli/Bacillales/Bacillaceae/Bacillus sp. LL01",
          "Firmicutes/Bacilli/Bacillales/Bacillaceae/Bacillus sp. MYb56",
          "Firmicutes/Bacilli/Lactobacillales/Streptococcaceae/Streptococcus sanguinis SK1087",
          "Firmicutes/Bacilli/Lactobacillales/Streptococcaceae/Streptococcus salivarius K12",
          "Firmicutes/Bacilli/Lactobacillales/Streptococcaceae/Streptococcus sanguinis SK72",
          "Firmicutes/Bacilli/Bacillales/Bacillaceae/Bacillus sp. CH126_4D",
          "Firmicutes/Bacilli/Bacillales/Bacillaceae/Bacillus sp. MYb209",
          "Firmicutes/Bacilli/Lactobacillales/Streptococcaceae/Streptococcus sanguinis",
          "Firmicutes/Bacilli/Lactobacillales/Streptococcaceae/Streptococcus sp",
          "Firmicutes/Bacilli/Lactobacillales/Streptococcaceae/Streptococcus sp. 1643",
          "Firmicutes/Bacilli/Lactobacillales/Streptococcaceae/Streptococcus sanguinis (strain SK36)",
          "Firmicutes/Bacilli/Lactobacillales/Streptococcaceae/Streptococcus sanguinis SK1056",
          "Firmicutes/Bacilli/Lactobacillales/Streptococcaceae/Streptococcus parauberis NCFD 2020",
          "Firmicutes/Bacilli/Lactobacillales/Streptococcaceae/Streptococcus ruminantium",
          "Firmicutes/Bacilli/Lactobacillales/Streptococcaceae/Streptococcus sanguinis SK1057",
          "Firmicutes/Bacilli/Lactobacillales/Streptococcaceae/Streptococcus sanguinis SK353",
          "Firmicutes/Erysipelotrichia/Erysipelotrichales/Erysipelotrichaceae/Longicatena caecimuris",
          "Firmicutes/Bacilli/Bacillales/Bacillaceae/Virgibacillus massiliensis",
          "Firmicutes/Bacilli/Bacillales/Bacillaceae/Virgibacillus dokdonensis",
          "Firmicutes/Bacilli/Lactobacillales/Lactobacillaceae/Lactobacillus sp",
          "Firmicutes/Bacilli/Bacillales/Bacillaceae/Bacillus subtilis",
          "Firmicutes/Clostridia/Eubacteriales/Oscillospiraceae/Faecalibacterium prausnitzii",
          "Firmicutes/Clostridia/Eubacteriales/Oscillospiraceae/Faecalibacterium sp. An122",
          "Firmicutes/Clostridia/Eubacteriales/Oscillospiraceae/Faecalibacterium sp. An192",
          "Firmicutes/Erysipelotrichia/Erysipelotrichales/Erysipelotrichaceae/Faecalibaculum rodentium",
          "Firmicutes/Clostridia/Eubacteriales/Clostridiaceae/Clostridium sp. CAG:245",
          "Firmicutes/Bacilli/Lactobacillales/Streptococcaceae/Lactococcus paracarnosus",
          "Firmicutes/Erysipelotrichia/Erysipelotrichales/Erysipelotrichaceae/Faecalicoccus acidiformans",
          "Firmicutes/Erysipelotrichia/Erysipelotrichales/Erysipelotrichaceae/Faecalicoccus pleomorphus",
          "Firmicutes/Clostridia/Eubacteriales/Clostridiaceae/Clostridium sp. CAG:417",
          "Firmicutes/Clostridia/Eubacteriales/Clostridiaceae/Clostridium sp. CAG:43",
          "Firmicutes/Bacilli/Lactobacillales/Lactobacillaceae/Latilactobacillus fuchuensis DSM 14340 = JCM 11249",
          "Firmicutes/Bacilli/Lactobacillales/Lactobacillaceae/Latilactobacillus graminis",
          "Firmicutes/Bacilli/Lactobacillales/Lactobacillaceae/Ligilactobacillus murinus DSM 20452 = NBRC 14221",
          "Firmicutes/Bacilli/Lactobacillales/Lactobacillaceae/Ligilactobacillus salivarius (strain UCC118) (Lactobacillus salivarius)",
          "Firmicutes/Bacilli/Lactobacillales/Lactobacillaceae/Limosilactobacillus equigenerosi DSM 18793 = JCM 14505",
          "Firmicutes/Bacilli/Bacillales/Bacillaceae/Bacillus sp. AY18-3",
          "Firmicutes/Bacilli/Bacillales/Listeriaceae/Listeria aquatica FSL S10-1188",
          "Firmicutes/Bacilli/Bacillales/Bacillaceae/Metabacillus indicus (Bacillus indicus)",
          "Firmicutes/Bacilli/Bacillales/Bacillaceae/Mesobacillus zeae",
          "Firmicutes/Bacilli/Bacillales/Bacillaceae/Mesobacillus subterraneus",
          "Firmicutes/Bacilli/Bacillales/Bacillaceae/Mesobacillus selenatarsenatis",
          "Firmicutes/Bacilli/Bacillales/Bacillaceae/Mesobacillus foraminis",
          "Firmicutes/Clostridia/Eubacteriales/Lachnospiraceae/Mediterraneibacter sp",
          "Firmicutes/Bacilli/Bacillales/Bacillaceae/Lentibacillus kapialis",
          "Firmicutes/Bacilli/Lactobacillales/Aerococcaceae/Facklamia sp. 252",
          "Firmicutes/Erysipelotrichia/Erysipelotrichales/Erysipelotrichaceae/Faecalibacillus faecis",
          "Firmicutes/Bacilli/Lactobacillales/Streptococcaceae/Streptococcus sp. HMSC063B03",
          "Firmicutes/Bacilli/Bacillales/Bacillaceae/Terribacillus sp. 7520-G",
          "Firmicutes/Bacilli/Bacillales/Alicyclobacillaceae/Tumebacillus flagellatus",
          "Firmicutes/Clostridia/Eubacteriales/Lachnospiraceae/Extibacter muris",
          "Firmicutes/Bacilli/Bacillales/Alicyclobacillaceae/Tumebacillus permanentifrigoris",
          "Firmicutes/Erysipelotrichia/Erysipelotrichales/Coprobacillaceae/[Clostridium] innocuum 2959",
          "Firmicutes/Clostridia/Eubacteriales/Lachnospiraceae/Enterocloster bolteae 90B8",
          "Firmicutes/Clostridia/Eubacteriales/Lachnospiraceae/Enterocloster bolteae",
          "Firmicutes/Bacilli/Bacillales/Bacillaceae/Bacillus cereus Rock3-28",
          "Firmicutes/Bacilli/Lactobacillales/Streptococcaceae/Streptococcus sp. HMSC069D09",
          "Firmicutes/Negativicutes/Veillonellales/Veillonellaceae/Dialister sp. CAG:486",
          "Firmicutes/Bacilli/Bacillales/Bacillaceae/Bacillus pseudomycoides",
          "Firmicutes/Bacilli/Bacillales/Bacillaceae/Bacillus cereus BAG6X1-2",
          "Firmicutes/Clostridia/Eubacteriales/Lachnospiraceae/Dorea longicatena",
          "Firmicutes/Bacilli/Bacillales/Bacillaceae/Bacillus cereus (strain ATCC 14579 / DSM 31 / CCUG 7414 / JCM 2152 / NBRC 15305 / NCIMB 9373 / NCTC 2599 / NRRL B-3711)",
          "Firmicutes/Bacilli/Bacillales/Paenibacillaceae/Paenibacillus faecis",
          "Firmicutes/Clostridia/Eubacteriales/Oscillospiraceae/Pseudoflavonifractor sp. An187",
          "Firmicutes/Clostridia/Eubacteriales/Oscillospiraceae/Pseudoflavonifractor sp. An44",
          "Firmicutes/Bacilli/Bacillales/Bacillaceae/Pseudogracilibacillus auburnensis",
          "Firmicutes/Clostridia/Eubacteriales/Lachnospiraceae/Roseburia inulinivorans",
          "Firmicutes/Clostridia/Eubacteriales/Lachnospiraceae/Roseburia sp",
          "Firmicutes/Clostridia/Eubacteriales/Eubacteriales incertae sedis",
          "Firmicutes/Clostridia/Eubacteriales/Lachnospiraceae",
          "Firmicutes/Clostridia/Eubacteriales/Lachnospiraceae/Roseburia sp. 40_7",
          "Firmicutes/Clostridia/Eubacteriales/Lachnospiraceae/Roseburia sp. AF02-12",
          "Firmicutes/Clostridia/Eubacteriales/Lachnospiraceae/Roseburia sp. 831b",
          "Firmicutes/Clostridia/Eubacteriales/Peptococcaceae",
          "Firmicutes/Tissierellia/Tissierellales/Peptoniphilaceae",
          "Firmicutes/Bacilli/Lactobacillales/Streptococcaceae/Lactococcus lactis subsp. lactis (Streptococcus lactis)",
          "Firmicutes/Clostridia/Eubacteriales/Peptostreptococcaceae",
          "Firmicutes/Bacilli/Bacillales/Planococcaceae",
          "Firmicutes/Clostridia/Eubacteriales/Lachnospiraceae/Roseburia sp. AF12-17LB",
          "Firmicutes/Tissierellia/Tissierellia incertae sedis/Sedimentibacter",
          "Firmicutes/Negativicutes/Selenomonadales/Selenomonadaceae",
          "Firmicutes/Clostridia/Eubacteriales/Lachnospiraceae/Roseburia sp. 499",
          "Firmicutes/Bacilli/Lactobacillales/Streptococcaceae/Streptococcus sp. HSISS3",
          "Firmicutes/Bacilli/Lactobacillales/Lactobacillaceae/Ligilactobacillus murinus ASF361",
          "Firmicutes/Bacilli/Lactobacillales/Lactobacillaceae/Ligilactobacillus murinus",
          "Firmicutes/Bacilli/Bacillales/Paenibacillaceae/Paenibacillus chitinolyticus",
          "Firmicutes/Bacilli/Bacillales/Paenibacillaceae/Paenibacillus dendritiformis",
          "Firmicutes/Bacilli/Bacillales/Paenibacillaceae/Paenibacillus dendritiformis C454",
          "Firmicutes/Clostridia/Eubacteriales/Oscillospiraceae/[Eubacterium] siraeum DSM 15702",
          "Firmicutes/Bacilli/Lactobacillales/Streptococcaceae/Streptococcus sp. oral taxon 061",
          "Firmicutes/Clostridia/Eubacteriales/Oscillospiraceae/[Eubacterium] siraeum",
          "Firmicutes/Clostridia/Eubacteriales/Lachnospiraceae/[Eubacterium] rectale",
          "Firmicutes/Clostridia/Eubacteriales/Eubacteriaceae/[Eubacterium] cellulosolvens 6",
          "Firmicutes/Clostridia/Eubacteriales/Lachnospiraceae/[Clostridium] nexile",
          "Firmicutes/Clostridia/Eubacteriales/Eubacteriaceae",
          "Firmicutes/Bacilli/Lactobacillales/Lactobacillaceae/Pediococcus acidilactici",
          "Firmicutes/Bacilli/Lactobacillales/Streptococcaceae/Streptococcus sp. KR",
          "Firmicutes/Bacilli/Bacillales/Bacillaceae/Priestia veravalensis",
          "Firmicutes/Bacilli/Bacillales/Bacillaceae/Pseudalkalibacillus hwajinpoensis",
          "Firmicutes/Clostridia/Eubacteriales/Oscillospiraceae/Pseudobacteroides cellulosolvens ATCC 35603 = DSM 2933",
          "Firmicutes/Clostridia/Eubacteriales/Lachnospiraceae/Pseudobutyrivibrio ruminis",
          "Firmicutes/Clostridia/Eubacteriales/Lachnospiraceae/Pseudobutyrivibrio sp. OR37",
          "Firmicutes/Clostridia/Eubacteriales/Lachnospiraceae/Pseudobutyrivibrio sp. YE44",
          "Firmicutes/Erysipelotrichia/Erysipelotrichales/Erysipelotrichaceae",
          "Firmicutes/Clostridia/Eubacteriales/Lachnospiraceae/Pseudobutyrivibrio xylanivorans",
          "Firmicutes/Bacilli/Lactobacillales/Streptococcaceae/Streptococcus sp. oral taxon 064",
          "Firmicutes/Clostridia/Eubacteriales/Lachnospiraceae/Pseudobutyrivibrio sp",
          "Firmicutes/Bacilli/Lactobacillales/Aerococcaceae/Abiotrophia defectiva (Streptococcus defectivus)",
          "Firmicutes/Bacilli/Lactobacillales/Enterococcaceae/Enterococcus malodoratus ATCC 43197",
          "Firmicutes/Bacilli/Lactobacillales/Enterococcaceae/Enterococcus faecium EnGen0003",
          "Firmicutes/Bacilli/Lactobacillales/Enterococcaceae/Enterococcus faecium EnGen0263",
          "Firmicutes/Bacilli/Lactobacillales/Enterococcaceae/Enterococcus faecium TX1337RF",
          "Firmicutes/Bacilli/Lactobacillales/Enterococcaceae/Enterococcus haemoperoxidus ATCC BAA-382",
          "Firmicutes/Bacilli/Lactobacillales/Enterococcaceae/Enterococcus hirae",
          "Firmicutes/Bacilli/Lactobacillales/Enterococcaceae/Enterococcus lacertideformus",
          "Firmicutes/Bacilli/Lactobacillales/Enterococcaceae/Enterococcus moraviensis ATCC BAA-383",
          "Firmicutes/Bacilli/Lactobacillales/Enterococcaceae/Enterococcus mundtii",
          "Firmicutes/Bacilli/Bacillales/Planococcaceae/Bhargavaea ginsengi",
          "Firmicutes/Bacilli/Lactobacillales/Enterococcaceae/Enterococcus plantarum",
          "Firmicutes/Bacilli/Lactobacillales/Enterococcaceae/Enterococcus quebecensis",
          "Firmicutes/Erysipelotrichia/Erysipelotrichales/Erysipelotrichaceae/Absiella sp. AM09-45",
          "Firmicutes/Bacilli/Lactobacillales/Enterococcaceae/Enterococcus mundtii QU 25",
          "Firmicutes/Bacilli/Lactobacillales/Enterococcaceae/Enterococcus rivorum",
          "Firmicutes/Bacilli/Lactobacillales/Enterococcaceae/Enterococcus rotai",
          "Firmicutes/Erysipelotrichia/Erysipelotrichales/Erysipelotrichaceae/Absicoccus porci",
          "Firmicutes/Bacilli/Lactobacillales/Enterococcaceae/Enterococcus ratti",
          "Firmicutes/Bacilli/Bacillales/Bacillaceae/Bacillus thuringiensis Bt407",
          "Firmicutes/Bacilli/Bacillales/Bacillaceae/Bacillus thuringiensis serovar argentinensis",
          "Firmicutes/Bacilli/Bacillales/Bacillaceae/Bacillus thuringiensis serovar andalousiensis BGSC 4AW1",
          "Firmicutes/Erysipelotrichia/Erysipelotrichales/Coprobacillaceae",
          "Firmicutes/Clostridia/Eubacteriales/Eubacteriales incertae sedis/Candidatus Fimiplasma intestinipullorum",
          "Firmicutes/Bacilli/Bacillales/Listeriaceae/Listeria kieliensis",
          "Firmicutes/Bacilli/Bacillales/Paenibacillaceae/Paenibacillus algicola",
          "Firmicutes/Bacilli/Bacillales/Paenibacillaceae/Paenibacillus alvei (Bacillus alvei)",
          "Firmicutes/Bacilli/Bacillales/Paenibacillaceae/Paenibacillus xylanivorans",
          "Firmicutes/Clostridia/Eubacteriales/Oscillospiraceae/Candidatus Flavonifractor intestinipullorum",
          "Firmicutes/Bacilli/Lactobacillales/Enterococcaceae/Enterococcus caccae ATCC BAA-1240",
          "Firmicutes/Bacilli/Bacillales/Listeriaceae/Listeria booriae",
          "Firmicutes/Tissierellia/Tissierellales/Peptoniphilaceae/Parvimonas micra ATCC 33270",
          "Firmicutes/Erysipelotrichia/Erysipelotrichales/Erysipelotrichaceae/Erysipelotrichaceae bacterium CAG:64",
          "Firmicutes/Erysipelotrichia/Erysipelotrichales/Erysipelotrichaceae/Erysipelotrichaceae bacterium AM07-35-1",
          "Firmicutes/Bacilli/Bacillales/Listeriaceae/Listeria cossartiae subsp. cayugensis",
          "Firmicutes/Bacilli/Bacillales/Listeriaceae/Listeria grandensis",
          "Firmicutes/Bacilli/Lactobacillales/Lactobacillaceae/Lactobacillus rodentium",
          "Firmicutes/Bacilli/Bacillales/Listeriaceae/Listeria grayi FSL F6-1183",
          "Firmicutes/Clostridia/Eubacteriales/Clostridiaceae/Clostridium sp. 7_2_43FAA",
          "Firmicutes/Erysipelotrichia/Erysipelotrichales/Erysipelotrichaceae/Erysipelotrichaceae bacterium I46",
          "Firmicutes/Erysipelotrichia/Erysipelotrichales/Erysipelotrichaceae/Erysipelotrichaceae bacterium NYU-BL-F16",
          "Firmicutes/Erysipelotrichia/Erysipelotrichales/Erysipelotrichaceae/Erysipelotrichaceae bacterium RD49",
          "Firmicutes/Clostridia/Eubacteriales/Eubacteriaceae/Eubacterium eligens CAG:72",
          "Firmicutes/Clostridia/Eubacteriales/Eubacteriaceae/Eubacterium ramulus ATCC 29099",
          "Firmicutes/Bacilli/Bacillales/Bacillaceae/Bacillus sp. M21",
          "Firmicutes/Bacilli/Bacillales/Listeriaceae/Listeria grayi DSM 20601",
          "Firmicutes/Clostridia/Eubacteriales/Clostridiaceae/Clostridium sp. AF23-8",
          "Firmicutes/Clostridia/Eubacteriales/Clostridiaceae/Clostridium sp. AM42-36",
          "Firmicutes/Clostridia/Eubacteriales/Clostridiaceae/Clostridium sp. AF34-10BH",
          "Firmicutes/Bacilli/Lactobacillales/Streptococcaceae/Lactococcus cremoris subsp. cremoris GE214",
          "Firmicutes/Bacilli/Bacillales/Bacillaceae/Priestia flexa",
          "Firmicutes/Bacilli/Lactobacillales/Streptococcaceae/Lactococcus lactis",
          "Firmicutes/Bacilli/Lactobacillales/Streptococcaceae/Lactococcus lactis RTB018",
          "Firmicutes/Bacilli/Lactobacillales/Streptococcaceae/Lactococcus lactis subsp. cremoris (Streptococcus cremoris)",
          "Firmicutes/Bacilli/Lactobacillales/Streptococcaceae/Lactococcus lactis subsp. cremoris (strain MG1363)",
          "Firmicutes/Bacilli/Lactobacillales/Streptococcaceae/Lactococcus lactis subsp. cremoris (strain SK11)",
          "Firmicutes/Clostridia/Eubacteriales/Clostridiaceae/Clostridium sp. AF27-2AA",
          "Firmicutes/Bacilli/Lactobacillales/Streptococcaceae/Lactococcus lactis subsp. lactis IO-1",
          "Firmicutes/Bacilli/Lactobacillales/Streptococcaceae/Lactococcus lactis subsp. lactis bv. diacetylactis",
          "Firmicutes/Erysipelotrichia/Erysipelotrichales/Erysipelotrichaceae/Dubosiella newyorkensis",
          "Firmicutes/Bacilli/Lactobacillales/Streptococcaceae/Lactococcus lactis subsp. lactis (strain IL1403) (Streptococcus lactis)",
          "Firmicutes/Clostridia/Eubacteriales/Lachnospiraceae/Dorea formicigenerans",
          "Firmicutes/Bacilli/Bacillales/Bacillaceae/Bacillus cereus Rock3-29",
          "Firmicutes/Bacilli/Bacillales/Bacillaceae/Terribacillus goriensis",
          "Firmicutes/Bacilli/Bacillales/Bacillaceae/Terribacillus halophilus",
          "Firmicutes/Erysipelotrichia/Erysipelotrichales/Erysipelotrichaceae/Holdemanella porci",
          "Firmicutes/Clostridia/Eubacteriales/Clostridiaceae/Clostridium sp. CAG:245_30_32",
          "Firmicutes/Bacilli/Bacillales/Bacillaceae/Terribacillus aidingensis",
          "Firmicutes/Clostridia/Eubacteriales/Clostridiaceae/Clostridium sp. CAG:265",
          "Firmicutes/Clostridia/Eubacteriales/Clostridiaceae/Clostridium sp. CAG:524",
          "Firmicutes/Negativicutes/Veillonellales/Veillonellaceae/Dialister sp",
          "Firmicutes/Clostridia/Eubacteriales/Lachnospiraceae/Lachnoclostridium phytofermentans (strain ATCC 700394 / DSM 18823 / ISDg) (Clostridium phytofermentans)",
          "Firmicutes/Bacilli/Lactobacillales/Carnobacteriaceae/Isobaculum melis",
          "Firmicutes/Bacilli/Bacillales/Bacillaceae/Bacillus thuringiensis (strain Al Hakam)",
          "Firmicutes/Bacilli/Bacillales/Bacillaceae/Bacillus thuringiensis",
          "Firmicutes/Bacilli/Bacillales/Bacillaceae/Bacillus tequilensis",
          "Firmicutes/Bacilli/Bacillales/Bacillaceae/Bacillus taeanensis",
          "Firmicutes/Bacilli/Bacillales/Bacillaceae/Bacillus swezeyi",
          "Firmicutes/Bacilli/Bacillales/Bacillaceae/Bacillus sp. SRB_8",
          "Firmicutes/Bacilli/Bacillales/Bacillaceae/Bacillus sp. SRB_331",
          "Firmicutes/Bacilli/Bacillales/Bacillaceae/Bacillus sp. SN10",
          "Firmicutes/Bacilli/Bacillales/Bacillaceae/Bacillus sp. SH7-1",
          "Firmicutes/Bacilli/Bacillales/Bacillaceae/Bacillus sp. SJS",
          "Firmicutes/Bacilli/Bacillales/Bacillaceae/Bacillus sp. RIT694",
          "Firmicutes/Bacilli/Bacillales/Bacillaceae/Bacillus sp. SH5-2",
          "Firmicutes/Bacilli/Bacillales/Listeriaceae/Listeria immobilis",
          "Firmicutes/Bacilli/Bacillales/Listeriaceae/Listeria innocua",
          "Firmicutes/Bacilli/Bacillales/Listeriaceae/Listeria innocua ATCC 33091",
          "Firmicutes/Bacilli/Bacillales/Bacillaceae/Terribacillus saccharophilus",
          "Firmicutes/Tissierellia",
          "Firmicutes/Bacilli/Bacillales/Bacillaceae/Allobacillus salarius",
          "Firmicutes/Bacilli/Bacillales/Bacillaceae/Bacillus mesophilum",
          "Firmicutes/Bacilli/Bacillales/Bacillaceae/Alkalihalophilus pseudofirmus (Bacillus pseudofirmus)",
          "Firmicutes/Bacilli/Bacillales/Bacillaceae/Alkalihalophilus pseudofirmus (strain ATCC BAA-2126 / JCM 17055 / OF4) (Bacillus pseudofirmus)",
          "Firmicutes/Bacilli/Bacillales/Bacillaceae/Alkalihalobacillus lonarensis",
          "Firmicutes/Bacilli/Bacillales/Bacillaceae/Bacillus sp. N1-1",
          "Firmicutes/Bacilli/Bacillales/Bacillaceae/Bacillus sp. NSP9.1",
          "Firmicutes/Bacilli/Bacillales/Bacillaceae/Bacillus sp. OV194",
          "Firmicutes/Bacilli/Bacillales/Bacillaceae/Bacillus sp. OV322",
          "Firmicutes/Bacilli/Bacillales/Bacillaceae/Bacillus sp. PAMC28748",
          "Firmicutes/Bacilli/Bacillales/Bacillaceae/Bacillus sp. PGP15",
          "Firmicutes/Bacilli/Bacillales/Bacillaceae/Alkalihalobacillus macyae",
          "Firmicutes/Bacilli/Bacillales/Thermoactinomycetaceae",
          "Firmicutes/Bacilli/Bacillales/Bacillaceae/Bacillus cereus (strain G9842)",
          "Firmicutes/Bacilli/Bacillales/Bacillaceae/Bacillus cereus group sp. N18",
          "Firmicutes/Clostridia/Thermoanaerobacterales/Thermoanaerobacterales Family III. Incertae Sedis",
          "Firmicutes/Bacilli/Bacillales/Bacillaceae/Bacillus licheniformis",
          "Firmicutes/Bacilli/Bacillales/Bacillaceae/Bacillus sp. 166amftsu",
          "Firmicutes/Bacilli/Bacillales/Bacillaceae/Bacillus licheniformis (strain ATCC 14580 / DSM 13 / JCM 2505 / CCUG 7422 / NBRC 12200 / NCIMB 9375 / NCTC 10341 / NRRL NRS-1264 / Gibson 46)",
          "Firmicutes/Bacilli/Bacillales/Bacillaceae/Bacillus sp. B1-b2",
          "Firmicutes/Bacilli/Bacillales/Staphylococcaceae/Macrococcus canis",
          "Firmicutes/Bacilli/Bacillales/Bacillaceae/Bacillus sp. B-jedd",
          "Firmicutes/Bacilli/Bacillales/Paenibacillaceae/Paenibacillus xylanilyticus",
          "Firmicutes/Bacilli/Bacillales/Paenibacillaceae/Paenibacillus vortex V453",
          "Firmicutes/Bacilli/Bacillales/Paenibacillaceae/Paenibacillus uliginis N3/975",
          "Firmicutes/Bacilli/Bacillales/Paenibacillaceae/Paenibacillus thiaminolyticus (Bacillus thiaminolyticus)",
          "Firmicutes/Clostridia/Eubacteriales/Lachnospiraceae/Lachnospiraceae bacterium XBB2008",
          "Firmicutes/Bacilli/Bacillales/Bacillaceae/Bacillus thuringiensis serovar pondicheriensis BGSC 4BA1",
          "Firmicutes/Bacilli/Bacillales/Bacillaceae/Bacillus thuringiensis serovar shandongiensis",
          "Firmicutes/Clostridia/Eubacteriales/Clostridiaceae/Clostridium sp. CAG:914",
          "Firmicutes/Clostridia/Eubacteriales/Clostridiaceae/Clostridium sp. CAG:609",
          "Firmicutes/Bacilli/Bacillales/Bacillaceae/Bacillus sp. CD3-5",
          "Firmicutes/Clostridia/Eubacteriales/Clostridiaceae/Clostridium sp. C8",
          "Firmicutes/Bacilli/Bacillales/Bacillaceae/Bacillus sp. CAG:988",
          "Firmicutes/Bacilli/Bacillales/Bacillaceae/Bacillus thuringiensis serovar thuringiensis str. IS5056",
          "Firmicutes/Negativicutes/Veillonellales/Veillonellaceae/Dialister invisus",
          "Firmicutes/Bacilli/Bacillales/Bacillaceae/Paraliobacillus ryukyuensis",
          "Firmicutes/Bacilli/Bacillales/Bacillaceae/Bacillus sp. BPN334",
          "Firmicutes/Bacilli/Lactobacillales/Streptococcaceae/Lactococcus carnosus",
          "Firmicutes/Bacilli/Bacillales/Paenibacillaceae/Paenibacillus glucanolyticus",
          "Firmicutes/Bacilli/Bacillales/Bacillaceae/Bacillus sp. FJAT-42376",
          "Firmicutes/Bacilli/Bacillales/Bacillaceae/Bacillus sp. HBCD-sjtu",
          "Firmicutes/Bacilli/Bacillales/Paenibacillaceae",
          "Firmicutes/Bacilli/Bacillales/Sporolactobacillaceae/Sporolactobacillus terrae",
          "Firmicutes/Bacilli/Bacillales/Bacillaceae/Bacillus sp. HUB-I-004",
          "Firmicutes/Bacilli/Bacillales/Bacillaceae/Bacillus sp. M6-12",
          "Firmicutes/Bacilli/Bacillales/Sporolactobacillaceae",
          "Firmicutes/Negativicutes/Selenomonadales/Sporomusaceae",
          "Firmicutes/Bacilli/Bacillales/Staphylococcaceae",
          "Firmicutes/Bacilli/Bacillales/Bacillaceae/Bacillus sp. MYb78",
          "Firmicutes/Bacilli/Bacillales/Planococcaceae/Sporosarcina globispora (Bacillus globisporus)",
          "Firmicutes/Clostridia/Eubacteriales/Clostridiaceae/Clostridium botulinum (strain Eklund 17B / Type B)",
          "Firmicutes/Clostridia/Eubacteriales/Clostridiaceae/Clostridium botulinum",
          "Firmicutes/Bacilli/Bacillales/Bacillaceae/Allobacillus saliphilus",
          "Firmicutes/Erysipelotrichia/Erysipelotrichales/Erysipelotrichaceae/Amedibacillus dolichus",
          "Firmicutes/Bacilli/Bacillales/Bacillaceae/Bacillus tropicus",
          "Firmicutes/Bacilli/Bacillales/Bacillaceae/Bacillus cereus AH1271",
          "Firmicutes/Bacilli/Lactobacillales/Streptococcaceae/Streptococcus sp. zg-70",
          "Firmicutes/Clostridia/Eubacteriales/Oscillospiraceae/Ruminococcus sp. TF06-23",
          "Firmicutes/Bacilli/Lactobacillales/Streptococcaceae/Streptococcus sp. zg-36",
          "Firmicutes/Bacilli/Bacillales/Bacillaceae/Virgibacillus pantothenticus",
          "Firmicutes/Bacilli/Bacillales/Bacillaceae/Virgibacillus salarius",
          "Firmicutes/Clostridia/Eubacteriales/Clostridiaceae/Sarcina sp",
          "Firmicutes/Clostridia/Eubacteriales/Clostridiaceae/Sarcina sp. DSM 11001",
          "Firmicutes/Clostridia/Eubacteriales/Clostridiaceae/Clostridium tetanomorphum",
          "Firmicutes/Bacilli/Lactobacillales/Lactobacillaceae/Companilactobacillus mishanensis",
          "Firmicutes/Clostridia/Eubacteriales/Lachnospiraceae/Coprococcus comes ATCC 27758",
          "Firmicutes/Tissierellia/Tissierellia incertae sedis/Sedimentibacter/Sedimentibacter sp. zth1",
          "Firmicutes/Bacilli/Bacillales/Bacillaceae/Bacillus cereus VD021",
          "Firmicutes/Bacilli/Bacillales/Bacillaceae/Bacillus cereus Rock4-18",
          "Firmicutes/Clostridia/Eubacteriales/Eubacteriales incertae sedis/[Eubacterium] sulci",
          "Firmicutes/Negativicutes/Selenomonadales/Selenomonadaceae/Selenomonas sp. mPRGC5",
          "Firmicutes/Bacilli/Lactobacillales/Enterococcaceae/Enterococcus faecium 505",
          "Firmicutes/Bacilli/Bacillales/Bacillaceae/Bacillus cereus BAG5X1-1",
          "Firmicutes/Clostridia/Eubacteriales/Oscillospiraceae/Ruminococcus sp. CAG:177",
          "Firmicutes/Bacilli/Bacillales/Bacillaceae/Bacillus sp. FJAT-18017",
          "Firmicutes/Negativicutes/Selenomonadales/Selenomonadaceae/Selenomonas sp. mPRGC8",
          "Firmicutes/Clostridia/Eubacteriales/Lachnospiraceae/Lachnospiraceae bacterium TWA4",
          "Firmicutes/Erysipelotrichia/Erysipelotrichales/Erysipelotrichaceae/Ileibacterium valens",
          "Firmicutes/Bacilli/Bacillales/Listeriaceae/Listeria monocytogenes FSL F2-208",
          "Firmicutes/Bacilli/Lactobacillales/Streptococcaceae/Lactococcus lactis subsp. lactis A12",
          "Firmicutes/Clostridia/Eubacteriales/Lachnospiraceae/Lachnospiraceae bacterium XPB1003",
          "Firmicutes/Bacilli/Bacillales/Listeriaceae/Listeria monocytogenes",
          "Firmicutes/Bacilli/Bacillales/Listeriaceae/Listeria marthii",
          "Firmicutes/Bacilli/Bacillales/Listeriaceae/Listeria welshimeri serovar 6b (strain ATCC 35897 / DSM 20650 / CIP 8149 / NCTC 11857 / SLCC 5334 / V8)",
          "Firmicutes/Bacilli/Bacillales/Listeriaceae/Listeria monocytogenes serotype 1/2a (strain EGD / Mackaness)",
          "Firmicutes/Bacilli/Bacillales/Paenibacillaceae/Paenibacillus sp. XY044",
          "Firmicutes/Clostridia/Eubacteriales/Clostridiaceae/Hungatella hathewayi",
          "Firmicutes/Erysipelotrichia/Erysipelotrichales/Erysipelotrichaceae/Longibaculum muris",
          "Firmicutes/Bacilli/Bacillales/Listeriaceae/Listeria monocytogenes serotype 1/2a (strain 10403S)",
          "Firmicutes/Bacilli/Bacillales/Bacillales incertae sedis/Exiguobacterium sp. RIT594",
          "Firmicutes/Bacilli/Bacillales/Bacillales incertae sedis/Exiguobacterium sp. KRL4",
          "Firmicutes/Clostridia/Eubacteriales/Eubacteriaceae/Eubacterium dolichum CAG:375",
          "Firmicutes/Bacilli/Lactobacillales/Streptococcaceae/Streptococcus sp. CCUG 49591",
          "Firmicutes/Bacilli/Bacillales/Bacillaceae/Bacillus sp. CH30_1T",
          "Firmicutes/Clostridia/Eubacteriales/Lachnospiraceae/Lachnospiraceae bacterium 3_1_46FAA",
          "Firmicutes/Bacilli/Lactobacillales/Streptococcaceae/Lactococcus cremoris subsp. tructae",
          "Firmicutes/Bacilli/Lactobacillales/Streptococcaceae/Lactococcus lactis subsp. hordniae",
          "Firmicutes/Bacilli/Lactobacillales/Streptococcaceae/Streptococcus sp. HMSC070B10",
          "Firmicutes/Bacilli/Lactobacillales/Streptococcaceae/Streptococcus sp. HMSC077D04",
          "Firmicutes/Bacilli/Lactobacillales/Enterococcaceae",
          "Firmicutes/Clostridia/Eubacteriales/Desulfotomaculaceae",
          "Firmicutes/Bacilli/Lactobacillales/Lactobacillaceae/Weissella oryzae (strain DSM 25784 / JCM 18191 / LMG 30913 / SG25)",
          "Firmicutes/Bacilli/Bacillales/Bacillaceae/Bacillus sp. 491mf",
          "Firmicutes/Bacilli/Lactobacillales/Streptococcaceae/Streptococcus sp. DD13",
          "Firmicutes/Bacilli/Lactobacillales/Streptococcaceae/Streptococcus sp. HSISB1",
          "Firmicutes/Bacilli/Lactobacillales/Streptococcaceae/Streptococcus sp. CM6",
          "Firmicutes/Bacilli/Bacillales/Bacillaceae/Bacillus cereus VDM053",
          "Firmicutes/Clostridia/Eubacteriales/Clostridiaceae/Clostridium sp. NSJ-42",
          "Firmicutes/Bacilli/Bacillales/Bacillaceae/Bacillus sp. AFS018417",
          "Firmicutes/Bacilli/Bacillales/Bacillaceae/Bacillus cereus VD136",
          "Firmicutes/Bacilli/Bacillales/Bacillaceae/Bacillus sp. 7586-K",
          "Firmicutes/Bacilli/Bacillales/Bacillaceae/Bacillus sp. AFS015896",
          "Firmicutes/Bacilli/Bacillales/Bacillaceae/Bacillus sp. 103mf",
          "Firmicutes/Bacilli/Bacillales/Bacillaceae/Bacillus cytotoxicus",
          "Firmicutes/Bacilli/Bacillales/Bacillaceae/Bacillus salacetis",
          "Firmicutes/Bacilli/Lactobacillales/Streptococcaceae/Lactococcus piscium",
          "Firmicutes/Bacilli/Bacillales/Bacillaceae/Bacillus sp",
          "Firmicutes/Clostridia/Eubacteriales/Clostridiaceae/Clostridium kluyveri",
          "Firmicutes/Bacilli/Lactobacillales/Enterococcaceae/Enterococcus sp. NBRC 3427",
          "Firmicutes/Bacilli/Bacillales/Bacillaceae/Bacillus thuringiensis serovar andalousiensis",
          "Firmicutes/Clostridia/Eubacteriales/Lachnospiraceae/Bilifractor porci",
          "Firmicutes/Bacilli/Bacillales/Bacillaceae/Bacillus glycinifermentans",
          "Firmicutes/Bacilli/Bacillales/Bacillaceae/Bacillus coahuilensis p1.1.43",
          "Firmicutes/Bacilli/Bacillales/Bacillaceae/Bacillus cereus m1293",
          "Firmicutes/Bacilli/Bacillales/Bacillaceae/Priestia taiwanensis",
          "Firmicutes/Bacilli/Bacillales/Bacillaceae/Bacillus cytotoxicus (strain DSM 22905 / CIP 110041 / 391-98 / NVH 391-98)",
          "Firmicutes/Bacilli/Bacillales/Listeriaceae/Listeria fleischmannii",
          "Firmicutes/Bacilli/Bacillales/Bacillaceae/Bacillus mojavensis",
          "Firmicutes/Bacilli/Lactobacillales/Streptococcaceae/Streptococcus sp. oral taxon 058 str. F0407",
          "Firmicutes/Bacilli/Bacillales/Bacillaceae/Bacillus paranthracis",
          "Firmicutes/Bacilli/Lactobacillales/Streptococcaceae/Streptococcus sp. WB01_FAA12",
          "Firmicutes/Bacilli/Bacillales/Bacillaceae/Bacillus mycoides",
          "Firmicutes/Bacilli/Bacillales/Bacillaceae/Bacillus pacificus",
          "Firmicutes/Bacilli/Bacillales/Bacillaceae/Bacillus paralicheniformis",
          "Firmicutes/Bacilli/Bacillales/Bacillaceae/Bacillus pseudomycoides DSM 12442",
          "Firmicutes/Bacilli/Bacillales/Bacillaceae/Bacillus paramycoides",
          "Firmicutes/Bacilli/Lactobacillales/Streptococcaceae/Streptococcus sp. bf_0095",
          "Firmicutes/Bacilli/Lactobacillales/Streptococcaceae/Streptococcus sp. SR1",
          "Firmicutes/Bacilli/Bacillales/Listeriaceae/Listeria fleischmannii subsp. fleischmannii",
          "Firmicutes/Bacilli/Lactobacillales/Streptococcaceae/Streptococcus sp. HMSC061E03",
          "Firmicutes/Bacilli/Bacillales/Planococcaceae/Filibacter tadaridae",
          "Firmicutes/Erysipelotrichia/Erysipelotrichales/Erysipelotrichaceae/Floccifex porci",
          "Firmicutes/Bacilli/Lactobacillales/Streptococcaceae/Floricoccus tropicus",
          "Firmicutes/Bacilli/Bacillales/Paenibacillaceae/Fontibacillus panacisegetis",
          "Firmicutes/Clostridia/Eubacteriales/Clostridiaceae/Fonticella tunisiensis",
          "Firmicutes/Bacilli/Lactobacillales/Lactobacillaceae/Fructilactobacillus florum DSM 22689 = JCM 16035",
          "Firmicutes/Bacilli/Lactobacillales/Lactobacillaceae/Furfurilactobacillus rossiae DSM 15814",
          "Firmicutes/Bacilli/Bacillales/Bacillaceae/Lysinibacillus composti",
          "Firmicutes/Bacilli/Bacillales/Bacillaceae/Lysinibacillus alkalisoli",
          "Firmicutes/Bacilli/Bacillales/Paenibacillaceae/Geobacillus sp. (strain Y412MC10)",
          "Firmicutes/Bacilli/Bacillales/Listeriaceae/Listeria weihenstephanensis",
          "Firmicutes/Bacilli/Bacillales/Listeriaceae/Listeria rocourtiae",
          "Firmicutes/Bacilli/Bacillales/Bacillaceae/Gottfriedia solisilvae",
          "Firmicutes/Bacilli/Bacillales/Bacillaceae/Bacillus sp. LK2",
          "Firmicutes/Bacilli/Bacillales/Bacillaceae/Bacillus sp. L27",
          "Firmicutes/Bacilli/Bacillales/Bacillaceae/Bacillus sp. KH172YL63",
          "Firmicutes/Bacilli/Bacillales/Bacillaceae/Bacillus sp. HY001",
          "Firmicutes/Bacilli/Bacillales/Bacillaceae/Gracilibacillus boraciitolerans JCM 21714",
          "Firmicutes/Bacilli/Bacillales/Listeriaceae/Listeria floridensis FSL S10-1187",
          "Firmicutes/Bacilli/Bacillales/Bacillaceae/Gracilibacillus thailandensis",
          "Firmicutes/Bacilli/Bacillales/Listeriaceae/Listeria fleischmannii FSL S10-1203",
          "Firmicutes/Bacilli/Bacillales/Listeriaceae/Listeria fleischmannii 1991",
          "Firmicutes/Bacilli/Lactobacillales/Streptococcaceae/Streptococcus sp. GMD6S",
          "Firmicutes/Bacilli/Lactobacillales/Streptococcaceae/Streptococcus sp. HMSC062B01",
          "Firmicutes/Bacilli/Bacillales/Bacillaceae/Gracilibacillus ureilyticus",
          "Firmicutes/Bacilli/Lactobacillales/Enterococcaceae/Enterococcus sp. 7F3_DIV0205",
          "Firmicutes/Bacilli/Bacillales/Bacillaceae/Bacillus luti",
          "Firmicutes/Clostridia/Eubacteriales/Lachnospiraceae/Lachnospiraceae bacterium 7_1_58FAA",
          "Firmicutes/Clostridia/Eubacteriales/Lachnospiraceae/Anaerosacchariphilus polymeriproducens",
          "Firmicutes/Clostridia/Eubacteriales/Lachnospiraceae/Anaeromicropila populeti",
          "Firmicutes/Clostridia/Eubacteriales/Lachnospiraceae/Lachnospiraceae bacterium C7",
          "Firmicutes/Clostridia/Eubacteriales/Lachnospiraceae/Lachnospiraceae bacterium KH1T2",
          "Firmicutes/Clostridia/Eubacteriales/Lachnospiraceae/Lachnospiraceae bacterium KHCPX20",
          "Firmicutes/Clostridia/Eubacteriales/Lachnospiraceae/Lachnospiraceae bacterium NE2001",
          "Firmicutes/Bacilli/Bacillales/Bacillaceae/Alkalihalobacillus hemicellulosilyticus JCM 9152",
          "Firmicutes/Clostridia/Eubacteriales/Lachnospiraceae/Agathobacter rectalis (strain ATCC 33656 / DSM 3377 / JCM 17463 / KCTC 5835 / VPI 0990) (Eubacterium rectale)",
          "Firmicutes/Clostridia/Eubacteriales/Lachnospiraceae/Lachnotalea glycerini",
          "Firmicutes/Bacilli/Lactobacillales/Lactobacillaceae/Lacticaseibacillus zeae (Lactobacillus zeae)",
          "Firmicutes/Bacilli/Lactobacillales/Lactobacillaceae/Lacticaseibacillus zeae DSM 20178 = KCTC 3804",
          "Firmicutes/Bacilli/Lactobacillales/Streptococcaceae",
          "Firmicutes/Bacilli/Lactobacillales/Lactobacillaceae/Lactobacillus casei",
          "Firmicutes/Clostridia/Eubacteriales/Lachnospiraceae/Anaerostipes sp. 992a",
          "Firmicutes/Bacilli/Lactobacillales/Lactobacillaceae/Lactobacillus gasseri",
          "Firmicutes/Negativicutes/Veillonellales/Veillonellaceae",
          "Firmicutes/Bacilli/Bacillales",
          "Firmicutes/Erysipelotrichia/Erysipelotrichales",
          "Firmicutes/Clostridia/Eubacteriales",
          "Firmicutes/Bacilli/Lactobacillales",
          "Firmicutes/Negativicutes/Selenomonadales",
          "Firmicutes/Clostridia/Thermoanaerobacterales",
          "Firmicutes/Tissierellia/Tissierellales",
          "Firmicutes/Tissierellia/Tissierellia incertae sedis",
          "Firmicutes/Negativicutes/Veillonellales",
          "Firmicutes/Bacilli",
          "Firmicutes/Clostridia",
          "Firmicutes/Erysipelotrichia",
          "Firmicutes/Negativicutes",
          "Firmicutes/Tissierellia/Tissierellales/Thermohalobacteraceae",
          "Firmicutes/Clostridia/Eubacteriales/Oscillospiraceae/Anaerotruncus sp. 1XD22-93",
          "Firmicutes/Bacilli/Bacillales/Paenibacillaceae/Aneurinibacillus migulanus (Bacillus migulanus)",
          "Firmicutes/Bacilli/Bacillales/Bacillaceae/Anoxybacillus amylolyticus",
          "Firmicutes/Bacilli/Bacillales/Bacillaceae/Bacillus licheniformis CG-B52",
          "Firmicutes/Bacilli/Lactobacillales/Carnobacteriaceae/Granulicatella adiacens ATCC 49175",
          "Firmicutes/Bacilli/Lactobacillales/Carnobacteriaceae/Granulicatella sp",
          "Firmicutes/Bacilli/Bacillales/Bacillaceae/Halalkalibacterium halodurans (strain ATCC BAA-125 / DSM 18197 / FERM 7344 / JCM 9153 / C-125) (Bacillus halodurans)",
          "Firmicutes/Erysipelotrichia/Erysipelotrichales/Erysipelotrichaceae/Holdemanella biformis",
          "Firmicutes/Erysipelotrichia/Erysipelotrichales/Erysipelotrichaceae/Holdemanella biformis DSM 3989",
          "Firmicutes/Bacilli/Bacillales/Bacillaceae/Fictibacillus sp. S7",
          "Firmicutes/Bacilli/Bacillales/Bacillaceae/Bacillus clarus",
          "Firmicutes/Bacilli/Bacillales/Bacillaceae/Bacillus cereus var. anthracis (strain CI)",
          "Firmicutes/Negativicutes/Veillonellales/Veillonellaceae/Veillonellaceae bacterium",
          "Firmicutes/Bacilli/Bacillales/Bacillaceae/Virgibacillus chiguensis",
          "Firmicutes/Bacilli/Bacillales/Bacillaceae/Virgibacillus dakarensis",
          "Firmicutes/Bacilli/Lactobacillales/Lactobacillaceae/Ligilactobacillus agilis",
          "Firmicutes/Bacilli/Lactobacillales/Lactobacillaceae/Ligilactobacillus acidipiscis",
          "Firmicutes/Bacilli/Bacillales/Bacillaceae/Bacillus cereus VD115",
          "Firmicutes/Bacilli/Bacillales/Bacillaceae/Bacillus cereus VD107",
          "Firmicutes/Bacilli/Bacillales/Bacillaceae/Bacillus cereus VD048",
          "Firmicutes/Bacilli/Bacillales/Bacillaceae/Anoxybacillus pushchinoensis",
          "Firmicutes/Bacilli/Bacillales/Bacillaceae/Bacillus atrophaeus",
          "Firmicutes/Bacilli/Bacillales/Bacillaceae/Bacillus cereus",
          "Firmicutes/Bacilli/Bacillales/Bacillaceae/Bacillus cereus (strain 03BB102)",
          "Firmicutes/Clostridia/Eubacteriales/Lachnospiraceae/Lachnospiraceae bacterium 3-1",
          "Firmicutes/Bacilli/Bacillales/Bacillaceae/Bacillus cereus BAG1O-1",
          "Firmicutes/Bacilli/Bacillales/Bacillaceae/Bacillus manliponensis",
          "Firmicutes/Bacilli/Lactobacillales/Streptococcaceae/Lactococcus termiticola",
          "Firmicutes/Bacilli/Bacillales/Bacillaceae/Bacillus cereus HuA4-10",
          "Firmicutes/Bacilli/Bacillales/Bacillaceae/Bacillus cereus MC67",
          "Firmicutes/Clostridia/Eubacteriales/Lachnospiraceae/Lachnospiraceae bacterium 1_1_57FAA",
          "Firmicutes/Clostridia/Eubacteriales/Lachnospiraceae/Lachnospiraceae bacterium",
          "Firmicutes/Clostridia/Eubacteriales/Lachnospiraceae/Lachnospira eligens",
          "Firmicutes/Bacilli/Bacillales/Bacillaceae/Lentibacillus sp. CBA3610",
          "Firmicutes/Bacilli/Bacillales/Bacillaceae/Bacillus cereus HuA3-9",
          "Firmicutes/Bacilli/Bacillales/Bacillaceae/Fictibacillus sp. KU28468",
          "Firmicutes/Erysipelotrichia/Erysipelotrichales/Erysipelotrichaceae/Faecalitalea cylindroides",
          "Firmicutes/Bacilli/Bacillales/Bacillaceae/Fictibacillus phosphorivorans",
          "Firmicutes/Bacilli/Bacillales/Paenibacillaceae/Paenibacillus solani",
          "Firmicutes/Bacilli/Bacillales/Paenibacillaceae/Paenibacillus sp",
          "Firmicutes/Bacilli/Bacillales/Paenibacillaceae/Paenibacillus sp. 453mf",
          "Firmicutes/Bacilli/Bacillales/Paenibacillaceae/Paenibacillus sp. 7516",
          "Firmicutes/Bacilli/Bacillales/Paenibacillaceae/Paenibacillus sp. 7523-1",
          "Firmicutes/Bacilli/Bacillales/Paenibacillaceae/Paenibacillus sp. 7541",
          "Firmicutes/Bacilli/Bacillales/Paenibacillaceae/Paenibacillus silvae",
          "Firmicutes/Bacilli/Bacillales/Paenibacillaceae/Paenibacillus sp. AR247",
          "Firmicutes/Clostridia/Eubacteriales/Clostridiaceae/Clostridium sp. NJ4",
          "Firmicutes/Clostridia/Eubacteriales/Clostridiaceae/Clostridium sp. chh4-2",
          "Firmicutes/Clostridia/Eubacteriales/Clostridiaceae/Clostridium sporogenes",
          "Firmicutes/Bacilli/Bacillales/Paenibacillaceae/Paenibacillus sp. DMB20",
          "Firmicutes/Bacilli/Bacillales/Paenibacillaceae/Paenibacillus sp. FSL H7-0326",
          "Firmicutes/Bacilli/Bacillales/Paenibacillaceae/Paenibacillus sp. FSL R5-0765",
          "Firmicutes/Bacilli/Bacillales/Paenibacillaceae/Paenibacillus sp. B2(2019)",
          "Firmicutes/Bacilli/Bacillales/Paenibacillaceae/Paenibacillus rhizosphaerae",
          "Firmicutes/Bacilli/Bacillales/Paenibacillaceae/Paenibacillus polysaccharolyticus",
          "Firmicutes/Bacilli/Bacillales/Paenibacillaceae/Paenibacillus pini JCM 16418",
          "Firmicutes/Clostridia/Eubacteriales/Clostridiaceae/Clostridium felsineum DSM 794",
          "Firmicutes/Erysipelotrichia/Erysipelotrichales/Coprobacillaceae/Clostridium innocuum",
          "Firmicutes/Clostridia/Eubacteriales/Clostridiaceae/Clostridium muellerianum",
          "Firmicutes/Erysipelotrichia/Erysipelotrichales/Erysipelotrichaceae/Erysipelotrichaceae bacterium",
          "Firmicutes/Clostridia/Eubacteriales/Lachnospiraceae/Epulopiscium sp",
          "Firmicutes/Bacilli/Bacillales/Paenibacillaceae/Paenibacillus lemnae",
          "Firmicutes/Clostridia/Eubacteriales/Clostridiaceae/Clostridium nexile CAG:348",
          "Firmicutes/Clostridia/Eubacteriales/Clostridiaceae/Clostridium paraputrificum",
          "Firmicutes/Clostridia/Eubacteriales/Clostridiaceae/Clostridium saccharoperbutylacetonicum N1-4(HMT)",
          "Firmicutes/Bacilli/Bacillales/Paenibacillaceae/Paenibacillus oralis",
          "Firmicutes/Bacilli/Bacillales/Paenibacillaceae/Paenibacillus pabuli",
          "Firmicutes/Clostridia/Eubacteriales/Clostridiaceae/Clostridium sartagoforme",
          "Firmicutes/Clostridia/Eubacteriales/Clostridiaceae/Clostridium sartagoforme AAU1",
          "Firmicutes/Clostridia/Eubacteriales/Clostridiaceae/Clostridium sp",
          "Firmicutes/Bacilli/Bacillales/Paenibacillaceae/Paenibacillus phyllosphaerae",
          "Firmicutes/Clostridia/Eubacteriales/Lachnospiraceae/Coprococcus sp. AF38-1",
          "Firmicutes/Clostridia/Eubacteriales/Lachnospiraceae/Coprococcus sp. BIOML-A2",
          "Firmicutes/Bacilli/Bacillales/Paenibacillaceae/Paenibacillus sp. FSL R5-808",
          "Firmicutes/Bacilli/Bacillales/Paenibacillaceae/Paenibacillus sp. GM2FR",
          "Firmicutes/Bacilli/Lactobacillales/Enterococcaceae/Enterococcus silesiacus",
          "Firmicutes/Bacilli/Lactobacillales/Enterococcaceae/Enterococcus sp. (strain 3G1_DIV0629)",
          "Firmicutes/Bacilli/Bacillales/Bacillaceae/Priestia megaterium (Bacillus megaterium)",
          "Firmicutes/Bacilli/Bacillales/Bacillaceae/Priestia koreensis",
          "Firmicutes/Bacilli/Lactobacillales/Enterococcaceae/Enterococcus termitis",
          "Firmicutes/Bacilli/Bacillales/Bacillaceae/Priestia aryabhattai",
          "Firmicutes/Clostridia/Eubacteriales/Lachnospiraceae/Porcincola intestinalis",
          "Firmicutes/Bacilli/Bacillales/Bacillaceae/Pontibacillus halophilus JSM 076056 = DSM 19796",
          "Firmicutes/Bacilli/Bacillales/Planococcaceae/Planococcus halotolerans",
          "Firmicutes/Bacilli/Bacillales/Bacillaceae/Peribacillus muralis",
          "Firmicutes/Bacilli/Bacillales/Bacillaceae/Peribacillus deserti",
          "Firmicutes/Bacilli/Bacillales/Bacillaceae/Peribacillus cavernae",
          "Firmicutes/Bacilli/Bacillales/Bacillaceae/Peribacillus asahii",
          "Firmicutes/Clostridia/Eubacteriales/Desulfotomaculaceae/Pelotomaculum sp. PtaU1.Bin035",
          "Firmicutes/Negativicutes/Selenomonadales/Sporomusaceae/Pelosinus propionicus DSM 13327",
          "Firmicutes/Bacilli/Lactobacillales/Enterococcaceae/Enterococcus ureasiticus",
          "Firmicutes/Erysipelotrichia/Erysipelotrichales/Erysipelotrichaceae/Erysipelotrichaceae bacterium 2_2_44A",
          "Firmicutes/Bacilli/Lactobacillales/Enterococcaceae/Enterococcus ureilyticus",
          "Firmicutes/Bacilli/Bacillales/Paenibacillaceae/Paenibacillus sp. PDC88",
          "Firmicutes/Bacilli/Bacillales/Paenibacillaceae/Paenibacillus sp. HGF5",
          "Firmicutes/Bacilli/Bacillales/Paenibacillaceae/Paenibacillus sp. HJL G12",
          "Firmicutes/Bacilli/Lactobacillales/Enterococcaceae/Enterococcus avium (Streptococcus avium)",
          "Firmicutes/Bacilli/Bacillales/Paenibacillaceae/Paenibacillus sp. IHBB 10380",
          "Firmicutes/Bacilli/Bacillales/Paenibacillaceae/Paenibacillus sp. J45TS6",
          "Firmicutes/Bacilli/Bacillales/Paenibacillaceae/Paenibacillus sp. JCM 10914",
          "Firmicutes/Bacilli/Bacillales/Paenibacillaceae/Paenibacillus sp. JGP012",
          "Firmicutes/Bacilli/Bacillales/Paenibacillaceae/Paenibacillus sp. JNUCC-31",
          "Firmicutes/Bacilli/Bacillales/Paenibacillaceae/Paenibacillus sp. KS1",
          "Firmicutes/Bacilli/Bacillales/Paenibacillaceae/Paenibacillus sp. LC231",
          "Firmicutes/Bacilli/Bacillales/Paenibacillaceae/Paenibacillus sp. Leaf72",
          "Firmicutes/Bacilli/Bacillales/Paenibacillaceae/Paenibacillus sp. MAEPY2",
          "Firmicutes/Bacilli/Bacillales/Paenibacillaceae/Paenibacillus sp. NAIST15-1",
          "Firmicutes/Bacilli/Bacillales/Paenibacillaceae/Paenibacillus sp. OK076",
          "Firmicutes/Bacilli/Bacillales/Paenibacillaceae/Paenibacillus sp. P1XP2",
          "Firmicutes/Bacilli/Bacillales/Paenibacillaceae/Paenibacillus sp. SDF0028",
          "Firmicutes/Bacilli/Bacillales/Bacillaceae/Fictibacillus solisalsi",
          "Firmicutes/Erysipelotrichia/Erysipelotrichales/Erysipelotrichaceae/Erysipelotrichaceae bacterium 3_1_53",
          "Firmicutes/Bacilli/Bacillales/Staphylococcaceae/Staphylococcus agnetis",
          "Firmicutes/Clostridia/Eubacteriales/Lachnospiraceae/Blautia sp. AM42-2",
          "Firmicutes/Clostridia/Eubacteriales/Lachnospiraceae/Blautia sp. AM47-4",
          "Firmicutes/Clostridia/Eubacteriales/Lachnospiraceae/Blautia sp. CAG:52",
          "Firmicutes/Clostridia/Eubacteriales/Lachnospiraceae/Blautia wexlerae",
          "Firmicutes/Bacilli/Lactobacillales/Streptococcaceae/Streptococcus equi subsp. equi (strain 4047)",
          "Firmicutes/Bacilli/Lactobacillales/Streptococcaceae/Streptococcus equi subsp. equi",
          "Firmicutes/Bacilli/Lactobacillales/Lactobacillaceae/Bombilactobacillus mellifer",
          "Firmicutes/Bacilli/Bacillales/Paenibacillaceae/Brevibacillus panacihumi",
          "Firmicutes/Clostridia/Eubacteriales/Lachnospiraceae/Butyrivibrio sp",
          "Firmicutes/Clostridia/Eubacteriales/Lachnospiraceae/Butyrivibrio sp. M55",
          "Firmicutes/Clostridia/Eubacteriales/Lachnospiraceae/Butyrivibrio sp. YAB3001",
          "Firmicutes/Clostridia/Thermoanaerobacterales/Thermoanaerobacterales Family III. Incertae Sedis/Caldicellulosiruptor acetigenus (strain ATCC 700853 / DSM 12137 / I77R1B) (Caldicellulosiruptor kristjanssonii)",
          "Firmicutes/Clostridia/Thermoanaerobacterales/Thermoanaerobacterales Family III. Incertae Sedis/Caldicellulosiruptor acetigenus 6A",
          "Firmicutes/Clostridia/Thermoanaerobacterales/Thermoanaerobacterales Family III. Incertae Sedis/Caldicellulosiruptor bescii (strain ATCC BAA-1888 / DSM 6725 / Z-1320) (Anaerocellum thermophilum)",
          "Firmicutes/Clostridia/Thermoanaerobacterales/Thermoanaerobacterales Family III. Incertae Sedis/Caldicellulosiruptor kronotskyensis (strain DSM 18902 / VKM B-2412 / 2002)",
          "Firmicutes/Clostridia/Eubacteriales/Lachnospiraceae/Blautia sp. AM28-10",
          "Firmicutes/Clostridia/Thermoanaerobacterales/Thermoanaerobacterales Family III. Incertae Sedis/Caldicellulosiruptor naganoensis",
          "Firmicutes/Clostridia/Eubacteriales/Lachnospiraceae/Blautia sp. AF19-1",
          "Firmicutes/Clostridia/Eubacteriales/Lachnospiraceae/Blautia hansenii DSM 20583",
          "Firmicutes/Erysipelotrichia/Erysipelotrichales/Erysipelotrichaceae/Faecalitalea cylindroides T2-87",
          "Firmicutes/Erysipelotrichia/Erysipelotrichales/Erysipelotrichaceae/Faecalitalea cylindroides ATCC 27803",
          "Firmicutes/Bacilli/Bacillales/Bacillaceae/Bacillus thuringiensis serovar cameroun",
          "Firmicutes/Bacilli/Bacillales/Bacillaceae/Oceanobacillus sp. E9",
          "Firmicutes/Bacilli/Bacillales/Paenibacillaceae/Paenibacillus alvei (strain ATCC 6344 / DSM 29 / NBRC 3343 / NCIMB 9371 / NCTC 6352) (Bacillus alvei)",
          "Firmicutes/Bacilli/Bacillales/Bacillaceae/Bacillus thuringiensis serovar vazensis",
          "Firmicutes/Bacilli/Bacillales/Bacillaceae/Bacillus thuringiensis subsp. finitimus",
          "Firmicutes/Bacilli/Bacillales/Bacillaceae/Bacillus thuringiensis subsp. konkukian",
          "Firmicutes/Bacilli/Bacillales/Bacillaceae/Bacillus thuringiensis subsp. konkukian (strain 97-27)",
          "Firmicutes/Bacilli/Bacillales/Bacillaceae/Bacillus toyonensis",
          "Firmicutes/Bacilli/Bacillales/Paenibacillaceae/Paenibacillus alvei TS-15",
          "Firmicutes/Bacilli/Bacillales/Bacillaceae/Bacillus velezensis",
          "Firmicutes/Bacilli/Bacillales/Bacillaceae/Bacillus weihaiensis",
          "Firmicutes/Bacilli/Bacillales/Planococcaceae/Bhargavaea cecembensis DSE10",
          "Firmicutes/Bacilli/Bacillales/Paenibacillaceae/Paenibacillus amylolyticus",
          "Firmicutes/Clostridia/Eubacteriales/Lachnospiraceae/Blautia sp. AF17-9LB",
          "Firmicutes/Bacilli/Bacillales/Planococcaceae/Sporosarcina sp. JAI121",
          "Firmicutes/Clostridia/Thermoanaerobacterales/Thermoanaerobacterales Family III. Incertae Sedis/Caldicellulosiruptor obsidiansis (strain ATCC BAA-2073 / strain OB47)",
          "Firmicutes/Clostridia/Thermoanaerobacterales/Thermoanaerobacterales Family III. Incertae Sedis/Caldicellulosiruptor owensensis (strain ATCC 700167 / DSM 13100 / OL)",
          "Firmicutes/Clostridia/Eubacteriales/Clostridiaceae/Clostridium disporicum",
          "Firmicutes/Clostridia/Eubacteriales/Clostridiaceae/Clostridium felsineum",
          "Firmicutes/Bacilli/Bacillales/Staphylococcaceae/Staphylococcus aureus subsp. aureus 71193",
          "Firmicutes/Bacilli/Bacillales/Staphylococcaceae/Staphylococcus aureus subsp. aureus 55/2053",
          "Firmicutes/Bacilli/Bacillales/Staphylococcaceae/Staphylococcus aureus (strain USA300)",
          "Firmicutes/Bacilli/Bacillales/Staphylococcaceae/Staphylococcus aureus (strain Newman)",
          "Firmicutes/Bacilli/Bacillales/Staphylococcaceae/Staphylococcus aureus (strain NCTC 8325 / PS 47)",
          "Firmicutes/Bacilli/Bacillales/Staphylococcaceae/Staphylococcus aureus (strain N315)",
          "Firmicutes/Bacilli/Bacillales/Staphylococcaceae/Staphylococcus aureus (strain Mu50 / ATCC 700699)",
          "Firmicutes/Bacilli/Bacillales/Staphylococcaceae/Staphylococcus aureus (strain MW2)",
          "Firmicutes/Bacilli/Bacillales/Staphylococcaceae/Staphylococcus aureus (strain MRSA252)",
          "Firmicutes/Bacilli/Bacillales/Staphylococcaceae/Staphylococcus aureus (strain COL)",
          "Firmicutes/Bacilli/Bacillales/Staphylococcaceae/Staphylococcus aureus",
          "Firmicutes/Bacilli/Bacillales/Staphylococcaceae/Staphylococcus argenteus",
          "Firmicutes/Bacilli/Bacillales/Staphylococcaceae/Staphylococcus argensis",
          "Firmicutes/Clostridia/Eubacteriales/Clostridiaceae/Clostridium cylindrosporum DSM 605",
          "Firmicutes/Clostridia/Thermoanaerobacterales/Thermoanaerobacterales Family III. Incertae Sedis/Caldicellulosiruptor owensensis",
          "Firmicutes/Erysipelotrichia/Erysipelotrichales/Erysipelotrichaceae/Erysipelotrichaceae bacterium 5_2_54FAA",
          "Firmicutes/Clostridia/Eubacteriales/Clostridiaceae/Clostridium argentinense CDC 2741",
          "Firmicutes/Clostridia/Thermoanaerobacterales/Thermoanaerobacterales Family III. Incertae Sedis/Caldicellulosiruptor saccharolyticus (strain ATCC 43494 / DSM 8903 / Tp8T 6331)",
          "Firmicutes/Bacilli/Bacillales/Bacillaceae/Calditerricola satsumensis",
          "Firmicutes/Clostridia/Eubacteriales/Clostridiaceae/Caloramator proteoclasticus DSM 10124",
          "Firmicutes/Tissierellia/Tissierellales/Thermohalobacteraceae/Caloranaerobacter azorensis H53214",
          "Firmicutes/Clostridia/Eubacteriales/Lachnospiraceae/Candidatus Blautia pullistercoris",
          "Firmicutes/Clostridia/Eubacteriales/Lachnospiraceae/Candidatus Dorea merdavium",
          "Firmicutes/Clostridia/Eubacteriales/Lachnospiraceae/Candidatus Eisenbergiella merdipullorum",
          "Firmicutes/Clostridia/Eubacteriales/Lachnospiraceae/Candidatus Enterocloster excrementipullorum",
          "Firmicutes/Clostridia/Eubacteriales/Eubacteriales incertae sedis/Candidatus Fimimorpha faecalis",
          "Firmicutes/Bacilli/Bacillales/Paenibacillaceae/Paenibacillus azoreducens",
          "Firmicutes/Bacilli/Bacillales/Paenibacillaceae/Paenibacillus campinasensis",
          "Firmicutes/Bacilli/Lactobacillales/Carnobacteriaceae/Carnobacterium divergens DSM 20623",
          "Firmicutes/Bacilli/Lactobacillales/Enterococcaceae/Catellicoccus marimammalium M35/04/3",
          "Firmicutes/Erysipelotrichia/Erysipelotrichales/Erysipelotrichaceae/Catenisphaera adipataccumulans",
          "Firmicutes/Erysipelotrichia/Erysipelotrichales/Erysipelotrichaceae/Erysipelotrichaceae bacterium 6_1_45",
          "Firmicutes",
          "Firmicutes/Bacilli/Bacillales/Bacillaceae/Bacillus cereus (strain AH820)"
         ],
         "labels": [
          "Amedibacterium intestinale",
          "Latilactobacillus curvatus (Lactobacillus curvatus)",
          "Sarcina ventriculi (Clostridium ventriculi)",
          "Schleiferilactobacillus perolens DSM 12744",
          "Shimazuella alba",
          "Solobacterium moorei",
          "Sporolactobacillus nakayamae",
          "Sporolactobacillus sp. THM19-2",
          "Staphylococcus aureus subsp. aureus CN1",
          "Staphylococcus aureus subsp. aureus MN8",
          "Staphylococcus aureus subsp. aureus USA300_TCH959",
          "Clostridium celatum DSM 1785",
          "Clostridium cavendishii DSM 21758",
          "Clostridium butyricum",
          "Clostridium botulinum Prevot_594",
          "Staphylococcus devriesei",
          "Staphylococcus edaphicus",
          "Clostridium bornimense",
          "Staphylococcus epidermidis",
          "Clostridium amylolyticum",
          "Sarcina sp. JB2",
          "Salinicoccus roseus",
          "Salicibibacter cibarius",
          "Salibacterium salarium",
          "Roseburia sp. OM04-15AA",
          "Clostridium sporogenes (strain ATCC 7955 / DSM 767 / NBRC 16411 / NCIMB 8053 / NCTC 8594 / PA 3679)",
          "Rossellomorea aquimaris",
          "Rossellomorea marisflavi",
          "Rossellomorea vietnamensis",
          "Ruminococcaceae bacterium BL-4",
          "Clostridium sp. DSM 8431",
          "Ruminococcaceae bacterium KH2T8",
          "Clostridium acetobutylicum (strain ATCC 824 / DSM 792 / JCM 1419 / LMG 5710 / VKM B-1787)",
          "Ruminococcus albus",
          "Ruminococcus gnavus (strain ATCC 29149 / VPI C7-9)",
          "Ruminococcus sp",
          "Ruminococcus sp. AF16-40",
          "Ruminococcus sp. AF31-8BH",
          "Ruminococcus sp. AM46-18",
          "Ruminococcus sp. CAG:488",
          "Ruminococcus sp. CAG:55",
          "Ruthenibacterium lactatiformans",
          "Ruminococcus gnavus",
          "Clostridiaceae bacterium OM02-2AC",
          "Clostridiaceae bacterium",
          "Cerasibacillus terrae",
          "Staphylococcus schleiferi",
          "Staphylococcus schweitzeri",
          "Staphylococcus sp. DORA_6_22",
          "Staphylococcus sp. HMSC036D05",
          "Staphylococcus sp. HMSC063F10",
          "Staphylococcus sp. HMSC071G07",
          "Staphylococcus sp. SB1-57",
          "Streptococcus acidominimus",
          "Staphylococcus pettenkoferi",
          "Streptococcus agalactiae",
          "Streptococcus agalactiae LMG 14747",
          "Streptococcus agalactiae serotype III (strain NEM316)",
          "Streptococcus agalactiae serotype V (strain ATCC BAA-611 / 2603 V/R)",
          "Streptococcus alactolyticus",
          "Streptococcus australis",
          "Streptococcus azizii",
          "Streptococcus chenjunshii",
          "Streptococcus cristatus",
          "Streptococcus agalactiae FSL S3-586",
          "Roseburia sp. OM04-10AA",
          "Staphylococcus microti",
          "Staphylococcus epidermidis W23144",
          "Cellulosilyticum sp. WCF-2",
          "Cellulosilyticum lentocellum (strain ATCC 49066 / DSM 5427 / NCIMB 11756 / RHM5) (Clostridium lentocellum)",
          "Staphylococcus epidermidis (strain ATCC 12228 / FDA PCI 1200)",
          "Staphylococcus epidermidis (strain ATCC 35984 / RP62A)",
          "Staphylococcus epidermidis CIM40",
          "Carnobacterium divergens (Lactobacillus divergens)",
          "Candidatus Scybalocola faecigallinarum",
          "Candidatus Pullilachnospira stercoravium",
          "Staphylococcus lugdunensis",
          "Candidatus Paralactobacillus gallistercoris",
          "Candidatus Merdibacter merdavium",
          "Candidatus Mediterraneibacter faecipullorum",
          "Candidatus Mediterraneibacter faecigallinarum",
          "Lactococcus allomyrinae",
          "Candidatus Lachnoclostridium stercoravium",
          "Candidatus Fournierella pullicola",
          "Candidatus Flavonifractor merdigallinarum",
          "Staphylococcus epidermidis M23864:W2(grey)",
          "Candidatus Monoglobus merdigallinarum",
          "Coprococcus comes",
          "Roseburia sp. CAG:471",
          "Coprococcus eutactus",
          "Listeria riparia FSL S10-1204",
          "Mammaliicoccus stepanovicii",
          "Metabacillus lacus",
          "Metabacillus litoralis",
          "Metabacillus mangrovi",
          "Mitsuokella sp. AF33-22",
          "Fictibacillus enclensis",
          "Mobilisporobacter senegalensis",
          "Listeria monocytogenes serotype 4a (strain M7)",
          "Neobacillus bataviensis LMG 21833",
          "Niallia circulans (Bacillus circulans)",
          "Oceanobacillus halophilus",
          "Eubacterium sp. TM05-53",
          "Eubacterium sp. CAG:146",
          "Eubacterium sp. An11",
          "Eubacterium sp. AF22-8LB",
          "Eubacterium sp. 38_16",
          "Eubacterium sp",
          "Neobacillus vireti LMG 21834",
          "Oceanobacillus iheyensis (strain DSM 14371 / CIP 107618 / JCM 11309 / KCTC 3954 / HTE831)",
          "Listeria aquatica",
          "Liquorilactobacillus hordei",
          "Lactococcus cremoris subsp. cremoris A76",
          "Lactococcus cremoris subsp. cremoris IBB477",
          "Lactococcus cremoris subsp. cremoris KW2",
          "Lactococcus cremoris subsp. cremoris TIFN1",
          "Lactococcus cremoris subsp. cremoris TIFN3",
          "Lactococcus lactis subsp. lactis (strain KF147)",
          "Lactococcus lactis subsp. lactis CNCM I-1631",
          "Lactococcus piscium MKFS47",
          "Liquorilactobacillus mali",
          "Lactococcus plantarum",
          "Lactococcus raffinolactis",
          "Lactococcus reticulitermitis",
          "Lactococcus sp",
          "Lactococcus sp. DD01",
          "Latilactobacillus fuchuensis",
          "Lachnobacterium bovis DSM 14045",
          "Ligilactobacillus pobuzihii",
          "Ligilactobacillus salitolerans",
          "Lactococcus protaetiae",
          "Oceanobacillus sp. J11TS1",
          "Oribacterium sp. KHPX15",
          "Oscillibacter sp",
          "Enterococcus faecalis 02-MB-BW-10",
          "Enterococcus faecalis (Streptococcus faecalis)",
          "Enterococcus columbae DSM 7374 = ATCC 51263",
          "Enterococcus cecorum",
          "Roseburia sp. AF15-21",
          "Roseburia sp. AF20-18LB",
          "Roseburia sp. AF25-13LB",
          "Roseburia sp. AF25-15LB",
          "Enterococcus faecalis ATCC 6055",
          "Roseburia sp. AF25-18LB",
          "Dialister hominis",
          "Desulforamulus profundi",
          "Criibacterium bergeronii",
          "Coprococcus sp. OM06-34AC",
          "Coprococcus sp. CAG:131",
          "Roseburia sp. AF42-8",
          "Roseburia sp. CAG:197",
          "Coprococcus sp. AF16-5",
          "Roseburia sp. AF25-25LB",
          "Enterococcus faecalis TX4248",
          "Enterococcus faecalis WKS-26-18-2",
          "Enterococcus faecium (Streptococcus faecium)",
          "Oscillospiraceae bacterium",
          "Paenibacillus albilobatus",
          "Erysipelotrichaceae bacterium AF15-26LB",
          "Paenibacillus ihbetae",
          "Paenibacillus illinoisensis",
          "Paenibacillus lactis 154",
          "Paenibacillus lautus (Bacillus lautus)",
          "Paenibacillus sp. TCA20",
          "Paenibacillus sp. VMFN-D1",
          "Paenibacillus sp. cl141a",
          "Paenibacillus sp. cl6col",
          "Enterococcus sp. 7E2_DIV0204",
          "Enterococcus sp. 7D2_DIV0200",
          "Enterococcus sp. 4G2_DIV0659",
          "Enterococcus sp. 3H8_DIV0648",
          "Enterococcus sp. 12C11_DIV0727",
          "Enterococcus sp. 10F3_DIV0382",
          "Enterococcus mundtii CRL35",
          "Enterococcus faecium 1,141,733",
          "Streptococcus cuniculi",
          "Streptococcus equi subsp. ruminatorum",
          "Candidatus Mediterraneibacter faecavium",
          "Streptococcus equi subsp. zooepidemicus",
          "Streptococcus sp. M143",
          "Streptococcus sp. NLAE-zl-C503",
          "Streptococcus sp. NM",
          "Bacillus mycoides (strain KBAB4) (Bacillus weihenstephanensis)",
          "Streptococcus sp. SK643",
          "Streptococcus sp. zg-86",
          "Streptococcus sp. GMD4S",
          "Streptococcus suis",
          "Streptococcus uberis",
          "Streptococcus viridans",
          "Streptococcus equi subsp. ruminatorum CECT 5772",
          "Streptococcus zalophi",
          "Vagococcus salmoninarum",
          "Virgibacillus sp. SK37",
          "Streptococcus symci",
          "Weissella muntiaci",
          "Streptococcus sp. FDAARGOS_256",
          "Streptococcus sp. BS35b",
          "Bacillus sp. BD59S",
          "Bacillus sp. BB51/4",
          "Bacillus sp. B3-WWTP-C-10-D-3",
          "Streptococcus sp. 45",
          "Streptococcus sp. AN2",
          "Bacillus sp. AY1-10",
          "Streptococcus sp. DD11",
          "Bacillus sp. AR13-1",
          "Bacillus sp. AFS094611",
          "Bacillus sp. AFS075960",
          "Bacillus sp. AFS059628",
          "Bacillus sp. AFS040349",
          "Streptococcus sp. AS14",
          "Streptococcus sp. BIOML-A1",
          "Bacillus sp. ANT_WA51",
          "Bacillus cereus Rock3-42",
          "[Ruminococcus] lactaris",
          "[Ruminococcus] torques",
          "Bacillus albus",
          "Anoxybacillus suryakundensis",
          "Bacillaceae",
          "Bacillales incertae sedis",
          "Carnobacteriaceae",
          "Cellulosilyticaceae",
          "Bacillus anthracis",
          "Clostridiaceae",
          "Anaerobutyricum hallii",
          "Amedibacillus dolichus DSM 3991",
          "Lactobacillaceae",
          "Listeriaceae",
          "Oscillospiraceae",
          "Absiella sp. AM27-20",
          "Anaeromicropila herbilytica",
          "Bacillus aquiflavi",
          "Alicyclobacillaceae",
          "Aerococcaceae",
          "[Ruminococcus] torques ATCC 27756",
          "Bacillus cereus HuA2-1",
          "Bacillus cereus BGSC 6E1",
          "Bacillus cereus BDRD-ST196",
          "[Ruminococcus] torques CAG:61",
          "uncultured Blautia sp",
          "Bacillus cereus AH1272",
          "uncultured Clostridium sp",
          "Bacillus cereus (strain ZK / E33L)",
          "Bacillus cereus (strain VD146)",
          "Bacillus cereus (strain MSX-D12)",
          "uncultured Coprococcus sp",
          "Bacillus cereus (strain ATCC 10987 / NRS 248)",
          "uncultured Roseburia sp",
          "uncultured Ruminococcus sp",
          "Bacillus sp. BF9-10",
          "Bacillus sp. BH2",
          "Streptococcus xiaochunlingii",
          "Streptococcus sp. 2_1_36FAA",
          "Bacillus thuringiensis serovar pingluonsis",
          "Bacillus thuringiensis serovar navarrensis",
          "Bacillus thuringiensis serovar mexicanensis",
          "Streptococcus mitis bv. 2 str. SK95",
          "Streptococcus oralis",
          "Streptococcus oralis (strain Uo5)",
          "Streptococcus oralis ATCC 35037",
          "Bacillus thuringiensis MC28",
          "Streptococcus mitis 18/56",
          "Streptococcus oralis ATCC 49296",
          "Streptococcus oralis SK610",
          "Streptococcus oralis subsp. dentisani",
          "Streptococcus oralis subsp. oralis",
          "Bacillus sp. BH32",
          "Streptococcus oralis subsp. tigurinus",
          "Streptococcus pantholopis",
          "Streptococcus parasanguinis",
          "Streptococcus parasanguinis (strain ATCC 15912 / DSM 6778 / CIP 104372 / LMG 14537)",
          "Streptococcus oralis SK1074",
          "Streptococcus parasanguinis F0405",
          "Streptococcus mitis 13/39",
          "Streptococcus macacae NCTC 11558",
          "Streptococcus equi subsp. zooepidemicus (strain H70)",
          "Streptococcus equi subsp. zooepidemicus (strain MGCS10565)",
          "Streptococcus equinus (Streptococcus bovis)",
          "Streptococcus equinus JB1",
          "Streptococcus ferus",
          "Blautia faecicola",
          "Streptococcus gallolyticus",
          "Streptococcus gallolyticus (strain ATCC 43143 / F-1867)",
          "Streptococcus mitis",
          "Streptococcus gallolyticus subsp. gallolyticus DSM 16831",
          "Streptococcus gordonii",
          "Streptococcus gordonii (strain Challis / ATCC 35105 / BCRC 15272 / CH1 / DL1 / V288)",
          "Bacillus vallismortis",
          "Streptococcus gwangjuense",
          "Streptococcus infantis ATCC 700779",
          "Streptococcus intermedius",
          "Streptococcus intermedius (strain ATCC 27335 / DSM 20573 / CCUG 32759 / CIP 103248 / JCM 12996 / LMG 17840 / NCTC 11324 / SK54 / 1877)",
          "Streptococcus intermedius B196",
          "Bacillus wiedmannii",
          "Streptococcus parasanguinis FW213",
          "Lactococcus chungangensis CAU 28 = DSM 22330",
          "Streptococcus pluranimalium",
          "Streptococcus sanguinis SK330",
          "Streptococcus ruminicola",
          "Streptococcus sanguinis SK355",
          "Streptococcus salivarius",
          "Streptococcus sanguinis SK408",
          "Streptococcus sanguinis SK678",
          "Streptococcus sanguinis SK160",
          "Streptococcus sanguinis SK150",
          "Streptococcus sanguinis SK115",
          "Bacillus sp. COPE52",
          "Bacillus sp. LL01",
          "Bacillus sp. MYb56",
          "Streptococcus sanguinis SK1087",
          "Streptococcus salivarius K12",
          "Streptococcus sanguinis SK72",
          "Bacillus sp. CH126_4D",
          "Bacillus sp. MYb209",
          "Streptococcus sanguinis",
          "Streptococcus sp",
          "Streptococcus sp. 1643",
          "Streptococcus sanguinis (strain SK36)",
          "Streptococcus sanguinis SK1056",
          "Streptococcus parauberis NCFD 2020",
          "Streptococcus ruminantium",
          "Streptococcus sanguinis SK1057",
          "Streptococcus sanguinis SK353",
          "Longicatena caecimuris",
          "Virgibacillus massiliensis",
          "Virgibacillus dokdonensis",
          "Lactobacillus sp",
          "Bacillus subtilis",
          "Faecalibacterium prausnitzii",
          "Faecalibacterium sp. An122",
          "Faecalibacterium sp. An192",
          "Faecalibaculum rodentium",
          "Clostridium sp. CAG:245",
          "Lactococcus paracarnosus",
          "Faecalicoccus acidiformans",
          "Faecalicoccus pleomorphus",
          "Clostridium sp. CAG:417",
          "Clostridium sp. CAG:43",
          "Latilactobacillus fuchuensis DSM 14340 = JCM 11249",
          "Latilactobacillus graminis",
          "Ligilactobacillus murinus DSM 20452 = NBRC 14221",
          "Ligilactobacillus salivarius (strain UCC118) (Lactobacillus salivarius)",
          "Limosilactobacillus equigenerosi DSM 18793 = JCM 14505",
          "Bacillus sp. AY18-3",
          "Listeria aquatica FSL S10-1188",
          "Metabacillus indicus (Bacillus indicus)",
          "Mesobacillus zeae",
          "Mesobacillus subterraneus",
          "Mesobacillus selenatarsenatis",
          "Mesobacillus foraminis",
          "Mediterraneibacter sp",
          "Lentibacillus kapialis",
          "Facklamia sp. 252",
          "Faecalibacillus faecis",
          "Streptococcus sp. HMSC063B03",
          "Terribacillus sp. 7520-G",
          "Tumebacillus flagellatus",
          "Extibacter muris",
          "Tumebacillus permanentifrigoris",
          "[Clostridium] innocuum 2959",
          "Enterocloster bolteae 90B8",
          "Enterocloster bolteae",
          "Bacillus cereus Rock3-28",
          "Streptococcus sp. HMSC069D09",
          "Dialister sp. CAG:486",
          "Bacillus pseudomycoides",
          "Bacillus cereus BAG6X1-2",
          "Dorea longicatena",
          "Bacillus cereus (strain ATCC 14579 / DSM 31 / CCUG 7414 / JCM 2152 / NBRC 15305 / NCIMB 9373 / NCTC 2599 / NRRL B-3711)",
          "Paenibacillus faecis",
          "Pseudoflavonifractor sp. An187",
          "Pseudoflavonifractor sp. An44",
          "Pseudogracilibacillus auburnensis",
          "Roseburia inulinivorans",
          "Roseburia sp",
          "Eubacteriales incertae sedis",
          "Lachnospiraceae",
          "Roseburia sp. 40_7",
          "Roseburia sp. AF02-12",
          "Roseburia sp. 831b",
          "Peptococcaceae",
          "Peptoniphilaceae",
          "Lactococcus lactis subsp. lactis (Streptococcus lactis)",
          "Peptostreptococcaceae",
          "Planococcaceae",
          "Roseburia sp. AF12-17LB",
          "Sedimentibacter",
          "Selenomonadaceae",
          "Roseburia sp. 499",
          "Streptococcus sp. HSISS3",
          "Ligilactobacillus murinus ASF361",
          "Ligilactobacillus murinus",
          "Paenibacillus chitinolyticus",
          "Paenibacillus dendritiformis",
          "Paenibacillus dendritiformis C454",
          "[Eubacterium] siraeum DSM 15702",
          "Streptococcus sp. oral taxon 061",
          "[Eubacterium] siraeum",
          "[Eubacterium] rectale",
          "[Eubacterium] cellulosolvens 6",
          "[Clostridium] nexile",
          "Eubacteriaceae",
          "Pediococcus acidilactici",
          "Streptococcus sp. KR",
          "Priestia veravalensis",
          "Pseudalkalibacillus hwajinpoensis",
          "Pseudobacteroides cellulosolvens ATCC 35603 = DSM 2933",
          "Pseudobutyrivibrio ruminis",
          "Pseudobutyrivibrio sp. OR37",
          "Pseudobutyrivibrio sp. YE44",
          "Erysipelotrichaceae",
          "Pseudobutyrivibrio xylanivorans",
          "Streptococcus sp. oral taxon 064",
          "Pseudobutyrivibrio sp",
          "Abiotrophia defectiva (Streptococcus defectivus)",
          "Enterococcus malodoratus ATCC 43197",
          "Enterococcus faecium EnGen0003",
          "Enterococcus faecium EnGen0263",
          "Enterococcus faecium TX1337RF",
          "Enterococcus haemoperoxidus ATCC BAA-382",
          "Enterococcus hirae",
          "Enterococcus lacertideformus",
          "Enterococcus moraviensis ATCC BAA-383",
          "Enterococcus mundtii",
          "Bhargavaea ginsengi",
          "Enterococcus plantarum",
          "Enterococcus quebecensis",
          "Absiella sp. AM09-45",
          "Enterococcus mundtii QU 25",
          "Enterococcus rivorum",
          "Enterococcus rotai",
          "Absicoccus porci",
          "Enterococcus ratti",
          "Bacillus thuringiensis Bt407",
          "Bacillus thuringiensis serovar argentinensis",
          "Bacillus thuringiensis serovar andalousiensis BGSC 4AW1",
          "Coprobacillaceae",
          "Candidatus Fimiplasma intestinipullorum",
          "Listeria kieliensis",
          "Paenibacillus algicola",
          "Paenibacillus alvei (Bacillus alvei)",
          "Paenibacillus xylanivorans",
          "Candidatus Flavonifractor intestinipullorum",
          "Enterococcus caccae ATCC BAA-1240",
          "Listeria booriae",
          "Parvimonas micra ATCC 33270",
          "Erysipelotrichaceae bacterium CAG:64",
          "Erysipelotrichaceae bacterium AM07-35-1",
          "Listeria cossartiae subsp. cayugensis",
          "Listeria grandensis",
          "Lactobacillus rodentium",
          "Listeria grayi FSL F6-1183",
          "Clostridium sp. 7_2_43FAA",
          "Erysipelotrichaceae bacterium I46",
          "Erysipelotrichaceae bacterium NYU-BL-F16",
          "Erysipelotrichaceae bacterium RD49",
          "Eubacterium eligens CAG:72",
          "Eubacterium ramulus ATCC 29099",
          "Bacillus sp. M21",
          "Listeria grayi DSM 20601",
          "Clostridium sp. AF23-8",
          "Clostridium sp. AM42-36",
          "Clostridium sp. AF34-10BH",
          "Lactococcus cremoris subsp. cremoris GE214",
          "Priestia flexa",
          "Lactococcus lactis",
          "Lactococcus lactis RTB018",
          "Lactococcus lactis subsp. cremoris (Streptococcus cremoris)",
          "Lactococcus lactis subsp. cremoris (strain MG1363)",
          "Lactococcus lactis subsp. cremoris (strain SK11)",
          "Clostridium sp. AF27-2AA",
          "Lactococcus lactis subsp. lactis IO-1",
          "Lactococcus lactis subsp. lactis bv. diacetylactis",
          "Dubosiella newyorkensis",
          "Lactococcus lactis subsp. lactis (strain IL1403) (Streptococcus lactis)",
          "Dorea formicigenerans",
          "Bacillus cereus Rock3-29",
          "Terribacillus goriensis",
          "Terribacillus halophilus",
          "Holdemanella porci",
          "Clostridium sp. CAG:245_30_32",
          "Terribacillus aidingensis",
          "Clostridium sp. CAG:265",
          "Clostridium sp. CAG:524",
          "Dialister sp",
          "Lachnoclostridium phytofermentans (strain ATCC 700394 / DSM 18823 / ISDg) (Clostridium phytofermentans)",
          "Isobaculum melis",
          "Bacillus thuringiensis (strain Al Hakam)",
          "Bacillus thuringiensis",
          "Bacillus tequilensis",
          "Bacillus taeanensis",
          "Bacillus swezeyi",
          "Bacillus sp. SRB_8",
          "Bacillus sp. SRB_331",
          "Bacillus sp. SN10",
          "Bacillus sp. SH7-1",
          "Bacillus sp. SJS",
          "Bacillus sp. RIT694",
          "Bacillus sp. SH5-2",
          "Listeria immobilis",
          "Listeria innocua",
          "Listeria innocua ATCC 33091",
          "Terribacillus saccharophilus",
          "Tissierellia",
          "Allobacillus salarius",
          "Bacillus mesophilum",
          "Alkalihalophilus pseudofirmus (Bacillus pseudofirmus)",
          "Alkalihalophilus pseudofirmus (strain ATCC BAA-2126 / JCM 17055 / OF4) (Bacillus pseudofirmus)",
          "Alkalihalobacillus lonarensis",
          "Bacillus sp. N1-1",
          "Bacillus sp. NSP9.1",
          "Bacillus sp. OV194",
          "Bacillus sp. OV322",
          "Bacillus sp. PAMC28748",
          "Bacillus sp. PGP15",
          "Alkalihalobacillus macyae",
          "Thermoactinomycetaceae",
          "Bacillus cereus (strain G9842)",
          "Bacillus cereus group sp. N18",
          "Thermoanaerobacterales Family III. Incertae Sedis",
          "Bacillus licheniformis",
          "Bacillus sp. 166amftsu",
          "Bacillus licheniformis (strain ATCC 14580 / DSM 13 / JCM 2505 / CCUG 7422 / NBRC 12200 / NCIMB 9375 / NCTC 10341 / NRRL NRS-1264 / Gibson 46)",
          "Bacillus sp. B1-b2",
          "Macrococcus canis",
          "Bacillus sp. B-jedd",
          "Paenibacillus xylanilyticus",
          "Paenibacillus vortex V453",
          "Paenibacillus uliginis N3/975",
          "Paenibacillus thiaminolyticus (Bacillus thiaminolyticus)",
          "Lachnospiraceae bacterium XBB2008",
          "Bacillus thuringiensis serovar pondicheriensis BGSC 4BA1",
          "Bacillus thuringiensis serovar shandongiensis",
          "Clostridium sp. CAG:914",
          "Clostridium sp. CAG:609",
          "Bacillus sp. CD3-5",
          "Clostridium sp. C8",
          "Bacillus sp. CAG:988",
          "Bacillus thuringiensis serovar thuringiensis str. IS5056",
          "Dialister invisus",
          "Paraliobacillus ryukyuensis",
          "Bacillus sp. BPN334",
          "Lactococcus carnosus",
          "Paenibacillus glucanolyticus",
          "Bacillus sp. FJAT-42376",
          "Bacillus sp. HBCD-sjtu",
          "Paenibacillaceae",
          "Sporolactobacillus terrae",
          "Bacillus sp. HUB-I-004",
          "Bacillus sp. M6-12",
          "Sporolactobacillaceae",
          "Sporomusaceae",
          "Staphylococcaceae",
          "Bacillus sp. MYb78",
          "Sporosarcina globispora (Bacillus globisporus)",
          "Clostridium botulinum (strain Eklund 17B / Type B)",
          "Clostridium botulinum",
          "Allobacillus saliphilus",
          "Amedibacillus dolichus",
          "Bacillus tropicus",
          "Bacillus cereus AH1271",
          "Streptococcus sp. zg-70",
          "Ruminococcus sp. TF06-23",
          "Streptococcus sp. zg-36",
          "Virgibacillus pantothenticus",
          "Virgibacillus salarius",
          "Sarcina sp",
          "Sarcina sp. DSM 11001",
          "Clostridium tetanomorphum",
          "Companilactobacillus mishanensis",
          "Coprococcus comes ATCC 27758",
          "Sedimentibacter sp. zth1",
          "Bacillus cereus VD021",
          "Bacillus cereus Rock4-18",
          "[Eubacterium] sulci",
          "Selenomonas sp. mPRGC5",
          "Enterococcus faecium 505",
          "Bacillus cereus BAG5X1-1",
          "Ruminococcus sp. CAG:177",
          "Bacillus sp. FJAT-18017",
          "Selenomonas sp. mPRGC8",
          "Lachnospiraceae bacterium TWA4",
          "Ileibacterium valens",
          "Listeria monocytogenes FSL F2-208",
          "Lactococcus lactis subsp. lactis A12",
          "Lachnospiraceae bacterium XPB1003",
          "Listeria monocytogenes",
          "Listeria marthii",
          "Listeria welshimeri serovar 6b (strain ATCC 35897 / DSM 20650 / CIP 8149 / NCTC 11857 / SLCC 5334 / V8)",
          "Listeria monocytogenes serotype 1/2a (strain EGD / Mackaness)",
          "Paenibacillus sp. XY044",
          "Hungatella hathewayi",
          "Longibaculum muris",
          "Listeria monocytogenes serotype 1/2a (strain 10403S)",
          "Exiguobacterium sp. RIT594",
          "Exiguobacterium sp. KRL4",
          "Eubacterium dolichum CAG:375",
          "Streptococcus sp. CCUG 49591",
          "Bacillus sp. CH30_1T",
          "Lachnospiraceae bacterium 3_1_46FAA",
          "Lactococcus cremoris subsp. tructae",
          "Lactococcus lactis subsp. hordniae",
          "Streptococcus sp. HMSC070B10",
          "Streptococcus sp. HMSC077D04",
          "Enterococcaceae",
          "Desulfotomaculaceae",
          "Weissella oryzae (strain DSM 25784 / JCM 18191 / LMG 30913 / SG25)",
          "Bacillus sp. 491mf",
          "Streptococcus sp. DD13",
          "Streptococcus sp. HSISB1",
          "Streptococcus sp. CM6",
          "Bacillus cereus VDM053",
          "Clostridium sp. NSJ-42",
          "Bacillus sp. AFS018417",
          "Bacillus cereus VD136",
          "Bacillus sp. 7586-K",
          "Bacillus sp. AFS015896",
          "Bacillus sp. 103mf",
          "Bacillus cytotoxicus",
          "Bacillus salacetis",
          "Lactococcus piscium",
          "Bacillus sp",
          "Clostridium kluyveri",
          "Enterococcus sp. NBRC 3427",
          "Bacillus thuringiensis serovar andalousiensis",
          "Bilifractor porci",
          "Bacillus glycinifermentans",
          "Bacillus coahuilensis p1.1.43",
          "Bacillus cereus m1293",
          "Priestia taiwanensis",
          "Bacillus cytotoxicus (strain DSM 22905 / CIP 110041 / 391-98 / NVH 391-98)",
          "Listeria fleischmannii",
          "Bacillus mojavensis",
          "Streptococcus sp. oral taxon 058 str. F0407",
          "Bacillus paranthracis",
          "Streptococcus sp. WB01_FAA12",
          "Bacillus mycoides",
          "Bacillus pacificus",
          "Bacillus paralicheniformis",
          "Bacillus pseudomycoides DSM 12442",
          "Bacillus paramycoides",
          "Streptococcus sp. bf_0095",
          "Streptococcus sp. SR1",
          "Listeria fleischmannii subsp. fleischmannii",
          "Streptococcus sp. HMSC061E03",
          "Filibacter tadaridae",
          "Floccifex porci",
          "Floricoccus tropicus",
          "Fontibacillus panacisegetis",
          "Fonticella tunisiensis",
          "Fructilactobacillus florum DSM 22689 = JCM 16035",
          "Furfurilactobacillus rossiae DSM 15814",
          "Lysinibacillus composti",
          "Lysinibacillus alkalisoli",
          "Geobacillus sp. (strain Y412MC10)",
          "Listeria weihenstephanensis",
          "Listeria rocourtiae",
          "Gottfriedia solisilvae",
          "Bacillus sp. LK2",
          "Bacillus sp. L27",
          "Bacillus sp. KH172YL63",
          "Bacillus sp. HY001",
          "Gracilibacillus boraciitolerans JCM 21714",
          "Listeria floridensis FSL S10-1187",
          "Gracilibacillus thailandensis",
          "Listeria fleischmannii FSL S10-1203",
          "Listeria fleischmannii 1991",
          "Streptococcus sp. GMD6S",
          "Streptococcus sp. HMSC062B01",
          "Gracilibacillus ureilyticus",
          "Enterococcus sp. 7F3_DIV0205",
          "Bacillus luti",
          "Lachnospiraceae bacterium 7_1_58FAA",
          "Anaerosacchariphilus polymeriproducens",
          "Anaeromicropila populeti",
          "Lachnospiraceae bacterium C7",
          "Lachnospiraceae bacterium KH1T2",
          "Lachnospiraceae bacterium KHCPX20",
          "Lachnospiraceae bacterium NE2001",
          "Alkalihalobacillus hemicellulosilyticus JCM 9152",
          "Agathobacter rectalis (strain ATCC 33656 / DSM 3377 / JCM 17463 / KCTC 5835 / VPI 0990) (Eubacterium rectale)",
          "Lachnotalea glycerini",
          "Lacticaseibacillus zeae (Lactobacillus zeae)",
          "Lacticaseibacillus zeae DSM 20178 = KCTC 3804",
          "Streptococcaceae",
          "Lactobacillus casei",
          "Anaerostipes sp. 992a",
          "Lactobacillus gasseri",
          "Veillonellaceae",
          "Bacillales",
          "Erysipelotrichales",
          "Eubacteriales",
          "Lactobacillales",
          "Selenomonadales",
          "Thermoanaerobacterales",
          "Tissierellales",
          "Tissierellia incertae sedis",
          "Veillonellales",
          "Bacilli",
          "Clostridia",
          "Erysipelotrichia",
          "Negativicutes",
          "Thermohalobacteraceae",
          "Anaerotruncus sp. 1XD22-93",
          "Aneurinibacillus migulanus (Bacillus migulanus)",
          "Anoxybacillus amylolyticus",
          "Bacillus licheniformis CG-B52",
          "Granulicatella adiacens ATCC 49175",
          "Granulicatella sp",
          "Halalkalibacterium halodurans (strain ATCC BAA-125 / DSM 18197 / FERM 7344 / JCM 9153 / C-125) (Bacillus halodurans)",
          "Holdemanella biformis",
          "Holdemanella biformis DSM 3989",
          "Fictibacillus sp. S7",
          "Bacillus clarus",
          "Bacillus cereus var. anthracis (strain CI)",
          "Veillonellaceae bacterium",
          "Virgibacillus chiguensis",
          "Virgibacillus dakarensis",
          "Ligilactobacillus agilis",
          "Ligilactobacillus acidipiscis",
          "Bacillus cereus VD115",
          "Bacillus cereus VD107",
          "Bacillus cereus VD048",
          "Anoxybacillus pushchinoensis",
          "Bacillus atrophaeus",
          "Bacillus cereus",
          "Bacillus cereus (strain 03BB102)",
          "Lachnospiraceae bacterium 3-1",
          "Bacillus cereus BAG1O-1",
          "Bacillus manliponensis",
          "Lactococcus termiticola",
          "Bacillus cereus HuA4-10",
          "Bacillus cereus MC67",
          "Lachnospiraceae bacterium 1_1_57FAA",
          "Lachnospiraceae bacterium",
          "Lachnospira eligens",
          "Lentibacillus sp. CBA3610",
          "Bacillus cereus HuA3-9",
          "Fictibacillus sp. KU28468",
          "Faecalitalea cylindroides",
          "Fictibacillus phosphorivorans",
          "Paenibacillus solani",
          "Paenibacillus sp",
          "Paenibacillus sp. 453mf",
          "Paenibacillus sp. 7516",
          "Paenibacillus sp. 7523-1",
          "Paenibacillus sp. 7541",
          "Paenibacillus silvae",
          "Paenibacillus sp. AR247",
          "Clostridium sp. NJ4",
          "Clostridium sp. chh4-2",
          "Clostridium sporogenes",
          "Paenibacillus sp. DMB20",
          "Paenibacillus sp. FSL H7-0326",
          "Paenibacillus sp. FSL R5-0765",
          "Paenibacillus sp. B2(2019)",
          "Paenibacillus rhizosphaerae",
          "Paenibacillus polysaccharolyticus",
          "Paenibacillus pini JCM 16418",
          "Clostridium felsineum DSM 794",
          "Clostridium innocuum",
          "Clostridium muellerianum",
          "Erysipelotrichaceae bacterium",
          "Epulopiscium sp",
          "Paenibacillus lemnae",
          "Clostridium nexile CAG:348",
          "Clostridium paraputrificum",
          "Clostridium saccharoperbutylacetonicum N1-4(HMT)",
          "Paenibacillus oralis",
          "Paenibacillus pabuli",
          "Clostridium sartagoforme",
          "Clostridium sartagoforme AAU1",
          "Clostridium sp",
          "Paenibacillus phyllosphaerae",
          "Coprococcus sp. AF38-1",
          "Coprococcus sp. BIOML-A2",
          "Paenibacillus sp. FSL R5-808",
          "Paenibacillus sp. GM2FR",
          "Enterococcus silesiacus",
          "Enterococcus sp. (strain 3G1_DIV0629)",
          "Priestia megaterium (Bacillus megaterium)",
          "Priestia koreensis",
          "Enterococcus termitis",
          "Priestia aryabhattai",
          "Porcincola intestinalis",
          "Pontibacillus halophilus JSM 076056 = DSM 19796",
          "Planococcus halotolerans",
          "Peribacillus muralis",
          "Peribacillus deserti",
          "Peribacillus cavernae",
          "Peribacillus asahii",
          "Pelotomaculum sp. PtaU1.Bin035",
          "Pelosinus propionicus DSM 13327",
          "Enterococcus ureasiticus",
          "Erysipelotrichaceae bacterium 2_2_44A",
          "Enterococcus ureilyticus",
          "Paenibacillus sp. PDC88",
          "Paenibacillus sp. HGF5",
          "Paenibacillus sp. HJL G12",
          "Enterococcus avium (Streptococcus avium)",
          "Paenibacillus sp. IHBB 10380",
          "Paenibacillus sp. J45TS6",
          "Paenibacillus sp. JCM 10914",
          "Paenibacillus sp. JGP012",
          "Paenibacillus sp. JNUCC-31",
          "Paenibacillus sp. KS1",
          "Paenibacillus sp. LC231",
          "Paenibacillus sp. Leaf72",
          "Paenibacillus sp. MAEPY2",
          "Paenibacillus sp. NAIST15-1",
          "Paenibacillus sp. OK076",
          "Paenibacillus sp. P1XP2",
          "Paenibacillus sp. SDF0028",
          "Fictibacillus solisalsi",
          "Erysipelotrichaceae bacterium 3_1_53",
          "Staphylococcus agnetis",
          "Blautia sp. AM42-2",
          "Blautia sp. AM47-4",
          "Blautia sp. CAG:52",
          "Blautia wexlerae",
          "Streptococcus equi subsp. equi (strain 4047)",
          "Streptococcus equi subsp. equi",
          "Bombilactobacillus mellifer",
          "Brevibacillus panacihumi",
          "Butyrivibrio sp",
          "Butyrivibrio sp. M55",
          "Butyrivibrio sp. YAB3001",
          "Caldicellulosiruptor acetigenus (strain ATCC 700853 / DSM 12137 / I77R1B) (Caldicellulosiruptor kristjanssonii)",
          "Caldicellulosiruptor acetigenus 6A",
          "Caldicellulosiruptor bescii (strain ATCC BAA-1888 / DSM 6725 / Z-1320) (Anaerocellum thermophilum)",
          "Caldicellulosiruptor kronotskyensis (strain DSM 18902 / VKM B-2412 / 2002)",
          "Blautia sp. AM28-10",
          "Caldicellulosiruptor naganoensis",
          "Blautia sp. AF19-1",
          "Blautia hansenii DSM 20583",
          "Faecalitalea cylindroides T2-87",
          "Faecalitalea cylindroides ATCC 27803",
          "Bacillus thuringiensis serovar cameroun",
          "Oceanobacillus sp. E9",
          "Paenibacillus alvei (strain ATCC 6344 / DSM 29 / NBRC 3343 / NCIMB 9371 / NCTC 6352) (Bacillus alvei)",
          "Bacillus thuringiensis serovar vazensis",
          "Bacillus thuringiensis subsp. finitimus",
          "Bacillus thuringiensis subsp. konkukian",
          "Bacillus thuringiensis subsp. konkukian (strain 97-27)",
          "Bacillus toyonensis",
          "Paenibacillus alvei TS-15",
          "Bacillus velezensis",
          "Bacillus weihaiensis",
          "Bhargavaea cecembensis DSE10",
          "Paenibacillus amylolyticus",
          "Blautia sp. AF17-9LB",
          "Sporosarcina sp. JAI121",
          "Caldicellulosiruptor obsidiansis (strain ATCC BAA-2073 / strain OB47)",
          "Caldicellulosiruptor owensensis (strain ATCC 700167 / DSM 13100 / OL)",
          "Clostridium disporicum",
          "Clostridium felsineum",
          "Staphylococcus aureus subsp. aureus 71193",
          "Staphylococcus aureus subsp. aureus 55/2053",
          "Staphylococcus aureus (strain USA300)",
          "Staphylococcus aureus (strain Newman)",
          "Staphylococcus aureus (strain NCTC 8325 / PS 47)",
          "Staphylococcus aureus (strain N315)",
          "Staphylococcus aureus (strain Mu50 / ATCC 700699)",
          "Staphylococcus aureus (strain MW2)",
          "Staphylococcus aureus (strain MRSA252)",
          "Staphylococcus aureus (strain COL)",
          "Staphylococcus aureus",
          "Staphylococcus argenteus",
          "Staphylococcus argensis",
          "Clostridium cylindrosporum DSM 605",
          "Caldicellulosiruptor owensensis",
          "Erysipelotrichaceae bacterium 5_2_54FAA",
          "Clostridium argentinense CDC 2741",
          "Caldicellulosiruptor saccharolyticus (strain ATCC 43494 / DSM 8903 / Tp8T 6331)",
          "Calditerricola satsumensis",
          "Caloramator proteoclasticus DSM 10124",
          "Caloranaerobacter azorensis H53214",
          "Candidatus Blautia pullistercoris",
          "Candidatus Dorea merdavium",
          "Candidatus Eisenbergiella merdipullorum",
          "Candidatus Enterocloster excrementipullorum",
          "Candidatus Fimimorpha faecalis",
          "Paenibacillus azoreducens",
          "Paenibacillus campinasensis",
          "Carnobacterium divergens DSM 20623",
          "Catellicoccus marimammalium M35/04/3",
          "Catenisphaera adipataccumulans",
          "Erysipelotrichaceae bacterium 6_1_45",
          "Firmicutes",
          "Bacillus cereus (strain AH820)"
         ],
         "marker": {
          "colors": [
           "#FECB52",
           "#949494",
           "#CC78BC",
           "#949494",
           "#636efa",
           "#FECB52",
           "#EF553B",
           "#EF553B",
           "#00cc96",
           "#00cc96",
           "#00cc96",
           "#CC78BC",
           "#CC78BC",
           "#CC78BC",
           "#CC78BC",
           "#00cc96",
           "#00cc96",
           "#CC78BC",
           "#00cc96",
           "#CC78BC",
           "#CC78BC",
           "#00cc96",
           "#DE8F05",
           "#DE8F05",
           "#029E73",
           "#CC78BC",
           "#DE8F05",
           "#DE8F05",
           "#DE8F05",
           "#ab63fa",
           "#CC78BC",
           "#ab63fa",
           "#CC78BC",
           "#ab63fa",
           "#029E73",
           "#ab63fa",
           "#ab63fa",
           "#ab63fa",
           "#ab63fa",
           "#ab63fa",
           "#ab63fa",
           "#ab63fa",
           "#029E73",
           "#CC78BC",
           "#CC78BC",
           "#DE8F05",
           "#00cc96",
           "#00cc96",
           "#00cc96",
           "#00cc96",
           "#00cc96",
           "#00cc96",
           "#00cc96",
           "#0173B2",
           "#00cc96",
           "#0173B2",
           "#0173B2",
           "#0173B2",
           "#0173B2",
           "#0173B2",
           "#0173B2",
           "#0173B2",
           "#0173B2",
           "#0173B2",
           "#0173B2",
           "#029E73",
           "#00cc96",
           "#00cc96",
           "#FFA15A",
           "#FFA15A",
           "#00cc96",
           "#00cc96",
           "#00cc96",
           "#19d3f3",
           "#029E73",
           "#029E73",
           "#00cc96",
           "#949494",
           "#FECB52",
           "#029E73",
           "#029E73",
           "#0173B2",
           "#029E73",
           "#ab63fa",
           "#ab63fa",
           "#00cc96",
           "#ab63fa",
           "#029E73",
           "#029E73",
           "#029E73",
           "#FBAFE4",
           "#00cc96",
           "#DE8F05",
           "#DE8F05",
           "#DE8F05",
           "#FF6692",
           "#DE8F05",
           "#029E73",
           "#FBAFE4",
           "#DE8F05",
           "#DE8F05",
           "#DE8F05",
           "#B6E880",
           "#B6E880",
           "#B6E880",
           "#B6E880",
           "#B6E880",
           "#B6E880",
           "#DE8F05",
           "#DE8F05",
           "#FBAFE4",
           "#949494",
           "#0173B2",
           "#0173B2",
           "#0173B2",
           "#0173B2",
           "#0173B2",
           "#0173B2",
           "#0173B2",
           "#0173B2",
           "#949494",
           "#0173B2",
           "#0173B2",
           "#0173B2",
           "#0173B2",
           "#0173B2",
           "#949494",
           "#029E73",
           "#949494",
           "#949494",
           "#0173B2",
           "#DE8F05",
           "#029E73",
           "#ab63fa",
           "#D55E00",
           "#D55E00",
           "#D55E00",
           "#D55E00",
           "#029E73",
           "#029E73",
           "#029E73",
           "#029E73",
           "#D55E00",
           "#029E73",
           "#FF97FF",
           "#FECB52",
           "#636efa",
           "#029E73",
           "#029E73",
           "#029E73",
           "#029E73",
           "#029E73",
           "#029E73",
           "#D55E00",
           "#D55E00",
           "#D55E00",
           "#ab63fa",
           "#CA9161",
           "#FECB52",
           "#CA9161",
           "#CA9161",
           "#CA9161",
           "#CA9161",
           "#CA9161",
           "#CA9161",
           "#CA9161",
           "#CA9161",
           "#D55E00",
           "#D55E00",
           "#D55E00",
           "#D55E00",
           "#D55E00",
           "#D55E00",
           "#D55E00",
           "#D55E00",
           "#0173B2",
           "#0173B2",
           "#029E73",
           "#0173B2",
           "#0173B2",
           "#0173B2",
           "#0173B2",
           "#DE8F05",
           "#0173B2",
           "#0173B2",
           "#0173B2",
           "#0173B2",
           "#0173B2",
           "#0173B2",
           "#0173B2",
           "#0173B2",
           "#D55E00",
           "#DE8F05",
           "#0173B2",
           "#949494",
           "#0173B2",
           "#0173B2",
           "#DE8F05",
           "#DE8F05",
           "#DE8F05",
           "#0173B2",
           "#0173B2",
           "#DE8F05",
           "#0173B2",
           "#DE8F05",
           "#DE8F05",
           "#DE8F05",
           "#DE8F05",
           "#DE8F05",
           "#0173B2",
           "#0173B2",
           "#DE8F05",
           "#DE8F05",
           "#029E73",
           "#029E73",
           "#DE8F05",
           "#DE8F05",
           "#DE8F05",
           "#EF553B",
           "#19d3f3",
           "#FFA15A",
           "#DE8F05",
           "#CC78BC",
           "#029E73",
           "#FECB52",
           "#949494",
           "#FBAFE4",
           "#ab63fa",
           "#FECB52",
           "#029E73",
           "#DE8F05",
           "#00cc96",
           "#ab63fa",
           "#029E73",
           "#DE8F05",
           "#DE8F05",
           "#DE8F05",
           "#ab63fa",
           "#029E73",
           "#DE8F05",
           "#CC78BC",
           "#DE8F05",
           "#DE8F05",
           "#DE8F05",
           "#029E73",
           "#DE8F05",
           "#029E73",
           "#ab63fa",
           "#DE8F05",
           "#DE8F05",
           "#0173B2",
           "#0173B2",
           "#DE8F05",
           "#DE8F05",
           "#DE8F05",
           "#0173B2",
           "#0173B2",
           "#0173B2",
           "#0173B2",
           "#DE8F05",
           "#0173B2",
           "#0173B2",
           "#0173B2",
           "#0173B2",
           "#0173B2",
           "#DE8F05",
           "#0173B2",
           "#0173B2",
           "#0173B2",
           "#0173B2",
           "#0173B2",
           "#0173B2",
           "#0173B2",
           "#0173B2",
           "#0173B2",
           "#0173B2",
           "#0173B2",
           "#0173B2",
           "#0173B2",
           "#029E73",
           "#0173B2",
           "#0173B2",
           "#0173B2",
           "#0173B2",
           "#0173B2",
           "#0173B2",
           "#DE8F05",
           "#0173B2",
           "#0173B2",
           "#0173B2",
           "#0173B2",
           "#0173B2",
           "#DE8F05",
           "#0173B2",
           "#0173B2",
           "#0173B2",
           "#0173B2",
           "#0173B2",
           "#0173B2",
           "#0173B2",
           "#0173B2",
           "#0173B2",
           "#0173B2",
           "#0173B2",
           "#0173B2",
           "#DE8F05",
           "#DE8F05",
           "#DE8F05",
           "#0173B2",
           "#0173B2",
           "#0173B2",
           "#DE8F05",
           "#DE8F05",
           "#0173B2",
           "#0173B2",
           "#0173B2",
           "#0173B2",
           "#0173B2",
           "#0173B2",
           "#0173B2",
           "#0173B2",
           "#0173B2",
           "#FECB52",
           "#DE8F05",
           "#DE8F05",
           "#949494",
           "#DE8F05",
           "#ab63fa",
           "#ab63fa",
           "#ab63fa",
           "#FECB52",
           "#CC78BC",
           "#0173B2",
           "#FECB52",
           "#FECB52",
           "#CC78BC",
           "#CC78BC",
           "#949494",
           "#949494",
           "#949494",
           "#949494",
           "#949494",
           "#DE8F05",
           "#FBAFE4",
           "#DE8F05",
           "#DE8F05",
           "#DE8F05",
           "#DE8F05",
           "#DE8F05",
           "#029E73",
           "#DE8F05",
           "#ab63fa",
           "#FECB52",
           "#0173B2",
           "#DE8F05",
           "#00cc96",
           "#029E73",
           "#00cc96",
           "#FFA15A",
           "#029E73",
           "#029E73",
           "#DE8F05",
           "#0173B2",
           "#FF97FF",
           "#DE8F05",
           "#DE8F05",
           "#029E73",
           "#DE8F05",
           "#CA9161",
           "#ab63fa",
           "#ab63fa",
           "#DE8F05",
           "#029E73",
           "#029E73",
           "#19d3f3",
           "#029E73",
           "#029E73",
           "#029E73",
           "#029E73",
           "#FECB52",
           "#FF6692",
           "#0173B2",
           "#636efa",
           "#B6E880",
           "#029E73",
           "#FF97FF",
           "#FF6692",
           "#029E73",
           "#0173B2",
           "#949494",
           "#949494",
           "#CA9161",
           "#CA9161",
           "#CA9161",
           "#ab63fa",
           "#0173B2",
           "#ab63fa",
           "#029E73",
           "#B6E880",
           "#029E73",
           "#B6E880",
           "#949494",
           "#0173B2",
           "#DE8F05",
           "#DE8F05",
           "#ab63fa",
           "#029E73",
           "#029E73",
           "#029E73",
           "#FECB52",
           "#029E73",
           "#0173B2",
           "#029E73",
           "#ab63fa",
           "#D55E00",
           "#D55E00",
           "#D55E00",
           "#D55E00",
           "#D55E00",
           "#D55E00",
           "#D55E00",
           "#D55E00",
           "#D55E00",
           "#B6E880",
           "#D55E00",
           "#D55E00",
           "#FECB52",
           "#D55E00",
           "#D55E00",
           "#D55E00",
           "#FECB52",
           "#D55E00",
           "#DE8F05",
           "#DE8F05",
           "#DE8F05",
           "#FFA15A",
           "#19d3f3",
           "#FBAFE4",
           "#CA9161",
           "#CA9161",
           "#CA9161",
           "#ab63fa",
           "#D55E00",
           "#FBAFE4",
           "#FF6692",
           "#FECB52",
           "#FECB52",
           "#FBAFE4",
           "#FBAFE4",
           "#949494",
           "#FBAFE4",
           "#CC78BC",
           "#FECB52",
           "#FECB52",
           "#FECB52",
           "#B6E880",
           "#B6E880",
           "#DE8F05",
           "#FBAFE4",
           "#CC78BC",
           "#CC78BC",
           "#CC78BC",
           "#0173B2",
           "#DE8F05",
           "#0173B2",
           "#0173B2",
           "#0173B2",
           "#0173B2",
           "#0173B2",
           "#CC78BC",
           "#0173B2",
           "#0173B2",
           "#FECB52",
           "#0173B2",
           "#029E73",
           "#DE8F05",
           "#DE8F05",
           "#DE8F05",
           "#FECB52",
           "#CC78BC",
           "#DE8F05",
           "#CC78BC",
           "#CC78BC",
           "#FF97FF",
           "#029E73",
           "#19d3f3",
           "#DE8F05",
           "#DE8F05",
           "#DE8F05",
           "#DE8F05",
           "#DE8F05",
           "#DE8F05",
           "#DE8F05",
           "#DE8F05",
           "#DE8F05",
           "#DE8F05",
           "#DE8F05",
           "#DE8F05",
           "#FBAFE4",
           "#FBAFE4",
           "#FBAFE4",
           "#DE8F05",
           "#FECB52",
           "#DE8F05",
           "#DE8F05",
           "#DE8F05",
           "#DE8F05",
           "#DE8F05",
           "#DE8F05",
           "#DE8F05",
           "#DE8F05",
           "#DE8F05",
           "#DE8F05",
           "#DE8F05",
           "#DE8F05",
           "#636efa",
           "#DE8F05",
           "#DE8F05",
           "#636efa",
           "#DE8F05",
           "#DE8F05",
           "#DE8F05",
           "#DE8F05",
           "#00cc96",
           "#DE8F05",
           "#CA9161",
           "#CA9161",
           "#CA9161",
           "#CA9161",
           "#029E73",
           "#DE8F05",
           "#DE8F05",
           "#CC78BC",
           "#CC78BC",
           "#DE8F05",
           "#CC78BC",
           "#DE8F05",
           "#DE8F05",
           "#FF97FF",
           "#DE8F05",
           "#DE8F05",
           "#0173B2",
           "#CA9161",
           "#DE8F05",
           "#DE8F05",
           "#CA9161",
           "#EF553B",
           "#DE8F05",
           "#DE8F05",
           "#EF553B",
           "#EF553B",
           "#00cc96",
           "#DE8F05",
           "#B6E880",
           "#CC78BC",
           "#CC78BC",
           "#DE8F05",
           "#FECB52",
           "#DE8F05",
           "#DE8F05",
           "#0173B2",
           "#ab63fa",
           "#0173B2",
           "#DE8F05",
           "#DE8F05",
           "#CC78BC",
           "#CC78BC",
           "#CC78BC",
           "#949494",
           "#029E73",
           "#FF97FF",
           "#DE8F05",
           "#DE8F05",
           "#19d3f3",
           "#FF6692",
           "#D55E00",
           "#DE8F05",
           "#ab63fa",
           "#DE8F05",
           "#FF6692",
           "#029E73",
           "#FECB52",
           "#FBAFE4",
           "#0173B2",
           "#029E73",
           "#FBAFE4",
           "#FBAFE4",
           "#FBAFE4",
           "#FBAFE4",
           "#CA9161",
           "#CC78BC",
           "#FECB52",
           "#FBAFE4",
           "#EF553B",
           "#EF553B",
           "#B6E880",
           "#0173B2",
           "#DE8F05",
           "#029E73",
           "#0173B2",
           "#0173B2",
           "#0173B2",
           "#0173B2",
           "#D55E00",
           "#00cc96",
           "#949494",
           "#DE8F05",
           "#0173B2",
           "#0173B2",
           "#0173B2",
           "#DE8F05",
           "#CC78BC",
           "#DE8F05",
           "#DE8F05",
           "#DE8F05",
           "#DE8F05",
           "#DE8F05",
           "#DE8F05",
           "#DE8F05",
           "#0173B2",
           "#DE8F05",
           "#CC78BC",
           "#D55E00",
           "#DE8F05",
           "#029E73",
           "#DE8F05",
           "#DE8F05",
           "#DE8F05",
           "#DE8F05",
           "#DE8F05",
           "#FBAFE4",
           "#DE8F05",
           "#0173B2",
           "#DE8F05",
           "#0173B2",
           "#DE8F05",
           "#DE8F05",
           "#DE8F05",
           "#DE8F05",
           "#DE8F05",
           "#0173B2",
           "#0173B2",
           "#FBAFE4",
           "#0173B2",
           "#B6E880",
           "#FECB52",
           "#0173B2",
           "#CA9161",
           "#CC78BC",
           "#949494",
           "#949494",
           "#DE8F05",
           "#DE8F05",
           "#CA9161",
           "#FBAFE4",
           "#FBAFE4",
           "#DE8F05",
           "#DE8F05",
           "#DE8F05",
           "#DE8F05",
           "#DE8F05",
           "#DE8F05",
           "#FBAFE4",
           "#DE8F05",
           "#FBAFE4",
           "#FBAFE4",
           "#0173B2",
           "#0173B2",
           "#DE8F05",
           "#D55E00",
           "#DE8F05",
           "#029E73",
           "#029E73",
           "#029E73",
           "#029E73",
           "#029E73",
           "#029E73",
           "#029E73",
           "#DE8F05",
           "#029E73",
           "#029E73",
           "#949494",
           "#949494",
           "#0173B2",
           "#949494",
           "#029E73",
           "#949494",
           "#FF97FF",
           "#FECB52",
           "#FECB52",
           "#FECB52",
           "#FECB52",
           "#FECB52",
           "#636efa",
           "#FECB52",
           "#FF97FF",
           "#FF97FF",
           "#FECB52",
           "#FECB52",
           "#FECB52",
           "#FECB52",
           "#ab63fa",
           "#ab63fa",
           "#CA9161",
           "#DE8F05",
           "#DE8F05",
           "#19d3f3",
           "#19d3f3",
           "#DE8F05",
           "#FECB52",
           "#FECB52",
           "#DE8F05",
           "#DE8F05",
           "#DE8F05",
           "#FF97FF",
           "#DE8F05",
           "#DE8F05",
           "#949494",
           "#949494",
           "#DE8F05",
           "#DE8F05",
           "#DE8F05",
           "#DE8F05",
           "#DE8F05",
           "#DE8F05",
           "#DE8F05",
           "#029E73",
           "#DE8F05",
           "#DE8F05",
           "#0173B2",
           "#DE8F05",
           "#DE8F05",
           "#029E73",
           "#029E73",
           "#029E73",
           "#DE8F05",
           "#DE8F05",
           "#DE8F05",
           "#FECB52",
           "#DE8F05",
           "#CA9161",
           "#CA9161",
           "#CA9161",
           "#CA9161",
           "#CA9161",
           "#CA9161",
           "#CA9161",
           "#CA9161",
           "#CC78BC",
           "#CC78BC",
           "#CC78BC",
           "#CA9161",
           "#CA9161",
           "#CA9161",
           "#CA9161",
           "#CA9161",
           "#CA9161",
           "#CA9161",
           "#CC78BC",
           "#FFA15A",
           "#CC78BC",
           "#FECB52",
           "#029E73",
           "#CA9161",
           "#CC78BC",
           "#CC78BC",
           "#CC78BC",
           "#CA9161",
           "#CA9161",
           "#CC78BC",
           "#CC78BC",
           "#CC78BC",
           "#CA9161",
           "#029E73",
           "#029E73",
           "#CA9161",
           "#CA9161",
           "#D55E00",
           "#D55E00",
           "#DE8F05",
           "#DE8F05",
           "#D55E00",
           "#DE8F05",
           "#029E73",
           "#DE8F05",
           "#B6E880",
           "#DE8F05",
           "#DE8F05",
           "#DE8F05",
           "#DE8F05",
           "#00cc96",
           "#EF553B",
           "#D55E00",
           "#FECB52",
           "#D55E00",
           "#CA9161",
           "#CA9161",
           "#CA9161",
           "#D55E00",
           "#CA9161",
           "#CA9161",
           "#CA9161",
           "#CA9161",
           "#CA9161",
           "#CA9161",
           "#CA9161",
           "#CA9161",
           "#CA9161",
           "#CA9161",
           "#CA9161",
           "#CA9161",
           "#CA9161",
           "#DE8F05",
           "#FECB52",
           "#00cc96",
           "#029E73",
           "#029E73",
           "#029E73",
           "#029E73",
           "#0173B2",
           "#0173B2",
           "#949494",
           "#CA9161",
           "#029E73",
           "#029E73",
           "#029E73",
           "#636efa",
           "#636efa",
           "#636efa",
           "#636efa",
           "#029E73",
           "#636efa",
           "#029E73",
           "#029E73",
           "#FECB52",
           "#FECB52",
           "#DE8F05",
           "#DE8F05",
           "#CA9161",
           "#DE8F05",
           "#DE8F05",
           "#DE8F05",
           "#DE8F05",
           "#DE8F05",
           "#CA9161",
           "#DE8F05",
           "#DE8F05",
           "#B6E880",
           "#CA9161",
           "#029E73",
           "#B6E880",
           "#636efa",
           "#636efa",
           "#CC78BC",
           "#CC78BC",
           "#00cc96",
           "#00cc96",
           "#00cc96",
           "#00cc96",
           "#00cc96",
           "#00cc96",
           "#00cc96",
           "#00cc96",
           "#00cc96",
           "#00cc96",
           "#00cc96",
           "#00cc96",
           "#00cc96",
           "#CC78BC",
           "#636efa",
           "#FECB52",
           "#CC78BC",
           "#636efa",
           "#DE8F05",
           "#CC78BC",
           "#ab63fa",
           "#029E73",
           "#029E73",
           "#029E73",
           "#029E73",
           "#19d3f3",
           "#CA9161",
           "#CA9161",
           "#19d3f3",
           "#D55E00",
           "#FECB52",
           "#FECB52",
           "#FECB52",
           "#DE8F05"
          ]
         },
         "name": "",
         "parents": [
          "Firmicutes/Erysipelotrichia/Erysipelotrichales/Erysipelotrichaceae",
          "Firmicutes/Bacilli/Lactobacillales/Lactobacillaceae",
          "Firmicutes/Clostridia/Eubacteriales/Clostridiaceae",
          "Firmicutes/Bacilli/Lactobacillales/Lactobacillaceae",
          "Firmicutes/Bacilli/Bacillales/Thermoactinomycetaceae",
          "Firmicutes/Erysipelotrichia/Erysipelotrichales/Erysipelotrichaceae",
          "Firmicutes/Bacilli/Bacillales/Sporolactobacillaceae",
          "Firmicutes/Bacilli/Bacillales/Sporolactobacillaceae",
          "Firmicutes/Bacilli/Bacillales/Staphylococcaceae",
          "Firmicutes/Bacilli/Bacillales/Staphylococcaceae",
          "Firmicutes/Bacilli/Bacillales/Staphylococcaceae",
          "Firmicutes/Clostridia/Eubacteriales/Clostridiaceae",
          "Firmicutes/Clostridia/Eubacteriales/Clostridiaceae",
          "Firmicutes/Clostridia/Eubacteriales/Clostridiaceae",
          "Firmicutes/Clostridia/Eubacteriales/Clostridiaceae",
          "Firmicutes/Bacilli/Bacillales/Staphylococcaceae",
          "Firmicutes/Bacilli/Bacillales/Staphylococcaceae",
          "Firmicutes/Clostridia/Eubacteriales/Clostridiaceae",
          "Firmicutes/Bacilli/Bacillales/Staphylococcaceae",
          "Firmicutes/Clostridia/Eubacteriales/Clostridiaceae",
          "Firmicutes/Clostridia/Eubacteriales/Clostridiaceae",
          "Firmicutes/Bacilli/Bacillales/Staphylococcaceae",
          "Firmicutes/Bacilli/Bacillales/Bacillaceae",
          "Firmicutes/Bacilli/Bacillales/Bacillaceae",
          "Firmicutes/Clostridia/Eubacteriales/Lachnospiraceae",
          "Firmicutes/Clostridia/Eubacteriales/Clostridiaceae",
          "Firmicutes/Bacilli/Bacillales/Bacillaceae",
          "Firmicutes/Bacilli/Bacillales/Bacillaceae",
          "Firmicutes/Bacilli/Bacillales/Bacillaceae",
          "Firmicutes/Clostridia/Eubacteriales/Oscillospiraceae",
          "Firmicutes/Clostridia/Eubacteriales/Clostridiaceae",
          "Firmicutes/Clostridia/Eubacteriales/Oscillospiraceae",
          "Firmicutes/Clostridia/Eubacteriales/Clostridiaceae",
          "Firmicutes/Clostridia/Eubacteriales/Oscillospiraceae",
          "Firmicutes/Clostridia/Eubacteriales/Lachnospiraceae",
          "Firmicutes/Clostridia/Eubacteriales/Oscillospiraceae",
          "Firmicutes/Clostridia/Eubacteriales/Oscillospiraceae",
          "Firmicutes/Clostridia/Eubacteriales/Oscillospiraceae",
          "Firmicutes/Clostridia/Eubacteriales/Oscillospiraceae",
          "Firmicutes/Clostridia/Eubacteriales/Oscillospiraceae",
          "Firmicutes/Clostridia/Eubacteriales/Oscillospiraceae",
          "Firmicutes/Clostridia/Eubacteriales/Oscillospiraceae",
          "Firmicutes/Clostridia/Eubacteriales/Lachnospiraceae",
          "Firmicutes/Clostridia/Eubacteriales/Clostridiaceae",
          "Firmicutes/Clostridia/Eubacteriales/Clostridiaceae",
          "Firmicutes/Bacilli/Bacillales/Bacillaceae",
          "Firmicutes/Bacilli/Bacillales/Staphylococcaceae",
          "Firmicutes/Bacilli/Bacillales/Staphylococcaceae",
          "Firmicutes/Bacilli/Bacillales/Staphylococcaceae",
          "Firmicutes/Bacilli/Bacillales/Staphylococcaceae",
          "Firmicutes/Bacilli/Bacillales/Staphylococcaceae",
          "Firmicutes/Bacilli/Bacillales/Staphylococcaceae",
          "Firmicutes/Bacilli/Bacillales/Staphylococcaceae",
          "Firmicutes/Bacilli/Lactobacillales/Streptococcaceae",
          "Firmicutes/Bacilli/Bacillales/Staphylococcaceae",
          "Firmicutes/Bacilli/Lactobacillales/Streptococcaceae",
          "Firmicutes/Bacilli/Lactobacillales/Streptococcaceae",
          "Firmicutes/Bacilli/Lactobacillales/Streptococcaceae",
          "Firmicutes/Bacilli/Lactobacillales/Streptococcaceae",
          "Firmicutes/Bacilli/Lactobacillales/Streptococcaceae",
          "Firmicutes/Bacilli/Lactobacillales/Streptococcaceae",
          "Firmicutes/Bacilli/Lactobacillales/Streptococcaceae",
          "Firmicutes/Bacilli/Lactobacillales/Streptococcaceae",
          "Firmicutes/Bacilli/Lactobacillales/Streptococcaceae",
          "Firmicutes/Bacilli/Lactobacillales/Streptococcaceae",
          "Firmicutes/Clostridia/Eubacteriales/Lachnospiraceae",
          "Firmicutes/Bacilli/Bacillales/Staphylococcaceae",
          "Firmicutes/Bacilli/Bacillales/Staphylococcaceae",
          "Firmicutes/Clostridia/Eubacteriales/Cellulosilyticaceae",
          "Firmicutes/Clostridia/Eubacteriales/Cellulosilyticaceae",
          "Firmicutes/Bacilli/Bacillales/Staphylococcaceae",
          "Firmicutes/Bacilli/Bacillales/Staphylococcaceae",
          "Firmicutes/Bacilli/Bacillales/Staphylococcaceae",
          "Firmicutes/Bacilli/Lactobacillales/Carnobacteriaceae",
          "Firmicutes/Clostridia/Eubacteriales/Lachnospiraceae",
          "Firmicutes/Clostridia/Eubacteriales/Lachnospiraceae",
          "Firmicutes/Bacilli/Bacillales/Staphylococcaceae",
          "Firmicutes/Bacilli/Lactobacillales/Lactobacillaceae",
          "Firmicutes/Erysipelotrichia/Erysipelotrichales/Erysipelotrichaceae",
          "Firmicutes/Clostridia/Eubacteriales/Lachnospiraceae",
          "Firmicutes/Clostridia/Eubacteriales/Lachnospiraceae",
          "Firmicutes/Bacilli/Lactobacillales/Streptococcaceae",
          "Firmicutes/Clostridia/Eubacteriales/Lachnospiraceae",
          "Firmicutes/Clostridia/Eubacteriales/Oscillospiraceae",
          "Firmicutes/Clostridia/Eubacteriales/Oscillospiraceae",
          "Firmicutes/Bacilli/Bacillales/Staphylococcaceae",
          "Firmicutes/Clostridia/Eubacteriales/Oscillospiraceae",
          "Firmicutes/Clostridia/Eubacteriales/Lachnospiraceae",
          "Firmicutes/Clostridia/Eubacteriales/Lachnospiraceae",
          "Firmicutes/Clostridia/Eubacteriales/Lachnospiraceae",
          "Firmicutes/Bacilli/Bacillales/Listeriaceae",
          "Firmicutes/Bacilli/Bacillales/Staphylococcaceae",
          "Firmicutes/Bacilli/Bacillales/Bacillaceae",
          "Firmicutes/Bacilli/Bacillales/Bacillaceae",
          "Firmicutes/Bacilli/Bacillales/Bacillaceae",
          "Firmicutes/Negativicutes/Selenomonadales/Selenomonadaceae",
          "Firmicutes/Bacilli/Bacillales/Bacillaceae",
          "Firmicutes/Clostridia/Eubacteriales/Lachnospiraceae",
          "Firmicutes/Bacilli/Bacillales/Listeriaceae",
          "Firmicutes/Bacilli/Bacillales/Bacillaceae",
          "Firmicutes/Bacilli/Bacillales/Bacillaceae",
          "Firmicutes/Bacilli/Bacillales/Bacillaceae",
          "Firmicutes/Clostridia/Eubacteriales/Eubacteriaceae",
          "Firmicutes/Clostridia/Eubacteriales/Eubacteriaceae",
          "Firmicutes/Clostridia/Eubacteriales/Eubacteriaceae",
          "Firmicutes/Clostridia/Eubacteriales/Eubacteriaceae",
          "Firmicutes/Clostridia/Eubacteriales/Eubacteriaceae",
          "Firmicutes/Clostridia/Eubacteriales/Eubacteriaceae",
          "Firmicutes/Bacilli/Bacillales/Bacillaceae",
          "Firmicutes/Bacilli/Bacillales/Bacillaceae",
          "Firmicutes/Bacilli/Bacillales/Listeriaceae",
          "Firmicutes/Bacilli/Lactobacillales/Lactobacillaceae",
          "Firmicutes/Bacilli/Lactobacillales/Streptococcaceae",
          "Firmicutes/Bacilli/Lactobacillales/Streptococcaceae",
          "Firmicutes/Bacilli/Lactobacillales/Streptococcaceae",
          "Firmicutes/Bacilli/Lactobacillales/Streptococcaceae",
          "Firmicutes/Bacilli/Lactobacillales/Streptococcaceae",
          "Firmicutes/Bacilli/Lactobacillales/Streptococcaceae",
          "Firmicutes/Bacilli/Lactobacillales/Streptococcaceae",
          "Firmicutes/Bacilli/Lactobacillales/Streptococcaceae",
          "Firmicutes/Bacilli/Lactobacillales/Lactobacillaceae",
          "Firmicutes/Bacilli/Lactobacillales/Streptococcaceae",
          "Firmicutes/Bacilli/Lactobacillales/Streptococcaceae",
          "Firmicutes/Bacilli/Lactobacillales/Streptococcaceae",
          "Firmicutes/Bacilli/Lactobacillales/Streptococcaceae",
          "Firmicutes/Bacilli/Lactobacillales/Streptococcaceae",
          "Firmicutes/Bacilli/Lactobacillales/Lactobacillaceae",
          "Firmicutes/Clostridia/Eubacteriales/Lachnospiraceae",
          "Firmicutes/Bacilli/Lactobacillales/Lactobacillaceae",
          "Firmicutes/Bacilli/Lactobacillales/Lactobacillaceae",
          "Firmicutes/Bacilli/Lactobacillales/Streptococcaceae",
          "Firmicutes/Bacilli/Bacillales/Bacillaceae",
          "Firmicutes/Clostridia/Eubacteriales/Lachnospiraceae",
          "Firmicutes/Clostridia/Eubacteriales/Oscillospiraceae",
          "Firmicutes/Bacilli/Lactobacillales/Enterococcaceae",
          "Firmicutes/Bacilli/Lactobacillales/Enterococcaceae",
          "Firmicutes/Bacilli/Lactobacillales/Enterococcaceae",
          "Firmicutes/Bacilli/Lactobacillales/Enterococcaceae",
          "Firmicutes/Clostridia/Eubacteriales/Lachnospiraceae",
          "Firmicutes/Clostridia/Eubacteriales/Lachnospiraceae",
          "Firmicutes/Clostridia/Eubacteriales/Lachnospiraceae",
          "Firmicutes/Clostridia/Eubacteriales/Lachnospiraceae",
          "Firmicutes/Bacilli/Lactobacillales/Enterococcaceae",
          "Firmicutes/Clostridia/Eubacteriales/Lachnospiraceae",
          "Firmicutes/Negativicutes/Veillonellales/Veillonellaceae",
          "Firmicutes/Clostridia/Eubacteriales/Peptococcaceae",
          "Firmicutes/Clostridia/Eubacteriales/Peptostreptococcaceae",
          "Firmicutes/Clostridia/Eubacteriales/Lachnospiraceae",
          "Firmicutes/Clostridia/Eubacteriales/Lachnospiraceae",
          "Firmicutes/Clostridia/Eubacteriales/Lachnospiraceae",
          "Firmicutes/Clostridia/Eubacteriales/Lachnospiraceae",
          "Firmicutes/Clostridia/Eubacteriales/Lachnospiraceae",
          "Firmicutes/Clostridia/Eubacteriales/Lachnospiraceae",
          "Firmicutes/Bacilli/Lactobacillales/Enterococcaceae",
          "Firmicutes/Bacilli/Lactobacillales/Enterococcaceae",
          "Firmicutes/Bacilli/Lactobacillales/Enterococcaceae",
          "Firmicutes/Clostridia/Eubacteriales/Oscillospiraceae",
          "Firmicutes/Bacilli/Bacillales/Paenibacillaceae",
          "Firmicutes/Erysipelotrichia/Erysipelotrichales/Erysipelotrichaceae",
          "Firmicutes/Bacilli/Bacillales/Paenibacillaceae",
          "Firmicutes/Bacilli/Bacillales/Paenibacillaceae",
          "Firmicutes/Bacilli/Bacillales/Paenibacillaceae",
          "Firmicutes/Bacilli/Bacillales/Paenibacillaceae",
          "Firmicutes/Bacilli/Bacillales/Paenibacillaceae",
          "Firmicutes/Bacilli/Bacillales/Paenibacillaceae",
          "Firmicutes/Bacilli/Bacillales/Paenibacillaceae",
          "Firmicutes/Bacilli/Bacillales/Paenibacillaceae",
          "Firmicutes/Bacilli/Lactobacillales/Enterococcaceae",
          "Firmicutes/Bacilli/Lactobacillales/Enterococcaceae",
          "Firmicutes/Bacilli/Lactobacillales/Enterococcaceae",
          "Firmicutes/Bacilli/Lactobacillales/Enterococcaceae",
          "Firmicutes/Bacilli/Lactobacillales/Enterococcaceae",
          "Firmicutes/Bacilli/Lactobacillales/Enterococcaceae",
          "Firmicutes/Bacilli/Lactobacillales/Enterococcaceae",
          "Firmicutes/Bacilli/Lactobacillales/Enterococcaceae",
          "Firmicutes/Bacilli/Lactobacillales/Streptococcaceae",
          "Firmicutes/Bacilli/Lactobacillales/Streptococcaceae",
          "Firmicutes/Clostridia/Eubacteriales/Lachnospiraceae",
          "Firmicutes/Bacilli/Lactobacillales/Streptococcaceae",
          "Firmicutes/Bacilli/Lactobacillales/Streptococcaceae",
          "Firmicutes/Bacilli/Lactobacillales/Streptococcaceae",
          "Firmicutes/Bacilli/Lactobacillales/Streptococcaceae",
          "Firmicutes/Bacilli/Bacillales/Bacillaceae",
          "Firmicutes/Bacilli/Lactobacillales/Streptococcaceae",
          "Firmicutes/Bacilli/Lactobacillales/Streptococcaceae",
          "Firmicutes/Bacilli/Lactobacillales/Streptococcaceae",
          "Firmicutes/Bacilli/Lactobacillales/Streptococcaceae",
          "Firmicutes/Bacilli/Lactobacillales/Streptococcaceae",
          "Firmicutes/Bacilli/Lactobacillales/Streptococcaceae",
          "Firmicutes/Bacilli/Lactobacillales/Streptococcaceae",
          "Firmicutes/Bacilli/Lactobacillales/Streptococcaceae",
          "Firmicutes/Bacilli/Lactobacillales/Enterococcaceae",
          "Firmicutes/Bacilli/Bacillales/Bacillaceae",
          "Firmicutes/Bacilli/Lactobacillales/Streptococcaceae",
          "Firmicutes/Bacilli/Lactobacillales/Lactobacillaceae",
          "Firmicutes/Bacilli/Lactobacillales/Streptococcaceae",
          "Firmicutes/Bacilli/Lactobacillales/Streptococcaceae",
          "Firmicutes/Bacilli/Bacillales/Bacillaceae",
          "Firmicutes/Bacilli/Bacillales/Bacillaceae",
          "Firmicutes/Bacilli/Bacillales/Bacillaceae",
          "Firmicutes/Bacilli/Lactobacillales/Streptococcaceae",
          "Firmicutes/Bacilli/Lactobacillales/Streptococcaceae",
          "Firmicutes/Bacilli/Bacillales/Bacillaceae",
          "Firmicutes/Bacilli/Lactobacillales/Streptococcaceae",
          "Firmicutes/Bacilli/Bacillales/Bacillaceae",
          "Firmicutes/Bacilli/Bacillales/Bacillaceae",
          "Firmicutes/Bacilli/Bacillales/Bacillaceae",
          "Firmicutes/Bacilli/Bacillales/Bacillaceae",
          "Firmicutes/Bacilli/Bacillales/Bacillaceae",
          "Firmicutes/Bacilli/Lactobacillales/Streptococcaceae",
          "Firmicutes/Bacilli/Lactobacillales/Streptococcaceae",
          "Firmicutes/Bacilli/Bacillales/Bacillaceae",
          "Firmicutes/Bacilli/Bacillales/Bacillaceae",
          "Firmicutes/Clostridia/Eubacteriales/Lachnospiraceae",
          "Firmicutes/Clostridia/Eubacteriales/Lachnospiraceae",
          "Firmicutes/Bacilli/Bacillales/Bacillaceae",
          "Firmicutes/Bacilli/Bacillales/Bacillaceae",
          "Firmicutes/Bacilli/Bacillales",
          "Firmicutes/Bacilli/Bacillales",
          "Firmicutes/Bacilli/Lactobacillales",
          "Firmicutes/Clostridia/Eubacteriales",
          "Firmicutes/Bacilli/Bacillales/Bacillaceae",
          "Firmicutes/Clostridia/Eubacteriales",
          "Firmicutes/Clostridia/Eubacteriales/Lachnospiraceae",
          "Firmicutes/Erysipelotrichia/Erysipelotrichales/Erysipelotrichaceae",
          "Firmicutes/Bacilli/Lactobacillales",
          "Firmicutes/Bacilli/Bacillales",
          "Firmicutes/Clostridia/Eubacteriales",
          "Firmicutes/Erysipelotrichia/Erysipelotrichales/Erysipelotrichaceae",
          "Firmicutes/Clostridia/Eubacteriales/Lachnospiraceae",
          "Firmicutes/Bacilli/Bacillales/Bacillaceae",
          "Firmicutes/Bacilli/Bacillales",
          "Firmicutes/Bacilli/Lactobacillales",
          "Firmicutes/Clostridia/Eubacteriales/Lachnospiraceae",
          "Firmicutes/Bacilli/Bacillales/Bacillaceae",
          "Firmicutes/Bacilli/Bacillales/Bacillaceae",
          "Firmicutes/Bacilli/Bacillales/Bacillaceae",
          "Firmicutes/Clostridia/Eubacteriales/Oscillospiraceae",
          "Firmicutes/Clostridia/Eubacteriales/Lachnospiraceae",
          "Firmicutes/Bacilli/Bacillales/Bacillaceae",
          "Firmicutes/Clostridia/Eubacteriales/Clostridiaceae",
          "Firmicutes/Bacilli/Bacillales/Bacillaceae",
          "Firmicutes/Bacilli/Bacillales/Bacillaceae",
          "Firmicutes/Bacilli/Bacillales/Bacillaceae",
          "Firmicutes/Clostridia/Eubacteriales/Lachnospiraceae",
          "Firmicutes/Bacilli/Bacillales/Bacillaceae",
          "Firmicutes/Clostridia/Eubacteriales/Lachnospiraceae",
          "Firmicutes/Clostridia/Eubacteriales/Oscillospiraceae",
          "Firmicutes/Bacilli/Bacillales/Bacillaceae",
          "Firmicutes/Bacilli/Bacillales/Bacillaceae",
          "Firmicutes/Bacilli/Lactobacillales/Streptococcaceae",
          "Firmicutes/Bacilli/Lactobacillales/Streptococcaceae",
          "Firmicutes/Bacilli/Bacillales/Bacillaceae",
          "Firmicutes/Bacilli/Bacillales/Bacillaceae",
          "Firmicutes/Bacilli/Bacillales/Bacillaceae",
          "Firmicutes/Bacilli/Lactobacillales/Streptococcaceae",
          "Firmicutes/Bacilli/Lactobacillales/Streptococcaceae",
          "Firmicutes/Bacilli/Lactobacillales/Streptococcaceae",
          "Firmicutes/Bacilli/Lactobacillales/Streptococcaceae",
          "Firmicutes/Bacilli/Bacillales/Bacillaceae",
          "Firmicutes/Bacilli/Lactobacillales/Streptococcaceae",
          "Firmicutes/Bacilli/Lactobacillales/Streptococcaceae",
          "Firmicutes/Bacilli/Lactobacillales/Streptococcaceae",
          "Firmicutes/Bacilli/Lactobacillales/Streptococcaceae",
          "Firmicutes/Bacilli/Lactobacillales/Streptococcaceae",
          "Firmicutes/Bacilli/Bacillales/Bacillaceae",
          "Firmicutes/Bacilli/Lactobacillales/Streptococcaceae",
          "Firmicutes/Bacilli/Lactobacillales/Streptococcaceae",
          "Firmicutes/Bacilli/Lactobacillales/Streptococcaceae",
          "Firmicutes/Bacilli/Lactobacillales/Streptococcaceae",
          "Firmicutes/Bacilli/Lactobacillales/Streptococcaceae",
          "Firmicutes/Bacilli/Lactobacillales/Streptococcaceae",
          "Firmicutes/Bacilli/Lactobacillales/Streptococcaceae",
          "Firmicutes/Bacilli/Lactobacillales/Streptococcaceae",
          "Firmicutes/Bacilli/Lactobacillales/Streptococcaceae",
          "Firmicutes/Bacilli/Lactobacillales/Streptococcaceae",
          "Firmicutes/Bacilli/Lactobacillales/Streptococcaceae",
          "Firmicutes/Bacilli/Lactobacillales/Streptococcaceae",
          "Firmicutes/Bacilli/Lactobacillales/Streptococcaceae",
          "Firmicutes/Clostridia/Eubacteriales/Lachnospiraceae",
          "Firmicutes/Bacilli/Lactobacillales/Streptococcaceae",
          "Firmicutes/Bacilli/Lactobacillales/Streptococcaceae",
          "Firmicutes/Bacilli/Lactobacillales/Streptococcaceae",
          "Firmicutes/Bacilli/Lactobacillales/Streptococcaceae",
          "Firmicutes/Bacilli/Lactobacillales/Streptococcaceae",
          "Firmicutes/Bacilli/Lactobacillales/Streptococcaceae",
          "Firmicutes/Bacilli/Bacillales/Bacillaceae",
          "Firmicutes/Bacilli/Lactobacillales/Streptococcaceae",
          "Firmicutes/Bacilli/Lactobacillales/Streptococcaceae",
          "Firmicutes/Bacilli/Lactobacillales/Streptococcaceae",
          "Firmicutes/Bacilli/Lactobacillales/Streptococcaceae",
          "Firmicutes/Bacilli/Lactobacillales/Streptococcaceae",
          "Firmicutes/Bacilli/Bacillales/Bacillaceae",
          "Firmicutes/Bacilli/Lactobacillales/Streptococcaceae",
          "Firmicutes/Bacilli/Lactobacillales/Streptococcaceae",
          "Firmicutes/Bacilli/Lactobacillales/Streptococcaceae",
          "Firmicutes/Bacilli/Lactobacillales/Streptococcaceae",
          "Firmicutes/Bacilli/Lactobacillales/Streptococcaceae",
          "Firmicutes/Bacilli/Lactobacillales/Streptococcaceae",
          "Firmicutes/Bacilli/Lactobacillales/Streptococcaceae",
          "Firmicutes/Bacilli/Lactobacillales/Streptococcaceae",
          "Firmicutes/Bacilli/Lactobacillales/Streptococcaceae",
          "Firmicutes/Bacilli/Lactobacillales/Streptococcaceae",
          "Firmicutes/Bacilli/Lactobacillales/Streptococcaceae",
          "Firmicutes/Bacilli/Lactobacillales/Streptococcaceae",
          "Firmicutes/Bacilli/Bacillales/Bacillaceae",
          "Firmicutes/Bacilli/Bacillales/Bacillaceae",
          "Firmicutes/Bacilli/Bacillales/Bacillaceae",
          "Firmicutes/Bacilli/Lactobacillales/Streptococcaceae",
          "Firmicutes/Bacilli/Lactobacillales/Streptococcaceae",
          "Firmicutes/Bacilli/Lactobacillales/Streptococcaceae",
          "Firmicutes/Bacilli/Bacillales/Bacillaceae",
          "Firmicutes/Bacilli/Bacillales/Bacillaceae",
          "Firmicutes/Bacilli/Lactobacillales/Streptococcaceae",
          "Firmicutes/Bacilli/Lactobacillales/Streptococcaceae",
          "Firmicutes/Bacilli/Lactobacillales/Streptococcaceae",
          "Firmicutes/Bacilli/Lactobacillales/Streptococcaceae",
          "Firmicutes/Bacilli/Lactobacillales/Streptococcaceae",
          "Firmicutes/Bacilli/Lactobacillales/Streptococcaceae",
          "Firmicutes/Bacilli/Lactobacillales/Streptococcaceae",
          "Firmicutes/Bacilli/Lactobacillales/Streptococcaceae",
          "Firmicutes/Bacilli/Lactobacillales/Streptococcaceae",
          "Firmicutes/Erysipelotrichia/Erysipelotrichales/Erysipelotrichaceae",
          "Firmicutes/Bacilli/Bacillales/Bacillaceae",
          "Firmicutes/Bacilli/Bacillales/Bacillaceae",
          "Firmicutes/Bacilli/Lactobacillales/Lactobacillaceae",
          "Firmicutes/Bacilli/Bacillales/Bacillaceae",
          "Firmicutes/Clostridia/Eubacteriales/Oscillospiraceae",
          "Firmicutes/Clostridia/Eubacteriales/Oscillospiraceae",
          "Firmicutes/Clostridia/Eubacteriales/Oscillospiraceae",
          "Firmicutes/Erysipelotrichia/Erysipelotrichales/Erysipelotrichaceae",
          "Firmicutes/Clostridia/Eubacteriales/Clostridiaceae",
          "Firmicutes/Bacilli/Lactobacillales/Streptococcaceae",
          "Firmicutes/Erysipelotrichia/Erysipelotrichales/Erysipelotrichaceae",
          "Firmicutes/Erysipelotrichia/Erysipelotrichales/Erysipelotrichaceae",
          "Firmicutes/Clostridia/Eubacteriales/Clostridiaceae",
          "Firmicutes/Clostridia/Eubacteriales/Clostridiaceae",
          "Firmicutes/Bacilli/Lactobacillales/Lactobacillaceae",
          "Firmicutes/Bacilli/Lactobacillales/Lactobacillaceae",
          "Firmicutes/Bacilli/Lactobacillales/Lactobacillaceae",
          "Firmicutes/Bacilli/Lactobacillales/Lactobacillaceae",
          "Firmicutes/Bacilli/Lactobacillales/Lactobacillaceae",
          "Firmicutes/Bacilli/Bacillales/Bacillaceae",
          "Firmicutes/Bacilli/Bacillales/Listeriaceae",
          "Firmicutes/Bacilli/Bacillales/Bacillaceae",
          "Firmicutes/Bacilli/Bacillales/Bacillaceae",
          "Firmicutes/Bacilli/Bacillales/Bacillaceae",
          "Firmicutes/Bacilli/Bacillales/Bacillaceae",
          "Firmicutes/Bacilli/Bacillales/Bacillaceae",
          "Firmicutes/Clostridia/Eubacteriales/Lachnospiraceae",
          "Firmicutes/Bacilli/Bacillales/Bacillaceae",
          "Firmicutes/Bacilli/Lactobacillales/Aerococcaceae",
          "Firmicutes/Erysipelotrichia/Erysipelotrichales/Erysipelotrichaceae",
          "Firmicutes/Bacilli/Lactobacillales/Streptococcaceae",
          "Firmicutes/Bacilli/Bacillales/Bacillaceae",
          "Firmicutes/Bacilli/Bacillales/Alicyclobacillaceae",
          "Firmicutes/Clostridia/Eubacteriales/Lachnospiraceae",
          "Firmicutes/Bacilli/Bacillales/Alicyclobacillaceae",
          "Firmicutes/Erysipelotrichia/Erysipelotrichales/Coprobacillaceae",
          "Firmicutes/Clostridia/Eubacteriales/Lachnospiraceae",
          "Firmicutes/Clostridia/Eubacteriales/Lachnospiraceae",
          "Firmicutes/Bacilli/Bacillales/Bacillaceae",
          "Firmicutes/Bacilli/Lactobacillales/Streptococcaceae",
          "Firmicutes/Negativicutes/Veillonellales/Veillonellaceae",
          "Firmicutes/Bacilli/Bacillales/Bacillaceae",
          "Firmicutes/Bacilli/Bacillales/Bacillaceae",
          "Firmicutes/Clostridia/Eubacteriales/Lachnospiraceae",
          "Firmicutes/Bacilli/Bacillales/Bacillaceae",
          "Firmicutes/Bacilli/Bacillales/Paenibacillaceae",
          "Firmicutes/Clostridia/Eubacteriales/Oscillospiraceae",
          "Firmicutes/Clostridia/Eubacteriales/Oscillospiraceae",
          "Firmicutes/Bacilli/Bacillales/Bacillaceae",
          "Firmicutes/Clostridia/Eubacteriales/Lachnospiraceae",
          "Firmicutes/Clostridia/Eubacteriales/Lachnospiraceae",
          "Firmicutes/Clostridia/Eubacteriales",
          "Firmicutes/Clostridia/Eubacteriales",
          "Firmicutes/Clostridia/Eubacteriales/Lachnospiraceae",
          "Firmicutes/Clostridia/Eubacteriales/Lachnospiraceae",
          "Firmicutes/Clostridia/Eubacteriales/Lachnospiraceae",
          "Firmicutes/Clostridia/Eubacteriales",
          "Firmicutes/Tissierellia/Tissierellales",
          "Firmicutes/Bacilli/Lactobacillales/Streptococcaceae",
          "Firmicutes/Clostridia/Eubacteriales",
          "Firmicutes/Bacilli/Bacillales",
          "Firmicutes/Clostridia/Eubacteriales/Lachnospiraceae",
          "Firmicutes/Tissierellia/Tissierellia incertae sedis",
          "Firmicutes/Negativicutes/Selenomonadales",
          "Firmicutes/Clostridia/Eubacteriales/Lachnospiraceae",
          "Firmicutes/Bacilli/Lactobacillales/Streptococcaceae",
          "Firmicutes/Bacilli/Lactobacillales/Lactobacillaceae",
          "Firmicutes/Bacilli/Lactobacillales/Lactobacillaceae",
          "Firmicutes/Bacilli/Bacillales/Paenibacillaceae",
          "Firmicutes/Bacilli/Bacillales/Paenibacillaceae",
          "Firmicutes/Bacilli/Bacillales/Paenibacillaceae",
          "Firmicutes/Clostridia/Eubacteriales/Oscillospiraceae",
          "Firmicutes/Bacilli/Lactobacillales/Streptococcaceae",
          "Firmicutes/Clostridia/Eubacteriales/Oscillospiraceae",
          "Firmicutes/Clostridia/Eubacteriales/Lachnospiraceae",
          "Firmicutes/Clostridia/Eubacteriales/Eubacteriaceae",
          "Firmicutes/Clostridia/Eubacteriales/Lachnospiraceae",
          "Firmicutes/Clostridia/Eubacteriales",
          "Firmicutes/Bacilli/Lactobacillales/Lactobacillaceae",
          "Firmicutes/Bacilli/Lactobacillales/Streptococcaceae",
          "Firmicutes/Bacilli/Bacillales/Bacillaceae",
          "Firmicutes/Bacilli/Bacillales/Bacillaceae",
          "Firmicutes/Clostridia/Eubacteriales/Oscillospiraceae",
          "Firmicutes/Clostridia/Eubacteriales/Lachnospiraceae",
          "Firmicutes/Clostridia/Eubacteriales/Lachnospiraceae",
          "Firmicutes/Clostridia/Eubacteriales/Lachnospiraceae",
          "Firmicutes/Erysipelotrichia/Erysipelotrichales",
          "Firmicutes/Clostridia/Eubacteriales/Lachnospiraceae",
          "Firmicutes/Bacilli/Lactobacillales/Streptococcaceae",
          "Firmicutes/Clostridia/Eubacteriales/Lachnospiraceae",
          "Firmicutes/Bacilli/Lactobacillales/Aerococcaceae",
          "Firmicutes/Bacilli/Lactobacillales/Enterococcaceae",
          "Firmicutes/Bacilli/Lactobacillales/Enterococcaceae",
          "Firmicutes/Bacilli/Lactobacillales/Enterococcaceae",
          "Firmicutes/Bacilli/Lactobacillales/Enterococcaceae",
          "Firmicutes/Bacilli/Lactobacillales/Enterococcaceae",
          "Firmicutes/Bacilli/Lactobacillales/Enterococcaceae",
          "Firmicutes/Bacilli/Lactobacillales/Enterococcaceae",
          "Firmicutes/Bacilli/Lactobacillales/Enterococcaceae",
          "Firmicutes/Bacilli/Lactobacillales/Enterococcaceae",
          "Firmicutes/Bacilli/Bacillales/Planococcaceae",
          "Firmicutes/Bacilli/Lactobacillales/Enterococcaceae",
          "Firmicutes/Bacilli/Lactobacillales/Enterococcaceae",
          "Firmicutes/Erysipelotrichia/Erysipelotrichales/Erysipelotrichaceae",
          "Firmicutes/Bacilli/Lactobacillales/Enterococcaceae",
          "Firmicutes/Bacilli/Lactobacillales/Enterococcaceae",
          "Firmicutes/Bacilli/Lactobacillales/Enterococcaceae",
          "Firmicutes/Erysipelotrichia/Erysipelotrichales/Erysipelotrichaceae",
          "Firmicutes/Bacilli/Lactobacillales/Enterococcaceae",
          "Firmicutes/Bacilli/Bacillales/Bacillaceae",
          "Firmicutes/Bacilli/Bacillales/Bacillaceae",
          "Firmicutes/Bacilli/Bacillales/Bacillaceae",
          "Firmicutes/Erysipelotrichia/Erysipelotrichales",
          "Firmicutes/Clostridia/Eubacteriales/Eubacteriales incertae sedis",
          "Firmicutes/Bacilli/Bacillales/Listeriaceae",
          "Firmicutes/Bacilli/Bacillales/Paenibacillaceae",
          "Firmicutes/Bacilli/Bacillales/Paenibacillaceae",
          "Firmicutes/Bacilli/Bacillales/Paenibacillaceae",
          "Firmicutes/Clostridia/Eubacteriales/Oscillospiraceae",
          "Firmicutes/Bacilli/Lactobacillales/Enterococcaceae",
          "Firmicutes/Bacilli/Bacillales/Listeriaceae",
          "Firmicutes/Tissierellia/Tissierellales/Peptoniphilaceae",
          "Firmicutes/Erysipelotrichia/Erysipelotrichales/Erysipelotrichaceae",
          "Firmicutes/Erysipelotrichia/Erysipelotrichales/Erysipelotrichaceae",
          "Firmicutes/Bacilli/Bacillales/Listeriaceae",
          "Firmicutes/Bacilli/Bacillales/Listeriaceae",
          "Firmicutes/Bacilli/Lactobacillales/Lactobacillaceae",
          "Firmicutes/Bacilli/Bacillales/Listeriaceae",
          "Firmicutes/Clostridia/Eubacteriales/Clostridiaceae",
          "Firmicutes/Erysipelotrichia/Erysipelotrichales/Erysipelotrichaceae",
          "Firmicutes/Erysipelotrichia/Erysipelotrichales/Erysipelotrichaceae",
          "Firmicutes/Erysipelotrichia/Erysipelotrichales/Erysipelotrichaceae",
          "Firmicutes/Clostridia/Eubacteriales/Eubacteriaceae",
          "Firmicutes/Clostridia/Eubacteriales/Eubacteriaceae",
          "Firmicutes/Bacilli/Bacillales/Bacillaceae",
          "Firmicutes/Bacilli/Bacillales/Listeriaceae",
          "Firmicutes/Clostridia/Eubacteriales/Clostridiaceae",
          "Firmicutes/Clostridia/Eubacteriales/Clostridiaceae",
          "Firmicutes/Clostridia/Eubacteriales/Clostridiaceae",
          "Firmicutes/Bacilli/Lactobacillales/Streptococcaceae",
          "Firmicutes/Bacilli/Bacillales/Bacillaceae",
          "Firmicutes/Bacilli/Lactobacillales/Streptococcaceae",
          "Firmicutes/Bacilli/Lactobacillales/Streptococcaceae",
          "Firmicutes/Bacilli/Lactobacillales/Streptococcaceae",
          "Firmicutes/Bacilli/Lactobacillales/Streptococcaceae",
          "Firmicutes/Bacilli/Lactobacillales/Streptococcaceae",
          "Firmicutes/Clostridia/Eubacteriales/Clostridiaceae",
          "Firmicutes/Bacilli/Lactobacillales/Streptococcaceae",
          "Firmicutes/Bacilli/Lactobacillales/Streptococcaceae",
          "Firmicutes/Erysipelotrichia/Erysipelotrichales/Erysipelotrichaceae",
          "Firmicutes/Bacilli/Lactobacillales/Streptococcaceae",
          "Firmicutes/Clostridia/Eubacteriales/Lachnospiraceae",
          "Firmicutes/Bacilli/Bacillales/Bacillaceae",
          "Firmicutes/Bacilli/Bacillales/Bacillaceae",
          "Firmicutes/Bacilli/Bacillales/Bacillaceae",
          "Firmicutes/Erysipelotrichia/Erysipelotrichales/Erysipelotrichaceae",
          "Firmicutes/Clostridia/Eubacteriales/Clostridiaceae",
          "Firmicutes/Bacilli/Bacillales/Bacillaceae",
          "Firmicutes/Clostridia/Eubacteriales/Clostridiaceae",
          "Firmicutes/Clostridia/Eubacteriales/Clostridiaceae",
          "Firmicutes/Negativicutes/Veillonellales/Veillonellaceae",
          "Firmicutes/Clostridia/Eubacteriales/Lachnospiraceae",
          "Firmicutes/Bacilli/Lactobacillales/Carnobacteriaceae",
          "Firmicutes/Bacilli/Bacillales/Bacillaceae",
          "Firmicutes/Bacilli/Bacillales/Bacillaceae",
          "Firmicutes/Bacilli/Bacillales/Bacillaceae",
          "Firmicutes/Bacilli/Bacillales/Bacillaceae",
          "Firmicutes/Bacilli/Bacillales/Bacillaceae",
          "Firmicutes/Bacilli/Bacillales/Bacillaceae",
          "Firmicutes/Bacilli/Bacillales/Bacillaceae",
          "Firmicutes/Bacilli/Bacillales/Bacillaceae",
          "Firmicutes/Bacilli/Bacillales/Bacillaceae",
          "Firmicutes/Bacilli/Bacillales/Bacillaceae",
          "Firmicutes/Bacilli/Bacillales/Bacillaceae",
          "Firmicutes/Bacilli/Bacillales/Bacillaceae",
          "Firmicutes/Bacilli/Bacillales/Listeriaceae",
          "Firmicutes/Bacilli/Bacillales/Listeriaceae",
          "Firmicutes/Bacilli/Bacillales/Listeriaceae",
          "Firmicutes/Bacilli/Bacillales/Bacillaceae",
          "Firmicutes",
          "Firmicutes/Bacilli/Bacillales/Bacillaceae",
          "Firmicutes/Bacilli/Bacillales/Bacillaceae",
          "Firmicutes/Bacilli/Bacillales/Bacillaceae",
          "Firmicutes/Bacilli/Bacillales/Bacillaceae",
          "Firmicutes/Bacilli/Bacillales/Bacillaceae",
          "Firmicutes/Bacilli/Bacillales/Bacillaceae",
          "Firmicutes/Bacilli/Bacillales/Bacillaceae",
          "Firmicutes/Bacilli/Bacillales/Bacillaceae",
          "Firmicutes/Bacilli/Bacillales/Bacillaceae",
          "Firmicutes/Bacilli/Bacillales/Bacillaceae",
          "Firmicutes/Bacilli/Bacillales/Bacillaceae",
          "Firmicutes/Bacilli/Bacillales/Bacillaceae",
          "Firmicutes/Bacilli/Bacillales",
          "Firmicutes/Bacilli/Bacillales/Bacillaceae",
          "Firmicutes/Bacilli/Bacillales/Bacillaceae",
          "Firmicutes/Clostridia/Thermoanaerobacterales",
          "Firmicutes/Bacilli/Bacillales/Bacillaceae",
          "Firmicutes/Bacilli/Bacillales/Bacillaceae",
          "Firmicutes/Bacilli/Bacillales/Bacillaceae",
          "Firmicutes/Bacilli/Bacillales/Bacillaceae",
          "Firmicutes/Bacilli/Bacillales/Staphylococcaceae",
          "Firmicutes/Bacilli/Bacillales/Bacillaceae",
          "Firmicutes/Bacilli/Bacillales/Paenibacillaceae",
          "Firmicutes/Bacilli/Bacillales/Paenibacillaceae",
          "Firmicutes/Bacilli/Bacillales/Paenibacillaceae",
          "Firmicutes/Bacilli/Bacillales/Paenibacillaceae",
          "Firmicutes/Clostridia/Eubacteriales/Lachnospiraceae",
          "Firmicutes/Bacilli/Bacillales/Bacillaceae",
          "Firmicutes/Bacilli/Bacillales/Bacillaceae",
          "Firmicutes/Clostridia/Eubacteriales/Clostridiaceae",
          "Firmicutes/Clostridia/Eubacteriales/Clostridiaceae",
          "Firmicutes/Bacilli/Bacillales/Bacillaceae",
          "Firmicutes/Clostridia/Eubacteriales/Clostridiaceae",
          "Firmicutes/Bacilli/Bacillales/Bacillaceae",
          "Firmicutes/Bacilli/Bacillales/Bacillaceae",
          "Firmicutes/Negativicutes/Veillonellales/Veillonellaceae",
          "Firmicutes/Bacilli/Bacillales/Bacillaceae",
          "Firmicutes/Bacilli/Bacillales/Bacillaceae",
          "Firmicutes/Bacilli/Lactobacillales/Streptococcaceae",
          "Firmicutes/Bacilli/Bacillales/Paenibacillaceae",
          "Firmicutes/Bacilli/Bacillales/Bacillaceae",
          "Firmicutes/Bacilli/Bacillales/Bacillaceae",
          "Firmicutes/Bacilli/Bacillales",
          "Firmicutes/Bacilli/Bacillales/Sporolactobacillaceae",
          "Firmicutes/Bacilli/Bacillales/Bacillaceae",
          "Firmicutes/Bacilli/Bacillales/Bacillaceae",
          "Firmicutes/Bacilli/Bacillales",
          "Firmicutes/Negativicutes/Selenomonadales",
          "Firmicutes/Bacilli/Bacillales",
          "Firmicutes/Bacilli/Bacillales/Bacillaceae",
          "Firmicutes/Bacilli/Bacillales/Planococcaceae",
          "Firmicutes/Clostridia/Eubacteriales/Clostridiaceae",
          "Firmicutes/Clostridia/Eubacteriales/Clostridiaceae",
          "Firmicutes/Bacilli/Bacillales/Bacillaceae",
          "Firmicutes/Erysipelotrichia/Erysipelotrichales/Erysipelotrichaceae",
          "Firmicutes/Bacilli/Bacillales/Bacillaceae",
          "Firmicutes/Bacilli/Bacillales/Bacillaceae",
          "Firmicutes/Bacilli/Lactobacillales/Streptococcaceae",
          "Firmicutes/Clostridia/Eubacteriales/Oscillospiraceae",
          "Firmicutes/Bacilli/Lactobacillales/Streptococcaceae",
          "Firmicutes/Bacilli/Bacillales/Bacillaceae",
          "Firmicutes/Bacilli/Bacillales/Bacillaceae",
          "Firmicutes/Clostridia/Eubacteriales/Clostridiaceae",
          "Firmicutes/Clostridia/Eubacteriales/Clostridiaceae",
          "Firmicutes/Clostridia/Eubacteriales/Clostridiaceae",
          "Firmicutes/Bacilli/Lactobacillales/Lactobacillaceae",
          "Firmicutes/Clostridia/Eubacteriales/Lachnospiraceae",
          "Firmicutes/Tissierellia/Tissierellia incertae sedis/Sedimentibacter",
          "Firmicutes/Bacilli/Bacillales/Bacillaceae",
          "Firmicutes/Bacilli/Bacillales/Bacillaceae",
          "Firmicutes/Clostridia/Eubacteriales/Eubacteriales incertae sedis",
          "Firmicutes/Negativicutes/Selenomonadales/Selenomonadaceae",
          "Firmicutes/Bacilli/Lactobacillales/Enterococcaceae",
          "Firmicutes/Bacilli/Bacillales/Bacillaceae",
          "Firmicutes/Clostridia/Eubacteriales/Oscillospiraceae",
          "Firmicutes/Bacilli/Bacillales/Bacillaceae",
          "Firmicutes/Negativicutes/Selenomonadales/Selenomonadaceae",
          "Firmicutes/Clostridia/Eubacteriales/Lachnospiraceae",
          "Firmicutes/Erysipelotrichia/Erysipelotrichales/Erysipelotrichaceae",
          "Firmicutes/Bacilli/Bacillales/Listeriaceae",
          "Firmicutes/Bacilli/Lactobacillales/Streptococcaceae",
          "Firmicutes/Clostridia/Eubacteriales/Lachnospiraceae",
          "Firmicutes/Bacilli/Bacillales/Listeriaceae",
          "Firmicutes/Bacilli/Bacillales/Listeriaceae",
          "Firmicutes/Bacilli/Bacillales/Listeriaceae",
          "Firmicutes/Bacilli/Bacillales/Listeriaceae",
          "Firmicutes/Bacilli/Bacillales/Paenibacillaceae",
          "Firmicutes/Clostridia/Eubacteriales/Clostridiaceae",
          "Firmicutes/Erysipelotrichia/Erysipelotrichales/Erysipelotrichaceae",
          "Firmicutes/Bacilli/Bacillales/Listeriaceae",
          "Firmicutes/Bacilli/Bacillales/Bacillales incertae sedis",
          "Firmicutes/Bacilli/Bacillales/Bacillales incertae sedis",
          "Firmicutes/Clostridia/Eubacteriales/Eubacteriaceae",
          "Firmicutes/Bacilli/Lactobacillales/Streptococcaceae",
          "Firmicutes/Bacilli/Bacillales/Bacillaceae",
          "Firmicutes/Clostridia/Eubacteriales/Lachnospiraceae",
          "Firmicutes/Bacilli/Lactobacillales/Streptococcaceae",
          "Firmicutes/Bacilli/Lactobacillales/Streptococcaceae",
          "Firmicutes/Bacilli/Lactobacillales/Streptococcaceae",
          "Firmicutes/Bacilli/Lactobacillales/Streptococcaceae",
          "Firmicutes/Bacilli/Lactobacillales",
          "Firmicutes/Clostridia/Eubacteriales",
          "Firmicutes/Bacilli/Lactobacillales/Lactobacillaceae",
          "Firmicutes/Bacilli/Bacillales/Bacillaceae",
          "Firmicutes/Bacilli/Lactobacillales/Streptococcaceae",
          "Firmicutes/Bacilli/Lactobacillales/Streptococcaceae",
          "Firmicutes/Bacilli/Lactobacillales/Streptococcaceae",
          "Firmicutes/Bacilli/Bacillales/Bacillaceae",
          "Firmicutes/Clostridia/Eubacteriales/Clostridiaceae",
          "Firmicutes/Bacilli/Bacillales/Bacillaceae",
          "Firmicutes/Bacilli/Bacillales/Bacillaceae",
          "Firmicutes/Bacilli/Bacillales/Bacillaceae",
          "Firmicutes/Bacilli/Bacillales/Bacillaceae",
          "Firmicutes/Bacilli/Bacillales/Bacillaceae",
          "Firmicutes/Bacilli/Bacillales/Bacillaceae",
          "Firmicutes/Bacilli/Bacillales/Bacillaceae",
          "Firmicutes/Bacilli/Lactobacillales/Streptococcaceae",
          "Firmicutes/Bacilli/Bacillales/Bacillaceae",
          "Firmicutes/Clostridia/Eubacteriales/Clostridiaceae",
          "Firmicutes/Bacilli/Lactobacillales/Enterococcaceae",
          "Firmicutes/Bacilli/Bacillales/Bacillaceae",
          "Firmicutes/Clostridia/Eubacteriales/Lachnospiraceae",
          "Firmicutes/Bacilli/Bacillales/Bacillaceae",
          "Firmicutes/Bacilli/Bacillales/Bacillaceae",
          "Firmicutes/Bacilli/Bacillales/Bacillaceae",
          "Firmicutes/Bacilli/Bacillales/Bacillaceae",
          "Firmicutes/Bacilli/Bacillales/Bacillaceae",
          "Firmicutes/Bacilli/Bacillales/Listeriaceae",
          "Firmicutes/Bacilli/Bacillales/Bacillaceae",
          "Firmicutes/Bacilli/Lactobacillales/Streptococcaceae",
          "Firmicutes/Bacilli/Bacillales/Bacillaceae",
          "Firmicutes/Bacilli/Lactobacillales/Streptococcaceae",
          "Firmicutes/Bacilli/Bacillales/Bacillaceae",
          "Firmicutes/Bacilli/Bacillales/Bacillaceae",
          "Firmicutes/Bacilli/Bacillales/Bacillaceae",
          "Firmicutes/Bacilli/Bacillales/Bacillaceae",
          "Firmicutes/Bacilli/Bacillales/Bacillaceae",
          "Firmicutes/Bacilli/Lactobacillales/Streptococcaceae",
          "Firmicutes/Bacilli/Lactobacillales/Streptococcaceae",
          "Firmicutes/Bacilli/Bacillales/Listeriaceae",
          "Firmicutes/Bacilli/Lactobacillales/Streptococcaceae",
          "Firmicutes/Bacilli/Bacillales/Planococcaceae",
          "Firmicutes/Erysipelotrichia/Erysipelotrichales/Erysipelotrichaceae",
          "Firmicutes/Bacilli/Lactobacillales/Streptococcaceae",
          "Firmicutes/Bacilli/Bacillales/Paenibacillaceae",
          "Firmicutes/Clostridia/Eubacteriales/Clostridiaceae",
          "Firmicutes/Bacilli/Lactobacillales/Lactobacillaceae",
          "Firmicutes/Bacilli/Lactobacillales/Lactobacillaceae",
          "Firmicutes/Bacilli/Bacillales/Bacillaceae",
          "Firmicutes/Bacilli/Bacillales/Bacillaceae",
          "Firmicutes/Bacilli/Bacillales/Paenibacillaceae",
          "Firmicutes/Bacilli/Bacillales/Listeriaceae",
          "Firmicutes/Bacilli/Bacillales/Listeriaceae",
          "Firmicutes/Bacilli/Bacillales/Bacillaceae",
          "Firmicutes/Bacilli/Bacillales/Bacillaceae",
          "Firmicutes/Bacilli/Bacillales/Bacillaceae",
          "Firmicutes/Bacilli/Bacillales/Bacillaceae",
          "Firmicutes/Bacilli/Bacillales/Bacillaceae",
          "Firmicutes/Bacilli/Bacillales/Bacillaceae",
          "Firmicutes/Bacilli/Bacillales/Listeriaceae",
          "Firmicutes/Bacilli/Bacillales/Bacillaceae",
          "Firmicutes/Bacilli/Bacillales/Listeriaceae",
          "Firmicutes/Bacilli/Bacillales/Listeriaceae",
          "Firmicutes/Bacilli/Lactobacillales/Streptococcaceae",
          "Firmicutes/Bacilli/Lactobacillales/Streptococcaceae",
          "Firmicutes/Bacilli/Bacillales/Bacillaceae",
          "Firmicutes/Bacilli/Lactobacillales/Enterococcaceae",
          "Firmicutes/Bacilli/Bacillales/Bacillaceae",
          "Firmicutes/Clostridia/Eubacteriales/Lachnospiraceae",
          "Firmicutes/Clostridia/Eubacteriales/Lachnospiraceae",
          "Firmicutes/Clostridia/Eubacteriales/Lachnospiraceae",
          "Firmicutes/Clostridia/Eubacteriales/Lachnospiraceae",
          "Firmicutes/Clostridia/Eubacteriales/Lachnospiraceae",
          "Firmicutes/Clostridia/Eubacteriales/Lachnospiraceae",
          "Firmicutes/Clostridia/Eubacteriales/Lachnospiraceae",
          "Firmicutes/Bacilli/Bacillales/Bacillaceae",
          "Firmicutes/Clostridia/Eubacteriales/Lachnospiraceae",
          "Firmicutes/Clostridia/Eubacteriales/Lachnospiraceae",
          "Firmicutes/Bacilli/Lactobacillales/Lactobacillaceae",
          "Firmicutes/Bacilli/Lactobacillales/Lactobacillaceae",
          "Firmicutes/Bacilli/Lactobacillales",
          "Firmicutes/Bacilli/Lactobacillales/Lactobacillaceae",
          "Firmicutes/Clostridia/Eubacteriales/Lachnospiraceae",
          "Firmicutes/Bacilli/Lactobacillales/Lactobacillaceae",
          "Firmicutes/Negativicutes/Veillonellales",
          "Firmicutes/Bacilli",
          "Firmicutes/Erysipelotrichia",
          "Firmicutes/Clostridia",
          "Firmicutes/Bacilli",
          "Firmicutes/Negativicutes",
          "Firmicutes/Clostridia",
          "Firmicutes/Tissierellia",
          "Firmicutes/Tissierellia",
          "Firmicutes/Negativicutes",
          "Firmicutes",
          "Firmicutes",
          "Firmicutes",
          "Firmicutes",
          "Firmicutes/Tissierellia/Tissierellales",
          "Firmicutes/Clostridia/Eubacteriales/Oscillospiraceae",
          "Firmicutes/Bacilli/Bacillales/Paenibacillaceae",
          "Firmicutes/Bacilli/Bacillales/Bacillaceae",
          "Firmicutes/Bacilli/Bacillales/Bacillaceae",
          "Firmicutes/Bacilli/Lactobacillales/Carnobacteriaceae",
          "Firmicutes/Bacilli/Lactobacillales/Carnobacteriaceae",
          "Firmicutes/Bacilli/Bacillales/Bacillaceae",
          "Firmicutes/Erysipelotrichia/Erysipelotrichales/Erysipelotrichaceae",
          "Firmicutes/Erysipelotrichia/Erysipelotrichales/Erysipelotrichaceae",
          "Firmicutes/Bacilli/Bacillales/Bacillaceae",
          "Firmicutes/Bacilli/Bacillales/Bacillaceae",
          "Firmicutes/Bacilli/Bacillales/Bacillaceae",
          "Firmicutes/Negativicutes/Veillonellales/Veillonellaceae",
          "Firmicutes/Bacilli/Bacillales/Bacillaceae",
          "Firmicutes/Bacilli/Bacillales/Bacillaceae",
          "Firmicutes/Bacilli/Lactobacillales/Lactobacillaceae",
          "Firmicutes/Bacilli/Lactobacillales/Lactobacillaceae",
          "Firmicutes/Bacilli/Bacillales/Bacillaceae",
          "Firmicutes/Bacilli/Bacillales/Bacillaceae",
          "Firmicutes/Bacilli/Bacillales/Bacillaceae",
          "Firmicutes/Bacilli/Bacillales/Bacillaceae",
          "Firmicutes/Bacilli/Bacillales/Bacillaceae",
          "Firmicutes/Bacilli/Bacillales/Bacillaceae",
          "Firmicutes/Bacilli/Bacillales/Bacillaceae",
          "Firmicutes/Clostridia/Eubacteriales/Lachnospiraceae",
          "Firmicutes/Bacilli/Bacillales/Bacillaceae",
          "Firmicutes/Bacilli/Bacillales/Bacillaceae",
          "Firmicutes/Bacilli/Lactobacillales/Streptococcaceae",
          "Firmicutes/Bacilli/Bacillales/Bacillaceae",
          "Firmicutes/Bacilli/Bacillales/Bacillaceae",
          "Firmicutes/Clostridia/Eubacteriales/Lachnospiraceae",
          "Firmicutes/Clostridia/Eubacteriales/Lachnospiraceae",
          "Firmicutes/Clostridia/Eubacteriales/Lachnospiraceae",
          "Firmicutes/Bacilli/Bacillales/Bacillaceae",
          "Firmicutes/Bacilli/Bacillales/Bacillaceae",
          "Firmicutes/Bacilli/Bacillales/Bacillaceae",
          "Firmicutes/Erysipelotrichia/Erysipelotrichales/Erysipelotrichaceae",
          "Firmicutes/Bacilli/Bacillales/Bacillaceae",
          "Firmicutes/Bacilli/Bacillales/Paenibacillaceae",
          "Firmicutes/Bacilli/Bacillales/Paenibacillaceae",
          "Firmicutes/Bacilli/Bacillales/Paenibacillaceae",
          "Firmicutes/Bacilli/Bacillales/Paenibacillaceae",
          "Firmicutes/Bacilli/Bacillales/Paenibacillaceae",
          "Firmicutes/Bacilli/Bacillales/Paenibacillaceae",
          "Firmicutes/Bacilli/Bacillales/Paenibacillaceae",
          "Firmicutes/Bacilli/Bacillales/Paenibacillaceae",
          "Firmicutes/Clostridia/Eubacteriales/Clostridiaceae",
          "Firmicutes/Clostridia/Eubacteriales/Clostridiaceae",
          "Firmicutes/Clostridia/Eubacteriales/Clostridiaceae",
          "Firmicutes/Bacilli/Bacillales/Paenibacillaceae",
          "Firmicutes/Bacilli/Bacillales/Paenibacillaceae",
          "Firmicutes/Bacilli/Bacillales/Paenibacillaceae",
          "Firmicutes/Bacilli/Bacillales/Paenibacillaceae",
          "Firmicutes/Bacilli/Bacillales/Paenibacillaceae",
          "Firmicutes/Bacilli/Bacillales/Paenibacillaceae",
          "Firmicutes/Bacilli/Bacillales/Paenibacillaceae",
          "Firmicutes/Clostridia/Eubacteriales/Clostridiaceae",
          "Firmicutes/Erysipelotrichia/Erysipelotrichales/Coprobacillaceae",
          "Firmicutes/Clostridia/Eubacteriales/Clostridiaceae",
          "Firmicutes/Erysipelotrichia/Erysipelotrichales/Erysipelotrichaceae",
          "Firmicutes/Clostridia/Eubacteriales/Lachnospiraceae",
          "Firmicutes/Bacilli/Bacillales/Paenibacillaceae",
          "Firmicutes/Clostridia/Eubacteriales/Clostridiaceae",
          "Firmicutes/Clostridia/Eubacteriales/Clostridiaceae",
          "Firmicutes/Clostridia/Eubacteriales/Clostridiaceae",
          "Firmicutes/Bacilli/Bacillales/Paenibacillaceae",
          "Firmicutes/Bacilli/Bacillales/Paenibacillaceae",
          "Firmicutes/Clostridia/Eubacteriales/Clostridiaceae",
          "Firmicutes/Clostridia/Eubacteriales/Clostridiaceae",
          "Firmicutes/Clostridia/Eubacteriales/Clostridiaceae",
          "Firmicutes/Bacilli/Bacillales/Paenibacillaceae",
          "Firmicutes/Clostridia/Eubacteriales/Lachnospiraceae",
          "Firmicutes/Clostridia/Eubacteriales/Lachnospiraceae",
          "Firmicutes/Bacilli/Bacillales/Paenibacillaceae",
          "Firmicutes/Bacilli/Bacillales/Paenibacillaceae",
          "Firmicutes/Bacilli/Lactobacillales/Enterococcaceae",
          "Firmicutes/Bacilli/Lactobacillales/Enterococcaceae",
          "Firmicutes/Bacilli/Bacillales/Bacillaceae",
          "Firmicutes/Bacilli/Bacillales/Bacillaceae",
          "Firmicutes/Bacilli/Lactobacillales/Enterococcaceae",
          "Firmicutes/Bacilli/Bacillales/Bacillaceae",
          "Firmicutes/Clostridia/Eubacteriales/Lachnospiraceae",
          "Firmicutes/Bacilli/Bacillales/Bacillaceae",
          "Firmicutes/Bacilli/Bacillales/Planococcaceae",
          "Firmicutes/Bacilli/Bacillales/Bacillaceae",
          "Firmicutes/Bacilli/Bacillales/Bacillaceae",
          "Firmicutes/Bacilli/Bacillales/Bacillaceae",
          "Firmicutes/Bacilli/Bacillales/Bacillaceae",
          "Firmicutes/Clostridia/Eubacteriales/Desulfotomaculaceae",
          "Firmicutes/Negativicutes/Selenomonadales/Sporomusaceae",
          "Firmicutes/Bacilli/Lactobacillales/Enterococcaceae",
          "Firmicutes/Erysipelotrichia/Erysipelotrichales/Erysipelotrichaceae",
          "Firmicutes/Bacilli/Lactobacillales/Enterococcaceae",
          "Firmicutes/Bacilli/Bacillales/Paenibacillaceae",
          "Firmicutes/Bacilli/Bacillales/Paenibacillaceae",
          "Firmicutes/Bacilli/Bacillales/Paenibacillaceae",
          "Firmicutes/Bacilli/Lactobacillales/Enterococcaceae",
          "Firmicutes/Bacilli/Bacillales/Paenibacillaceae",
          "Firmicutes/Bacilli/Bacillales/Paenibacillaceae",
          "Firmicutes/Bacilli/Bacillales/Paenibacillaceae",
          "Firmicutes/Bacilli/Bacillales/Paenibacillaceae",
          "Firmicutes/Bacilli/Bacillales/Paenibacillaceae",
          "Firmicutes/Bacilli/Bacillales/Paenibacillaceae",
          "Firmicutes/Bacilli/Bacillales/Paenibacillaceae",
          "Firmicutes/Bacilli/Bacillales/Paenibacillaceae",
          "Firmicutes/Bacilli/Bacillales/Paenibacillaceae",
          "Firmicutes/Bacilli/Bacillales/Paenibacillaceae",
          "Firmicutes/Bacilli/Bacillales/Paenibacillaceae",
          "Firmicutes/Bacilli/Bacillales/Paenibacillaceae",
          "Firmicutes/Bacilli/Bacillales/Paenibacillaceae",
          "Firmicutes/Bacilli/Bacillales/Bacillaceae",
          "Firmicutes/Erysipelotrichia/Erysipelotrichales/Erysipelotrichaceae",
          "Firmicutes/Bacilli/Bacillales/Staphylococcaceae",
          "Firmicutes/Clostridia/Eubacteriales/Lachnospiraceae",
          "Firmicutes/Clostridia/Eubacteriales/Lachnospiraceae",
          "Firmicutes/Clostridia/Eubacteriales/Lachnospiraceae",
          "Firmicutes/Clostridia/Eubacteriales/Lachnospiraceae",
          "Firmicutes/Bacilli/Lactobacillales/Streptococcaceae",
          "Firmicutes/Bacilli/Lactobacillales/Streptococcaceae",
          "Firmicutes/Bacilli/Lactobacillales/Lactobacillaceae",
          "Firmicutes/Bacilli/Bacillales/Paenibacillaceae",
          "Firmicutes/Clostridia/Eubacteriales/Lachnospiraceae",
          "Firmicutes/Clostridia/Eubacteriales/Lachnospiraceae",
          "Firmicutes/Clostridia/Eubacteriales/Lachnospiraceae",
          "Firmicutes/Clostridia/Thermoanaerobacterales/Thermoanaerobacterales Family III. Incertae Sedis",
          "Firmicutes/Clostridia/Thermoanaerobacterales/Thermoanaerobacterales Family III. Incertae Sedis",
          "Firmicutes/Clostridia/Thermoanaerobacterales/Thermoanaerobacterales Family III. Incertae Sedis",
          "Firmicutes/Clostridia/Thermoanaerobacterales/Thermoanaerobacterales Family III. Incertae Sedis",
          "Firmicutes/Clostridia/Eubacteriales/Lachnospiraceae",
          "Firmicutes/Clostridia/Thermoanaerobacterales/Thermoanaerobacterales Family III. Incertae Sedis",
          "Firmicutes/Clostridia/Eubacteriales/Lachnospiraceae",
          "Firmicutes/Clostridia/Eubacteriales/Lachnospiraceae",
          "Firmicutes/Erysipelotrichia/Erysipelotrichales/Erysipelotrichaceae",
          "Firmicutes/Erysipelotrichia/Erysipelotrichales/Erysipelotrichaceae",
          "Firmicutes/Bacilli/Bacillales/Bacillaceae",
          "Firmicutes/Bacilli/Bacillales/Bacillaceae",
          "Firmicutes/Bacilli/Bacillales/Paenibacillaceae",
          "Firmicutes/Bacilli/Bacillales/Bacillaceae",
          "Firmicutes/Bacilli/Bacillales/Bacillaceae",
          "Firmicutes/Bacilli/Bacillales/Bacillaceae",
          "Firmicutes/Bacilli/Bacillales/Bacillaceae",
          "Firmicutes/Bacilli/Bacillales/Bacillaceae",
          "Firmicutes/Bacilli/Bacillales/Paenibacillaceae",
          "Firmicutes/Bacilli/Bacillales/Bacillaceae",
          "Firmicutes/Bacilli/Bacillales/Bacillaceae",
          "Firmicutes/Bacilli/Bacillales/Planococcaceae",
          "Firmicutes/Bacilli/Bacillales/Paenibacillaceae",
          "Firmicutes/Clostridia/Eubacteriales/Lachnospiraceae",
          "Firmicutes/Bacilli/Bacillales/Planococcaceae",
          "Firmicutes/Clostridia/Thermoanaerobacterales/Thermoanaerobacterales Family III. Incertae Sedis",
          "Firmicutes/Clostridia/Thermoanaerobacterales/Thermoanaerobacterales Family III. Incertae Sedis",
          "Firmicutes/Clostridia/Eubacteriales/Clostridiaceae",
          "Firmicutes/Clostridia/Eubacteriales/Clostridiaceae",
          "Firmicutes/Bacilli/Bacillales/Staphylococcaceae",
          "Firmicutes/Bacilli/Bacillales/Staphylococcaceae",
          "Firmicutes/Bacilli/Bacillales/Staphylococcaceae",
          "Firmicutes/Bacilli/Bacillales/Staphylococcaceae",
          "Firmicutes/Bacilli/Bacillales/Staphylococcaceae",
          "Firmicutes/Bacilli/Bacillales/Staphylococcaceae",
          "Firmicutes/Bacilli/Bacillales/Staphylococcaceae",
          "Firmicutes/Bacilli/Bacillales/Staphylococcaceae",
          "Firmicutes/Bacilli/Bacillales/Staphylococcaceae",
          "Firmicutes/Bacilli/Bacillales/Staphylococcaceae",
          "Firmicutes/Bacilli/Bacillales/Staphylococcaceae",
          "Firmicutes/Bacilli/Bacillales/Staphylococcaceae",
          "Firmicutes/Bacilli/Bacillales/Staphylococcaceae",
          "Firmicutes/Clostridia/Eubacteriales/Clostridiaceae",
          "Firmicutes/Clostridia/Thermoanaerobacterales/Thermoanaerobacterales Family III. Incertae Sedis",
          "Firmicutes/Erysipelotrichia/Erysipelotrichales/Erysipelotrichaceae",
          "Firmicutes/Clostridia/Eubacteriales/Clostridiaceae",
          "Firmicutes/Clostridia/Thermoanaerobacterales/Thermoanaerobacterales Family III. Incertae Sedis",
          "Firmicutes/Bacilli/Bacillales/Bacillaceae",
          "Firmicutes/Clostridia/Eubacteriales/Clostridiaceae",
          "Firmicutes/Tissierellia/Tissierellales/Thermohalobacteraceae",
          "Firmicutes/Clostridia/Eubacteriales/Lachnospiraceae",
          "Firmicutes/Clostridia/Eubacteriales/Lachnospiraceae",
          "Firmicutes/Clostridia/Eubacteriales/Lachnospiraceae",
          "Firmicutes/Clostridia/Eubacteriales/Lachnospiraceae",
          "Firmicutes/Clostridia/Eubacteriales/Eubacteriales incertae sedis",
          "Firmicutes/Bacilli/Bacillales/Paenibacillaceae",
          "Firmicutes/Bacilli/Bacillales/Paenibacillaceae",
          "Firmicutes/Bacilli/Lactobacillales/Carnobacteriaceae",
          "Firmicutes/Bacilli/Lactobacillales/Enterococcaceae",
          "Firmicutes/Erysipelotrichia/Erysipelotrichales/Erysipelotrichaceae",
          "Firmicutes/Erysipelotrichia/Erysipelotrichales/Erysipelotrichaceae",
          "",
          "Firmicutes/Bacilli/Bacillales/Bacillaceae"
         ],
         "type": "sunburst",
         "values": [
          1585,
          3115,
          271,
          140,
          1542,
          1231,
          450,
          2721,
          2356,
          69,
          68,
          2225,
          493,
          901,
          45,
          925,
          836,
          2384,
          4035,
          492,
          1646,
          1143,
          1658,
          2529,
          1269,
          1667,
          2901,
          1815,
          1674,
          1595,
          467,
          441,
          6786,
          430,
          2018,
          5297,
          1034,
          1032,
          2525,
          2292,
          2302,
          5136,
          7310,
          1271,
          24228,
          8661,
          1744,
          849,
          2378,
          468,
          1813,
          348,
          1823,
          7355,
          850,
          13732,
          2374,
          2253,
          6753,
          1591,
          10960,
          1127,
          1028,
          31551,
          1765,
          1270,
          1102,
          133,
          2863,
          6423,
          87,
          4475,
          3533,
          14183,
          3943,
          1977,
          1525,
          1950,
          1988,
          1993,
          1990,
          5255,
          3967,
          1979,
          1981,
          2092,
          1976,
          265,
          2313,
          538,
          4785,
          650,
          1712,
          1933,
          3431,
          1252,
          163,
          2283,
          62,
          2223,
          2639,
          1329,
          1038,
          2285,
          634,
          1227,
          502,
          4168,
          2377,
          13539,
          1780,
          2365,
          2174,
          673,
          9442,
          2354,
          2355,
          2083,
          2173,
          174,
          149,
          1461,
          4539,
          4473,
          6830,
          379,
          879,
          414,
          765,
          3663,
          4215,
          5583,
          416,
          1121,
          9370,
          5401,
          2340,
          635,
          1259,
          1033,
          1155,
          1156,
          6840,
          1058,
          1828,
          835,
          1415,
          1037,
          1755,
          1031,
          2294,
          1258,
          1153,
          181,
          2345,
          11556,
          17952,
          1861,
          1068,
          573,
          936,
          2165,
          5503,
          23,
          1125,
          860,
          376,
          653,
          668,
          657,
          1317,
          662,
          1327,
          3,
          3331,
          2789,
          4725,
          1991,
          7606,
          8342,
          1215,
          1027,
          4051,
          4371,
          1538,
          2219,
          14754,
          3651,
          2431,
          5613,
          1923,
          3969,
          15,
          1396,
          4485,
          846,
          6570,
          2815,
          5039,
          1482,
          3803,
          1350,
          3043,
          400,
          3505,
          1473,
          788,
          1571,
          2445,
          4380,
          1717,
          1830,
          2061,
          1130,
          269,
          469,
          213,
          720287,
          1550,
          24446,
          9286,
          22434,
          152932,
          2507,
          2022,
          64582,
          114328,
          62652,
          1267,
          1645,
          5950,
          986,
          3461,
          2016,
          2217,
          4097,
          6156,
          2291,
          304,
          12405,
          2796,
          11205,
          4657,
          2209,
          300,
          2246,
          302,
          299,
          1751,
          4161,
          1397,
          2082,
          2040,
          3380,
          1339,
          4321,
          47081,
          2146,
          6282,
          2218,
          4695,
          4223,
          2180,
          14885,
          17002,
          2995,
          581,
          1827,
          5189,
          2159,
          6546,
          2107,
          6809,
          13011,
          6135,
          6090,
          11164,
          96,
          2866,
          1334,
          2106,
          2158,
          44599,
          1061,
          2492,
          2021,
          1223,
          2095,
          4229,
          24991,
          72,
          4715,
          15939,
          2184,
          476,
          8413,
          10675,
          4524,
          2157,
          307,
          4277,
          2118,
          2123,
          4243,
          2120,
          1997,
          98,
          3666,
          10760,
          2195,
          2119,
          6106,
          2727,
          54505,
          15276,
          1428,
          4027,
          4311,
          2124,
          967,
          17028,
          4233,
          1344,
          3,
          3110,
          3197,
          54,
          270,
          633,
          630,
          431,
          2297,
          6550,
          1686,
          1043,
          6918,
          4623,
          143,
          8769,
          147,
          1137,
          435,
          5247,
          4771,
          26,
          2126,
          1194,
          3605,
          1343,
          2003,
          1858,
          1571,
          924,
          1051,
          2094,
          14,
          1346,
          972,
          2233,
          2267,
          1824,
          8222,
          713,
          2296,
          8210,
          10996,
          267,
          4495,
          1447,
          631,
          1253,
          2802,
          2777,
          7002,
          9699,
          217045,
          503,
          2071,
          509,
          835,
          2023,
          8109,
          1415,
          6743,
          1260,
          1960,
          4157,
          510,
          2353,
          3527,
          8153,
          2449,
          3236,
          2178,
          2027,
          1627,
          555,
          9885,
          2187,
          1578,
          21381,
          1771,
          1935,
          329,
          5400,
          339,
          5641,
          905,
          735,
          56617,
          1471,
          284,
          3754,
          1890,
          2277,
          1762,
          6822,
          6645,
          2276,
          1773,
          3843,
          2278,
          22874,
          422,
          5637,
          1290,
          1029,
          4745,
          1995,
          319,
          1140,
          486,
          5274,
          691,
          6222,
          3397,
          3941,
          2247,
          1332,
          2886,
          129,
          1986,
          6849,
          46684,
          2023,
          2308,
          1030,
          3407,
          1696,
          968,
          1768,
          2376,
          308,
          515,
          1891,
          2295,
          4730,
          2760,
          2100,
          1152,
          1059,
          1255,
          72,
          497,
          18380,
          283,
          5926,
          2012,
          2235,
          1154,
          2179,
          1448,
          559,
          2264,
          2459,
          6177,
          16,
          1113,
          1590,
          501,
          1419,
          2301,
          2298,
          2194,
          2024,
          438,
          4021,
          16747,
          1515,
          1020,
          3976,
          6881,
          987,
          3474,
          6190,
          279,
          3111,
          5032,
          1703,
          3567,
          2177,
          1400,
          4017,
          1423,
          1682,
          2234,
          2090,
          369,
          1738,
          1545,
          449,
          447,
          1615,
          3705,
          99,
          1542,
          4071,
          3680,
          20292,
          6061,
          415,
          2244,
          3059,
          1503,
          35,
          1735,
          1781,
          622,
          2106,
          729,
          4153,
          1816,
          2317,
          2318,
          1437,
          85,
          2314,
          6684,
          3463,
          1018,
          1523,
          3269,
          491,
          1136,
          2565,
          97840,
          1465,
          4077,
          1747,
          4636,
          459,
          50695,
          2736,
          116,
          2028,
          6607,
          1932,
          1251,
          7680,
          6189,
          1541,
          1268,
          1539,
          217,
          1931,
          14769,
          3429,
          1874,
          2939,
          2040,
          1960,
          4646,
          1685,
          3790,
          1452,
          4387,
          2199,
          2300,
          127,
          1453,
          53,
          558,
          141,
          2346,
          1086,
          6974,
          1785,
          2009,
          1147,
          692,
          1129,
          1345,
          90,
          1021,
          529,
          2315,
          281,
          2851,
          2147,
          733,
          732,
          1062,
          351,
          138909,
          568,
          40,
          891,
          197,
          7053,
          2398,
          9331,
          1838,
          760,
          4664,
          700,
          2286,
          926,
          1785,
          2131,
          14253,
          7911,
          959,
          2769,
          1511,
          1713,
          2167,
          443,
          2047,
          3711,
          4039,
          5331,
          1516,
          2172,
          2877,
          3465,
          17601,
          2867,
          4845,
          2072,
          1887,
          1340,
          2397,
          1897,
          717,
          1146,
          1714,
          345,
          375,
          1349,
          148,
          283,
          1144,
          1857,
          4177,
          2311,
          1348,
          1846,
          201,
          3629,
          1501,
          4263,
          2383,
          11945,
          4761,
          2394,
          209,
          2220,
          349,
          439,
          1303,
          1683,
          2176,
          4094,
          461,
          451,
          911,
          411,
          437,
          2382,
          4157,
          2004,
          5894,
          414,
          750139,
          4640,
          511,
          1019,
          10754,
          998607,
          60014,
          475813,
          981537,
          4616,
          20292,
          2057,
          1960,
          10754,
          1980144,
          496105,
          60014,
          15370,
          34,
          1077,
          55,
          238,
          2363,
          2080,
          7595,
          4531,
          3516,
          2034,
          1338,
          87,
          6306,
          973,
          981,
          8980,
          1502,
          1868,
          8837,
          2213,
          2203,
          885,
          1772,
          66373,
          473,
          2338,
          13942,
          13,
          885,
          2198,
          6615,
          1760,
          47344,
          1250,
          1616,
          2319,
          2007,
          632,
          239,
          237,
          1015,
          463,
          706,
          696,
          1415,
          946,
          907,
          2643,
          1695,
          1722,
          241,
          1033,
          520,
          1427,
          2293,
          366,
          2395,
          1606,
          1164,
          1734,
          3485,
          1804,
          1805,
          4607,
          3159,
          2226,
          1145,
          1820,
          1352,
          2337,
          16737,
          1684,
          1069,
          1592,
          4761,
          1731,
          156,
          1321,
          221,
          117,
          1645,
          694,
          3119,
          42,
          1017,
          288,
          875,
          2423,
          2212,
          568,
          459,
          319,
          4325,
          328,
          825,
          4297,
          1718,
          1331,
          56,
          3731,
          2375,
          1775,
          1644,
          289,
          1055,
          132,
          41,
          318,
          1740,
          44,
          1414,
          389,
          2106,
          926,
          1264,
          1261,
          2299,
          1567,
          6126,
          1209,
          77,
          1139,
          1092,
          931,
          444,
          2109,
          2164,
          4077,
          2110,
          1266,
          2008,
          1256,
          2081,
          2098,
          2365,
          1508,
          329,
          2222,
          2049,
          2746,
          1379,
          2245,
          9104,
          2349,
          1520,
          955,
          2231,
          692,
          1257,
          1811,
          2104,
          2108,
          549,
          1613,
          63,
          1829,
          89,
          94,
          2236,
          91,
          92,
          93,
          1663,
          88,
          6111,
          1664,
          851,
          103,
          1597,
          2369,
          52,
          2015,
          1845,
          489,
          34,
          1980,
          1982,
          1985,
          3979,
          1968,
          1862,
          1403,
          150,
          2224,
          1685,
          2175,
          2555650,
          2037
         ]
        }
       ],
       "layout": {
        "legend": {
         "tracegroupgap": 0
        },
        "margin": {
         "t": 60
        },
        "template": {
         "data": {
          "bar": [
           {
            "error_x": {
             "color": "#2a3f5f"
            },
            "error_y": {
             "color": "#2a3f5f"
            },
            "marker": {
             "line": {
              "color": "#E5ECF6",
              "width": 0.5
             },
             "pattern": {
              "fillmode": "overlay",
              "size": 10,
              "solidity": 0.2
             }
            },
            "type": "bar"
           }
          ],
          "barpolar": [
           {
            "marker": {
             "line": {
              "color": "#E5ECF6",
              "width": 0.5
             },
             "pattern": {
              "fillmode": "overlay",
              "size": 10,
              "solidity": 0.2
             }
            },
            "type": "barpolar"
           }
          ],
          "carpet": [
           {
            "aaxis": {
             "endlinecolor": "#2a3f5f",
             "gridcolor": "white",
             "linecolor": "white",
             "minorgridcolor": "white",
             "startlinecolor": "#2a3f5f"
            },
            "baxis": {
             "endlinecolor": "#2a3f5f",
             "gridcolor": "white",
             "linecolor": "white",
             "minorgridcolor": "white",
             "startlinecolor": "#2a3f5f"
            },
            "type": "carpet"
           }
          ],
          "choropleth": [
           {
            "colorbar": {
             "outlinewidth": 0,
             "ticks": ""
            },
            "type": "choropleth"
           }
          ],
          "contour": [
           {
            "colorbar": {
             "outlinewidth": 0,
             "ticks": ""
            },
            "colorscale": [
             [
              0,
              "#0d0887"
             ],
             [
              0.1111111111111111,
              "#46039f"
             ],
             [
              0.2222222222222222,
              "#7201a8"
             ],
             [
              0.3333333333333333,
              "#9c179e"
             ],
             [
              0.4444444444444444,
              "#bd3786"
             ],
             [
              0.5555555555555556,
              "#d8576b"
             ],
             [
              0.6666666666666666,
              "#ed7953"
             ],
             [
              0.7777777777777778,
              "#fb9f3a"
             ],
             [
              0.8888888888888888,
              "#fdca26"
             ],
             [
              1,
              "#f0f921"
             ]
            ],
            "type": "contour"
           }
          ],
          "contourcarpet": [
           {
            "colorbar": {
             "outlinewidth": 0,
             "ticks": ""
            },
            "type": "contourcarpet"
           }
          ],
          "heatmap": [
           {
            "colorbar": {
             "outlinewidth": 0,
             "ticks": ""
            },
            "colorscale": [
             [
              0,
              "#0d0887"
             ],
             [
              0.1111111111111111,
              "#46039f"
             ],
             [
              0.2222222222222222,
              "#7201a8"
             ],
             [
              0.3333333333333333,
              "#9c179e"
             ],
             [
              0.4444444444444444,
              "#bd3786"
             ],
             [
              0.5555555555555556,
              "#d8576b"
             ],
             [
              0.6666666666666666,
              "#ed7953"
             ],
             [
              0.7777777777777778,
              "#fb9f3a"
             ],
             [
              0.8888888888888888,
              "#fdca26"
             ],
             [
              1,
              "#f0f921"
             ]
            ],
            "type": "heatmap"
           }
          ],
          "heatmapgl": [
           {
            "colorbar": {
             "outlinewidth": 0,
             "ticks": ""
            },
            "colorscale": [
             [
              0,
              "#0d0887"
             ],
             [
              0.1111111111111111,
              "#46039f"
             ],
             [
              0.2222222222222222,
              "#7201a8"
             ],
             [
              0.3333333333333333,
              "#9c179e"
             ],
             [
              0.4444444444444444,
              "#bd3786"
             ],
             [
              0.5555555555555556,
              "#d8576b"
             ],
             [
              0.6666666666666666,
              "#ed7953"
             ],
             [
              0.7777777777777778,
              "#fb9f3a"
             ],
             [
              0.8888888888888888,
              "#fdca26"
             ],
             [
              1,
              "#f0f921"
             ]
            ],
            "type": "heatmapgl"
           }
          ],
          "histogram": [
           {
            "marker": {
             "pattern": {
              "fillmode": "overlay",
              "size": 10,
              "solidity": 0.2
             }
            },
            "type": "histogram"
           }
          ],
          "histogram2d": [
           {
            "colorbar": {
             "outlinewidth": 0,
             "ticks": ""
            },
            "colorscale": [
             [
              0,
              "#0d0887"
             ],
             [
              0.1111111111111111,
              "#46039f"
             ],
             [
              0.2222222222222222,
              "#7201a8"
             ],
             [
              0.3333333333333333,
              "#9c179e"
             ],
             [
              0.4444444444444444,
              "#bd3786"
             ],
             [
              0.5555555555555556,
              "#d8576b"
             ],
             [
              0.6666666666666666,
              "#ed7953"
             ],
             [
              0.7777777777777778,
              "#fb9f3a"
             ],
             [
              0.8888888888888888,
              "#fdca26"
             ],
             [
              1,
              "#f0f921"
             ]
            ],
            "type": "histogram2d"
           }
          ],
          "histogram2dcontour": [
           {
            "colorbar": {
             "outlinewidth": 0,
             "ticks": ""
            },
            "colorscale": [
             [
              0,
              "#0d0887"
             ],
             [
              0.1111111111111111,
              "#46039f"
             ],
             [
              0.2222222222222222,
              "#7201a8"
             ],
             [
              0.3333333333333333,
              "#9c179e"
             ],
             [
              0.4444444444444444,
              "#bd3786"
             ],
             [
              0.5555555555555556,
              "#d8576b"
             ],
             [
              0.6666666666666666,
              "#ed7953"
             ],
             [
              0.7777777777777778,
              "#fb9f3a"
             ],
             [
              0.8888888888888888,
              "#fdca26"
             ],
             [
              1,
              "#f0f921"
             ]
            ],
            "type": "histogram2dcontour"
           }
          ],
          "mesh3d": [
           {
            "colorbar": {
             "outlinewidth": 0,
             "ticks": ""
            },
            "type": "mesh3d"
           }
          ],
          "parcoords": [
           {
            "line": {
             "colorbar": {
              "outlinewidth": 0,
              "ticks": ""
             }
            },
            "type": "parcoords"
           }
          ],
          "pie": [
           {
            "automargin": true,
            "type": "pie"
           }
          ],
          "scatter": [
           {
            "fillpattern": {
             "fillmode": "overlay",
             "size": 10,
             "solidity": 0.2
            },
            "type": "scatter"
           }
          ],
          "scatter3d": [
           {
            "line": {
             "colorbar": {
              "outlinewidth": 0,
              "ticks": ""
             }
            },
            "marker": {
             "colorbar": {
              "outlinewidth": 0,
              "ticks": ""
             }
            },
            "type": "scatter3d"
           }
          ],
          "scattercarpet": [
           {
            "marker": {
             "colorbar": {
              "outlinewidth": 0,
              "ticks": ""
             }
            },
            "type": "scattercarpet"
           }
          ],
          "scattergeo": [
           {
            "marker": {
             "colorbar": {
              "outlinewidth": 0,
              "ticks": ""
             }
            },
            "type": "scattergeo"
           }
          ],
          "scattergl": [
           {
            "marker": {
             "colorbar": {
              "outlinewidth": 0,
              "ticks": ""
             }
            },
            "type": "scattergl"
           }
          ],
          "scattermapbox": [
           {
            "marker": {
             "colorbar": {
              "outlinewidth": 0,
              "ticks": ""
             }
            },
            "type": "scattermapbox"
           }
          ],
          "scatterpolar": [
           {
            "marker": {
             "colorbar": {
              "outlinewidth": 0,
              "ticks": ""
             }
            },
            "type": "scatterpolar"
           }
          ],
          "scatterpolargl": [
           {
            "marker": {
             "colorbar": {
              "outlinewidth": 0,
              "ticks": ""
             }
            },
            "type": "scatterpolargl"
           }
          ],
          "scatterternary": [
           {
            "marker": {
             "colorbar": {
              "outlinewidth": 0,
              "ticks": ""
             }
            },
            "type": "scatterternary"
           }
          ],
          "surface": [
           {
            "colorbar": {
             "outlinewidth": 0,
             "ticks": ""
            },
            "colorscale": [
             [
              0,
              "#0d0887"
             ],
             [
              0.1111111111111111,
              "#46039f"
             ],
             [
              0.2222222222222222,
              "#7201a8"
             ],
             [
              0.3333333333333333,
              "#9c179e"
             ],
             [
              0.4444444444444444,
              "#bd3786"
             ],
             [
              0.5555555555555556,
              "#d8576b"
             ],
             [
              0.6666666666666666,
              "#ed7953"
             ],
             [
              0.7777777777777778,
              "#fb9f3a"
             ],
             [
              0.8888888888888888,
              "#fdca26"
             ],
             [
              1,
              "#f0f921"
             ]
            ],
            "type": "surface"
           }
          ],
          "table": [
           {
            "cells": {
             "fill": {
              "color": "#EBF0F8"
             },
             "line": {
              "color": "white"
             }
            },
            "header": {
             "fill": {
              "color": "#C8D4E3"
             },
             "line": {
              "color": "white"
             }
            },
            "type": "table"
           }
          ]
         },
         "layout": {
          "annotationdefaults": {
           "arrowcolor": "#2a3f5f",
           "arrowhead": 0,
           "arrowwidth": 1
          },
          "autotypenumbers": "strict",
          "coloraxis": {
           "colorbar": {
            "outlinewidth": 0,
            "ticks": ""
           }
          },
          "colorscale": {
           "diverging": [
            [
             0,
             "#8e0152"
            ],
            [
             0.1,
             "#c51b7d"
            ],
            [
             0.2,
             "#de77ae"
            ],
            [
             0.3,
             "#f1b6da"
            ],
            [
             0.4,
             "#fde0ef"
            ],
            [
             0.5,
             "#f7f7f7"
            ],
            [
             0.6,
             "#e6f5d0"
            ],
            [
             0.7,
             "#b8e186"
            ],
            [
             0.8,
             "#7fbc41"
            ],
            [
             0.9,
             "#4d9221"
            ],
            [
             1,
             "#276419"
            ]
           ],
           "sequential": [
            [
             0,
             "#0d0887"
            ],
            [
             0.1111111111111111,
             "#46039f"
            ],
            [
             0.2222222222222222,
             "#7201a8"
            ],
            [
             0.3333333333333333,
             "#9c179e"
            ],
            [
             0.4444444444444444,
             "#bd3786"
            ],
            [
             0.5555555555555556,
             "#d8576b"
            ],
            [
             0.6666666666666666,
             "#ed7953"
            ],
            [
             0.7777777777777778,
             "#fb9f3a"
            ],
            [
             0.8888888888888888,
             "#fdca26"
            ],
            [
             1,
             "#f0f921"
            ]
           ],
           "sequentialminus": [
            [
             0,
             "#0d0887"
            ],
            [
             0.1111111111111111,
             "#46039f"
            ],
            [
             0.2222222222222222,
             "#7201a8"
            ],
            [
             0.3333333333333333,
             "#9c179e"
            ],
            [
             0.4444444444444444,
             "#bd3786"
            ],
            [
             0.5555555555555556,
             "#d8576b"
            ],
            [
             0.6666666666666666,
             "#ed7953"
            ],
            [
             0.7777777777777778,
             "#fb9f3a"
            ],
            [
             0.8888888888888888,
             "#fdca26"
            ],
            [
             1,
             "#f0f921"
            ]
           ]
          },
          "colorway": [
           "#636efa",
           "#EF553B",
           "#00cc96",
           "#ab63fa",
           "#FFA15A",
           "#19d3f3",
           "#FF6692",
           "#B6E880",
           "#FF97FF",
           "#FECB52"
          ],
          "font": {
           "color": "#2a3f5f"
          },
          "geo": {
           "bgcolor": "white",
           "lakecolor": "white",
           "landcolor": "#E5ECF6",
           "showlakes": true,
           "showland": true,
           "subunitcolor": "white"
          },
          "hoverlabel": {
           "align": "left"
          },
          "hovermode": "closest",
          "mapbox": {
           "style": "light"
          },
          "paper_bgcolor": "white",
          "plot_bgcolor": "#E5ECF6",
          "polar": {
           "angularaxis": {
            "gridcolor": "white",
            "linecolor": "white",
            "ticks": ""
           },
           "bgcolor": "#E5ECF6",
           "radialaxis": {
            "gridcolor": "white",
            "linecolor": "white",
            "ticks": ""
           }
          },
          "scene": {
           "xaxis": {
            "backgroundcolor": "#E5ECF6",
            "gridcolor": "white",
            "gridwidth": 2,
            "linecolor": "white",
            "showbackground": true,
            "ticks": "",
            "zerolinecolor": "white"
           },
           "yaxis": {
            "backgroundcolor": "#E5ECF6",
            "gridcolor": "white",
            "gridwidth": 2,
            "linecolor": "white",
            "showbackground": true,
            "ticks": "",
            "zerolinecolor": "white"
           },
           "zaxis": {
            "backgroundcolor": "#E5ECF6",
            "gridcolor": "white",
            "gridwidth": 2,
            "linecolor": "white",
            "showbackground": true,
            "ticks": "",
            "zerolinecolor": "white"
           }
          },
          "shapedefaults": {
           "line": {
            "color": "#2a3f5f"
           }
          },
          "ternary": {
           "aaxis": {
            "gridcolor": "white",
            "linecolor": "white",
            "ticks": ""
           },
           "baxis": {
            "gridcolor": "white",
            "linecolor": "white",
            "ticks": ""
           },
           "bgcolor": "#E5ECF6",
           "caxis": {
            "gridcolor": "white",
            "linecolor": "white",
            "ticks": ""
           }
          },
          "title": {
           "x": 0.05
          },
          "xaxis": {
           "automargin": true,
           "gridcolor": "white",
           "linecolor": "white",
           "ticks": "",
           "title": {
            "standoff": 15
           },
           "zerolinecolor": "white",
           "zerolinewidth": 2
          },
          "yaxis": {
           "automargin": true,
           "gridcolor": "white",
           "linecolor": "white",
           "ticks": "",
           "title": {
            "standoff": 15
           },
           "zerolinecolor": "white",
           "zerolinewidth": 2
          }
         }
        }
       }
      }
     },
     "metadata": {},
     "output_type": "display_data"
    }
   ],
   "source": [
    "import plotly.express as px\n",
    "import numpy as np\n",
    "import seaborn as sns\n",
    "\n",
    "# create a color palette based on the \"family\" column\n",
    "# get a list of unique values in the \"family\" column\n",
    "unique_families = fdf['family'].unique()\n",
    "# set the color palette to use 3-digit RGB values\n",
    "\n",
    "family_counts = fdf['family'].value_counts()\n",
    "    \n",
    "# # combine categories with an occurrence below 5% into a new category called \"other\"\n",
    "# other_count = family_counts[family_counts < 0.05 * family_counts.sum()].sum()\n",
    "# family_counts = family_counts[family_counts >= 0.05 * family_counts.sum()]\n",
    "# family_counts['other'] = other_count\n",
    "\n",
    "# combine categories with an occurrence below 5% into a new category called \"other\"\n",
    "other_count = family_counts[family_counts < 0.03 * family_counts.sum()].sum()\n",
    "family_counts = family_counts[family_counts >= 0.03 * family_counts.sum()]\n",
    "family_counts['other'] = other_count\n",
    "# create a pie chart for the current cluster using the colors from the \"family_colors\" dictionary\n",
    "\n",
    "# create a list of colors based on the \"colorblind\" color palette\n",
    "palette_list = sns.color_palette('colorblind', n_colors=len(family_counts.index), as_cmap=True)\n",
    "palette_list = palette_list * (len(family_counts.index) // len(palette_list) + 1)\n",
    "\n",
    "# create a dictionary that maps each unique family to a specific color in the \"husl\" color palette\n",
    "family_colors = {family: palette_list[i] for i, family in enumerate(family_counts.index)}\n",
    "family_colors['other'] = 'gray'\n",
    "\n",
    "\n",
    "# create a list of colors based on the \"husl\" color palette\n",
    "palette_list = sns.color_palette('colorblind', n_colors=len(family_counts), as_cmap=True)\n",
    "palette_list = palette_list * (len(family_counts.index) // len(palette_list) + 1)\n",
    "\n",
    "# create a dictionary that maps each unique family to a specific color in the \"husl\" color palette\n",
    "family_colors = {family: palette_list[i] for i, family in enumerate(family_counts.index)}\n",
    "# family_colors['other'] = 'gray'\n",
    "path=['phylum', 'class', 'order', 'family', 'Organism']\n",
    "fig = px.sunburst(fdf, path=path, \n",
    "                  values=fdf.index,\n",
    "                  color='family',\n",
    "                  color_discrete_map=family_colors,\n",
    "                  branchvalues='total')\n",
    "                  \n",
    "                #   color_continuous_midpoint = 125)\n",
    "                #   color_continuous_midpoint=np.average(fdf['seq_len'], weights=fdf.index))\n",
    "\n",
    "\n",
    "# show the diagram\n",
    "fig.show()\n",
    "fig.write_image('sunburst/sunburst_new.svg', format='svg')"
   ]
  },
  {
   "cell_type": "markdown",
   "metadata": {},
   "source": [
    "# Lengths Histogram"
   ]
  },
  {
   "cell_type": "code",
   "execution_count": 8,
   "metadata": {},
   "outputs": [
    {
     "data": {
      "image/png": "[encoded data removed]",
      "text/plain": [
       "<Figure size 500x300 with 1 Axes>"
      ]
     },
     "metadata": {},
     "output_type": "display_data"
    },
    {
     "name": "stdout",
     "output_type": "stream",
     "text": [
      "Number of sequences: 2265\n",
      " Minimum sequence length: 26\n",
      " Maximum sequence length: 411\n",
      "\n",
      "Number of small sequences: 1707 - 75.36423841059603% of total\n",
      " Average length: 97.01523140011716\n",
      " Median length: 98.0\n",
      "\n",
      "Number of big sequences: 257 - 11.346578366445916% of total\n",
      " Average length: 224.6770428015564\n",
      " Median length: 222.0\n"
     ]
    }
   ],
   "source": [
    "# calculate the bin edges based on the maximum and minimum values of the data and the desired bin width\n",
    "\n",
    "# bdf=fdf\n",
    "bin_width = 2\n",
    "min_seq_len = bdf['Length'].min()\n",
    "max_seq_len = bdf['Length'].max()\n",
    "bins = np.arange(min_seq_len, max_seq_len + bin_width, bin_width)\n",
    "\n",
    "# group the data by cluster_num\n",
    "\n",
    "\n",
    "# plot a histogram for each group\n",
    "fig, ax = plt.subplots(figsize=(5, 3))\n",
    "bdf.hist(column='Length', bins=bins, color='red', alpha=0.8, ax=ax)\n",
    "\n",
    "ax.set_title(f'DUF4176 family - {len(bdf)} sequences')\n",
    "ax.set_xlabel('Sequence Length')\n",
    "ax.set_ylabel('Frequency')\n",
    "ax.set_xlim(0, max_seq_len)\n",
    "ax.set_ylim(0, 180)\n",
    "ax.set_xticks([0, 75, 150, 225, 300, 375])\n",
    "ax.set_yticks(np.linspace(0, ax.get_ylim()[1], 5).astype(int))\n",
    "ax.grid(False)  # turn off the grid lines\n",
    "\n",
    "# add vertical dotted lines\n",
    "ax.axvline(x=70, color='black', linestyle='--', alpha=0.4)\n",
    "ax.axvline(x=130, color='black', linestyle='--', alpha=0.4)\n",
    "ax.axvline(x=200, color='black', linestyle='--', alpha=0.4)\n",
    "ax.axvline(x=250, color='black', linestyle='--', alpha=0.4)\n",
    "\n",
    "plt.tight_layout()\n",
    "plt.savefig(f'plots_histograms/Whole_DUF4176_Frequency.svg')\n",
    "plt.show()\n",
    "\n",
    "print(f'Number of sequences: {len(bdf)}\\n Minimum sequence length: {min_seq_len}\\n Maximum sequence length: {max_seq_len}')\n",
    "\n",
    "# small_duf = bdf.loc[bdf['Length'] < 125 & bdf['Length'] > 75]\n",
    "small_duf = bdf.loc[(bdf['Length'] < 130) & (bdf['Length'] > 70)]\n",
    "big_duf = bdf.loc[(bdf['Length'] > 195) & (bdf['Length'] < 255)]\n",
    "\n",
    "print(f'\\nNumber of small sequences: {len(small_duf)} - {len(small_duf)/len(bdf)*100}% of total\\n Average length: {np.average(small_duf[\"Length\"])}\\n Median length: {np.median(small_duf[\"Length\"])}')\n",
    "\n",
    "print(f'\\nNumber of big sequences: {len(big_duf)} - {len(big_duf)/len(bdf)*100}% of total\\n Average length: {np.average(big_duf[\"Length\"])}\\n Median length: {np.median(big_duf[\"Length\"])}')\n"
   ]
  },
  {
   "cell_type": "markdown",
   "metadata": {},
   "source": [
    "# Extract info for the accessions of interest \n",
    " Select ~3 operons for 5 clusters (1-4,6) manually\n",
    "\t- Mark as \"of interest\" via new column on big accession dataframe \n",
    "\t- run genbank retrieval -> switch to CDS\n",
    "\t- Create ~50 sequence alignments by cluster with accessions of interest assured to be within the list. "
   ]
  },
  {
   "cell_type": "code",
   "execution_count": 9,
   "metadata": {},
   "outputs": [],
   "source": [
    "clusters = [x for x in range(1, 5)] + [6]\n",
    "int_acc_df = pd.read_csv('input_files/accs_of_interest.csv')\n",
    "\n",
    "sel_df = pd.merge(int_acc_df, bdf, left_on='accession', right_on='Entry', how='left')\n",
    "sel_df = sel_df.rename(columns={'assigned_cluster': 'cluster_num'})\n",
    "\n",
    "#to avoid changing downstream scirpt\n",
    "accs_df = sel_df\n",
    "accs_df['Gene Names'] = accs_df['Gene Names'].str.split(\" \").str[0]\n",
    "\n",
    "accs_df = accs_df.rename(columns={'Gene Names': 'gene_name'})\n",
    "accs_df['EMBL'] = accs_df['EMBL'].str.split(\";\").str[0]\n",
    "\n"
   ]
  },
  {
   "cell_type": "markdown",
   "metadata": {},
   "source": [
    "# EMBL retreival functions\n",
    "- Need to create directory structure ./cluster/operon/genbanks\n",
    "- Bring in code from embl notebook \n",
    "- adapt to directory structure"
   ]
  },
  {
   "cell_type": "code",
   "execution_count": 10,
   "metadata": {},
   "outputs": [
    {
     "name": "stdout",
     "output_type": "stream",
     "text": [
      "Accession: A0A8B4ISZ8, Gene Name: NCTC3858_01460, EMBL: LS483397\n",
      "Accession LS483397.1 \n",
      " GeneStart 1386170 \n",
      " GeneStop 1386461\n",
      "Accession: A0A1X1JWW4, Gene Name: B7700_09675, EMBL: NCVF01000026\n",
      "Accession NCVF01000026.1 \n",
      " GeneStart 219855 \n",
      " GeneStop 220167\n",
      "Accession: T1ZCF9, Gene Name: SIR_0168, EMBL: CP003857\n",
      "Accession CP003857.1 \n",
      " GeneStart 165187 \n",
      " GeneStop 165847\n",
      "Accession: T1ZCG6, Gene Name: SIR_0178, EMBL: CP003857\n",
      "Accession CP003857.1 \n",
      " GeneStart 179185 \n",
      " GeneStop 179899\n",
      "Accession: A0A091BL67, Gene Name: H702_09920, EMBL: AUZH01000037\n",
      "Accession AUZH01000037.1 \n",
      " GeneStart 3635 \n",
      " GeneStop 4331\n",
      "Accession: A0A1E5KV91, Gene Name: BCR26_04510, EMBL: MIEK01000045\n",
      "Accession MIEK01000045.1 \n",
      " GeneStart 102894 \n",
      " GeneStop 103290\n",
      "Accession: A0A1H9B3K6, Gene Name: SAMN05216346_10286, EMBL: FOEX01000002\n",
      "Accession FOEX01000002.1 \n",
      " GeneStart 86496 \n",
      " GeneStop 86793\n",
      "Accession: A0A841YHN3, Gene Name: HB844_13120, EMBL: JAARPY010000018\n",
      "Accession JAARPY010000018.1 \n",
      " GeneStart 5672 \n",
      " GeneStop 5987\n",
      "Accession: A0A084AD27, Gene Name: U725_00666, EMBL: AZSI01000013\n",
      "Accession AZSI01000013.1 \n",
      " GeneStart 76781 \n",
      " GeneStop 77222\n",
      "Accession: A0A1X1HW38, Gene Name: B7714_09205, EMBL: NCUR01000010\n",
      "Accession NCUR01000010.1 \n",
      " GeneStart 989712 \n",
      " GeneStop 990015\n",
      "Accession: A0A428EG16, Gene Name: D8839_01340, EMBL: RJOE01000002\n",
      "Accession RJOE01000002.1 \n",
      " GeneStart 67972 \n",
      " GeneStop 68296\n",
      "Accession: J7Y3Y8, Gene Name: IEQ_01847, EMBL: AHDP01000020\n",
      "Accession AHDP01000020.1 \n",
      " GeneStart 38095 \n",
      " GeneStop 38344\n",
      "Accession: A0A0A0WNM1, Gene Name: BWINRASL_02026, EMBL: FMJH01000018\n",
      "Accession FMJH01000018.1 \n",
      " GeneStart 216192 \n",
      " GeneStop 216441\n",
      "Accession: A0A1W6A4D0, Gene Name: B7492_05265, EMBL: CP020743\n",
      "Accession CP020743.1 \n",
      " GeneStart 1010882 \n",
      " GeneStop 1011131\n",
      "Accession: A0A2A7DD28, Gene Name: CON16_05395, EMBL: NVLX01000007\n",
      "Accession NVLX01000007.1 \n",
      " GeneStart 104188 \n",
      " GeneStop 104437\n",
      "Accession: B4U1P1, Gene Name: Sez_0536, EMBL: CP001129\n",
      "Accession CP001129.1 \n",
      " GeneStart 565533 \n",
      " GeneStop 565863\n",
      "Accession: C8NIU9, Gene Name: HMPREF0444_1844, EMBL: ACKZ01000029\n",
      "Accession ACKZ01000029.1 \n",
      " GeneStart 114503 \n",
      " GeneStop 114833\n",
      "Accession: E8K2X5, Gene Name: HMPREF9423_1838, EMBL: AEVD01000018\n",
      "Accession AEVD01000018.1 \n",
      " GeneStart 11972 \n",
      " GeneStop 12302\n"
     ]
    }
   ],
   "source": [
    "from Bio import Entrez\n",
    "from Bio import SeqIO\n",
    "import requests\n",
    "import xml.etree.ElementTree as ET\n",
    "import os\n",
    "import subprocess\n",
    "import glob\n",
    "import pandas as pd\n",
    "\n",
    "# Replace with your email address\n",
    "Entrez.email = \"dirkgrebenc@gmail.com\"\n",
    "\n",
    "# Function to fetch a region around a gene from the parent genome\n",
    "def fetch_genomic_region(chr_accession, start, end, strand, bp_upstream=3500, bp_downstream=3500):\n",
    "    if strand == \"plus\":\n",
    "        start = start - bp_upstream\n",
    "        end = end + bp_downstream\n",
    "    else:\n",
    "        start = start - bp_downstream\n",
    "        end = end + bp_upstream\n",
    "\n",
    "    handle = Entrez.efetch(db=\"nucleotide\", id=chr_accession, rettype=\"gb\", retmode=\"text\", seq_start=start, seq_stop=end)\n",
    "    record = SeqIO.read(handle, \"gb\")\n",
    "    handle.close()\n",
    "\n",
    "    return record\n",
    "\n",
    "\n",
    "def fetch_gene_info(genbank_id, gene_name):\n",
    "\n",
    "    try:\n",
    "        handle = Entrez.efetch(db=\"nucleotide\", id=genbank_id, rettype=\"gb\", retmode=\"text\")\n",
    "        record = SeqIO.read(handle, \"gb\")\n",
    "        handle.close()\n",
    "\n",
    "        for feature in record.features:\n",
    "            # print(feature.qualifiers)\n",
    "            if feature.type == \"gene\" and 'locus_tag' in feature.qualifiers:\n",
    "                if gene_name in feature.qualifiers['locus_tag']:\n",
    "                    chr_accession = record.id\n",
    "                    gene_start = int(feature.location.start)\n",
    "                    gene_end = int(feature.location.end)\n",
    "                    gene_strand = 'plus' if feature.location.strand == 1 else 'minus'\n",
    "                    return chr_accession, gene_start, gene_end, gene_strand\n",
    "                else:\n",
    "                    continue\n",
    "            else:\n",
    "                continue      \n",
    "    except Exception as e:\n",
    "        print(f\"Error fetching gene info for GenBank ID {genbank_id}: {e}\")\n",
    "        return None, None, None, None\n",
    "\n",
    "# Use the truncated df of genes of interest\n",
    "\n",
    "clusters = [x for x in range(1, 5)] + [6]\n",
    "for cluster in clusters:\n",
    "    active_df = accs_df[accs_df['cluster_num'] == cluster]\n",
    "    cluster_path = f'genbanks/cluster_{cluster}'\n",
    "    os.makedirs(cluster_path, exist_ok=True)\n",
    "    accs_triple = active_df[['gene_name', 'EMBL', 'accession']]\n",
    "    accs_triple \n",
    "\n",
    "    for row, col in accs_triple.iterrows():\n",
    "        print(f\"Accession: {col[2]}, Gene Name: {col[0]}, EMBL: {col[1]}\")    \n",
    "        chr_accession, gene_start, gene_end, gene_strand = fetch_gene_info(col[1], col[0])\n",
    "        print(f\"Accession {chr_accession} \\n GeneStart {gene_start} \\n GeneStop {gene_end}\" )\n",
    "        gb_record = fetch_genomic_region(chr_accession, gene_start, gene_end, gene_strand)\n",
    "        genbank_file_path = f'{cluster_path}/{col[2]}_region.gb'\n",
    "        with open(genbank_file_path, \"w\") as output_file:\n",
    "            SeqIO.write(gb_record, output_file, \"gb\")"
   ]
  },
  {
   "cell_type": "markdown",
   "metadata": {},
   "source": [
    "# Run clinker on cluster directories"
   ]
  },
  {
   "cell_type": "code",
   "execution_count": 11,
   "metadata": {},
   "outputs": [
    {
     "name": "stderr",
     "output_type": "stream",
     "text": [
      "[15:26:30] INFO - Starting clinker\n",
      "[15:26:30] INFO - Parsing files:\n",
      "[15:26:30] INFO -   C8NIU9_region.gb\n",
      "[15:26:31] INFO -   E8K2X5_region.gb\n",
      "/Users/dirk/miniconda3/envs/af2_tools/lib/python3.9/site-packages/Bio/Seq.py:2804: BiopythonWarning: Partial codon, len(sequence) not a multiple of three. Explicitly trim the sequence or add trailing N before translation. This may become an error in future.\n",
      "  warnings.warn(\n",
      "[15:26:31] INFO -   B4U1P1_region.gb\n",
      "[15:26:31] INFO - Starting cluster alignments\n",
      "[15:26:32] INFO - C8NIU9_region vs E8K2X5_region\n",
      "[15:26:32] INFO - C8NIU9_region vs B4U1P1_region\n",
      "[15:26:32] INFO - E8K2X5_region vs B4U1P1_region\n",
      "[15:26:32] INFO - Generating results summary...\n",
      "[15:26:32] INFO - Writing alignments to: genbanks/cluster_6/cluster_6_alignments.tsv\n",
      "[15:26:32] INFO - Building clustermap.js visualisation\n",
      "[15:26:32] INFO - Writing to: genbanks/cluster_6/cluster_6_plot.html\n",
      "[15:26:32] INFO - Done!\n",
      "[15:26:33] INFO - Starting clinker\n",
      "[15:26:33] INFO - Parsing files:\n",
      "[15:26:33] INFO -   T1ZCF9_region.gb\n",
      "[15:26:33] INFO -   T1ZCG6_region.gb\n",
      "/Users/dirk/miniconda3/envs/af2_tools/lib/python3.9/site-packages/Bio/Seq.py:2804: BiopythonWarning: Partial codon, len(sequence) not a multiple of three. Explicitly trim the sequence or add trailing N before translation. This may become an error in future.\n",
      "  warnings.warn(\n",
      "[15:26:33] INFO -   A0A8B4ISZ8_region.gb\n",
      "[15:26:33] INFO -   A0A1X1JWW4_region.gb\n",
      "[15:26:33] INFO -   A0A091BL67_region.gb\n",
      "[15:26:33] INFO - Starting cluster alignments\n",
      "[15:26:34] INFO - T1ZCF9_region vs T1ZCG6_region\n",
      "[15:26:34] INFO - T1ZCF9_region vs A0A8B4ISZ8_region\n",
      "[15:26:34] INFO - T1ZCF9_region vs A0A1X1JWW4_region\n",
      "[15:26:34] INFO - T1ZCF9_region vs A0A091BL67_region\n",
      "[15:26:34] INFO - T1ZCG6_region vs A0A8B4ISZ8_region\n",
      "[15:26:34] INFO - T1ZCG6_region vs A0A1X1JWW4_region\n",
      "[15:26:34] INFO - T1ZCG6_region vs A0A091BL67_region\n",
      "[15:26:34] INFO - A0A8B4ISZ8_region vs A0A1X1JWW4_region\n",
      "[15:26:34] INFO - A0A8B4ISZ8_region vs A0A091BL67_region\n",
      "[15:26:34] INFO - A0A1X1JWW4_region vs A0A091BL67_region\n",
      "[15:26:35] INFO - Generating results summary...\n",
      "[15:26:35] INFO - Writing alignments to: genbanks/cluster_1/cluster_1_alignments.tsv\n",
      "[15:26:35] INFO - Building clustermap.js visualisation\n",
      "[15:26:35] INFO - Writing to: genbanks/cluster_1/cluster_1_plot.html\n",
      "[15:26:35] INFO - Done!\n",
      "[15:26:36] INFO - Starting clinker\n",
      "[15:26:36] INFO - Parsing files:\n",
      "[15:26:36] INFO -   GC1825_00260_region.gb\n",
      "[15:26:36] WARNING - Could not find parent gene of <unknown id>. Using coding sequence coordinates instead.\n",
      "/Users/dirk/miniconda3/envs/af2_tools/lib/python3.9/site-packages/Bio/Seq.py:2804: BiopythonWarning: Partial codon, len(sequence) not a multiple of three. Explicitly trim the sequence or add trailing N before translation. This may become an error in future.\n",
      "  warnings.warn(\n",
      "[15:26:36] WARNING - Could not find parent gene of <unknown id>. Using coding sequence coordinates instead.\n",
      "[15:26:36] WARNING - Could not find parent gene of <unknown id>. Using coding sequence coordinates instead.\n",
      "[15:26:36] WARNING - Could not find parent gene of <unknown id>. Using coding sequence coordinates instead.\n",
      "[15:26:36] WARNING - Could not find parent gene of <unknown id>. Using coding sequence coordinates instead.\n",
      "[15:26:36] WARNING - Could not find parent gene of <unknown id>. Using coding sequence coordinates instead.\n",
      "[15:26:36] WARNING - Could not find parent gene of <unknown id>. Using coding sequence coordinates instead.\n",
      "[15:26:36] WARNING - Could not find parent gene of <unknown id>. Using coding sequence coordinates instead.\n",
      "[15:26:36] WARNING - Could not find parent gene of <unknown id>. Using coding sequence coordinates instead.\n",
      "[15:26:36] WARNING - Could not find parent gene of <unknown id>. Using coding sequence coordinates instead.\n",
      "[15:26:36] WARNING - Could not find parent gene of <unknown id>. Using coding sequence coordinates instead.\n",
      "[15:26:36] WARNING - Could not find parent gene of <unknown id>. Using coding sequence coordinates instead.\n",
      "[15:26:36] INFO -   A0A841YHN3_region.gb\n",
      "[15:26:36] INFO -   A0A1E5KV91_region.gb\n",
      "[15:26:36] INFO -   A0A1H9B3K6_region.gb\n",
      "[15:26:36] INFO - Starting cluster alignments\n",
      "[15:26:37] INFO - GC1825_00260_region vs A0A1E5KV91_region\n",
      "[15:26:37] INFO - GC1825_00260_region vs A0A841YHN3_region\n",
      "[15:26:37] INFO - GC1825_00260_region vs A0A1H9B3K6_region\n",
      "[15:26:37] INFO - A0A841YHN3_region vs A0A1E5KV91_region\n",
      "[15:26:37] INFO - A0A841YHN3_region vs A0A1H9B3K6_region\n",
      "[15:26:37] INFO - A0A1E5KV91_region vs A0A1H9B3K6_region\n",
      "[15:26:37] INFO - Generating results summary...\n",
      "[15:26:37] INFO - Writing alignments to: genbanks/cluster_2/cluster_2_alignments.tsv\n",
      "[15:26:37] INFO - Building clustermap.js visualisation\n",
      "[15:26:37] INFO - Writing to: genbanks/cluster_2/cluster_2_plot.html\n",
      "[15:26:37] INFO - Done!\n",
      "[15:26:38] INFO - Starting clinker\n",
      "[15:26:38] INFO - Parsing files:\n",
      "[15:26:38] INFO -   A0A0A0WNM1_region.gb\n",
      "/Users/dirk/miniconda3/envs/af2_tools/lib/python3.9/site-packages/Bio/Seq.py:2804: BiopythonWarning: Partial codon, len(sequence) not a multiple of three. Explicitly trim the sequence or add trailing N before translation. This may become an error in future.\n",
      "  warnings.warn(\n",
      "[15:26:38] INFO -   J7Y3Y8_region.gb\n",
      "[15:26:38] INFO -   A0A1W6A4D0_region.gb\n",
      "[15:26:38] INFO -   A0A2A7DD28_region.gb\n",
      "[15:26:38] INFO - Starting cluster alignments\n",
      "[15:26:39] INFO - A0A0A0WNM1_region vs J7Y3Y8_region\n",
      "[15:26:39] INFO - A0A0A0WNM1_region vs A0A1W6A4D0_region\n",
      "[15:26:39] INFO - A0A0A0WNM1_region vs A0A2A7DD28_region\n",
      "[15:26:39] INFO - J7Y3Y8_region vs A0A1W6A4D0_region\n",
      "[15:26:39] INFO - J7Y3Y8_region vs A0A2A7DD28_region\n",
      "[15:26:39] INFO - A0A1W6A4D0_region vs A0A2A7DD28_region\n",
      "[15:26:39] INFO - Generating results summary...\n",
      "[15:26:39] INFO - Writing alignments to: genbanks/cluster_4/cluster_4_alignments.tsv\n",
      "[15:26:40] INFO - Building clustermap.js visualisation\n",
      "[15:26:40] INFO - Writing to: genbanks/cluster_4/cluster_4_plot.html\n",
      "[15:26:40] INFO - Done!\n",
      "[15:26:40] INFO - Starting clinker\n",
      "[15:26:40] INFO - Parsing files:\n",
      "[15:26:40] INFO -   A0A428EG16_region.gb\n",
      "[15:26:40] INFO -   A0A084AD27_region.gb\n",
      "/Users/dirk/miniconda3/envs/af2_tools/lib/python3.9/site-packages/Bio/Seq.py:2804: BiopythonWarning: Partial codon, len(sequence) not a multiple of three. Explicitly trim the sequence or add trailing N before translation. This may become an error in future.\n",
      "  warnings.warn(\n",
      "[15:26:40] INFO -   A0A1X1HW38_region.gb\n",
      "[15:26:40] INFO - Starting cluster alignments\n",
      "[15:26:42] INFO - A0A428EG16_region vs A0A084AD27_region\n",
      "[15:26:42] INFO - A0A428EG16_region vs A0A1X1HW38_region\n",
      "[15:26:42] INFO - A0A084AD27_region vs A0A1X1HW38_region\n",
      "[15:26:42] INFO - Generating results summary...\n",
      "[15:26:42] INFO - Writing alignments to: genbanks/cluster_3/cluster_3_alignments.tsv\n",
      "[15:26:42] INFO - Building clustermap.js visualisation\n",
      "[15:26:42] INFO - Writing to: genbanks/cluster_3/cluster_3_plot.html\n",
      "[15:26:42] INFO - Done!\n"
     ]
    }
   ],
   "source": [
    "def run_clinker(parent_directory, identity_threshold=0.2, delimiter=\"\\t\", decimals=4):\n",
    "    # Run clinker with the specified options\n",
    "    name = os.path.basename(parent_directory)\n",
    "    plot_output = os.path.join(parent_directory, f\"{name}_plot.html\")\n",
    "    output_file = os.path.join(parent_directory, f\"{name}_alignments.tsv\")\n",
    "\n",
    "    subprocess.run(\n",
    "        [\n",
    "            \"clinker\",\n",
    "            \"-i\",\n",
    "            str(identity_threshold),\n",
    "            \"-o\",\n",
    "            output_file,\n",
    "            \"-dl\",\n",
    "            delimiter,\n",
    "            \"-dc\",\n",
    "            str(decimals),\n",
    "            \"-p\",\n",
    "            plot_output,\n",
    "            parent_directory\n",
    "        ]\n",
    "    )\n",
    "    return\n",
    "\n",
    "import glob\n",
    "\n",
    "cluster_paths = glob.glob('genbanks/cluster_*')\n",
    "for path in cluster_paths:\n",
    "    run_clinker(path)\n"
   ]
  },
  {
   "cell_type": "markdown",
   "metadata": {},
   "source": [
    "\n"
   ]
  }
 ],
 "metadata": {
  "kernelspec": {
   "display_name": "af2_tools",
   "language": "python",
   "name": "python3"
  },
  "language_info": {
   "codemirror_mode": {
    "name": "ipython",
    "version": 3
   },
   "file_extension": ".py",
   "mimetype": "text/x-python",
   "name": "python",
   "nbconvert_exporter": "python",
   "pygments_lexer": "ipython3",
   "version": "3.9.13"
  },
  "orig_nbformat": 4
 },
 "nbformat": 4,
 "nbformat_minor": 2
}
